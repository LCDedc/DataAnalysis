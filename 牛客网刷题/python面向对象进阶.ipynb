{
 "cells": [
  {
   "cell_type": "code",
   "execution_count": 5,
   "metadata": {
    "collapsed": true
   },
   "outputs": [
    {
     "name": "stdout",
     "output_type": "stream",
     "text": [
      "王大治正在玩飞行棋.\n",
      "王大治正在玩斗地主.\n",
      "王大治\n"
     ]
    },
    {
     "ename": "AttributeError",
     "evalue": "can't set attribute 'name'",
     "output_type": "error",
     "traceback": [
      "\u001B[0;31m---------------------------------------------------------------------------\u001B[0m",
      "\u001B[0;31mAttributeError\u001B[0m                            Traceback (most recent call last)",
      "Input \u001B[0;32mIn [5]\u001B[0m, in \u001B[0;36m<cell line: 35>\u001B[0;34m()\u001B[0m\n\u001B[1;32m     34\u001B[0m     person\u001B[38;5;241m.\u001B[39mname\u001B[38;5;241m=\u001B[39m\u001B[38;5;124m'\u001B[39m\u001B[38;5;124m谢霆锋\u001B[39m\u001B[38;5;124m'\u001B[39m\n\u001B[1;32m     35\u001B[0m \u001B[38;5;28;01mif\u001B[39;00m \u001B[38;5;18m__name__\u001B[39m\u001B[38;5;241m==\u001B[39m\u001B[38;5;124m'\u001B[39m\u001B[38;5;124m__main__\u001B[39m\u001B[38;5;124m'\u001B[39m:\n\u001B[0;32m---> 36\u001B[0m     \u001B[43mmain\u001B[49m\u001B[43m(\u001B[49m\u001B[43m)\u001B[49m\n",
      "Input \u001B[0;32mIn [5]\u001B[0m, in \u001B[0;36mmain\u001B[0;34m()\u001B[0m\n\u001B[1;32m     32\u001B[0m person\u001B[38;5;241m.\u001B[39mplay()\n\u001B[1;32m     33\u001B[0m \u001B[38;5;28mprint\u001B[39m(person\u001B[38;5;241m.\u001B[39mname)\n\u001B[0;32m---> 34\u001B[0m person\u001B[38;5;241m.\u001B[39mname\u001B[38;5;241m=\u001B[39m\u001B[38;5;124m'\u001B[39m\u001B[38;5;124m谢霆锋\u001B[39m\u001B[38;5;124m'\u001B[39m\n",
      "\u001B[0;31mAttributeError\u001B[0m: can't set attribute 'name'"
     ]
    }
   ],
   "source": [
    "#property装饰器\n",
    "class Person(object):\n",
    "    def __init__(self, name, age):\n",
    "        self._name = name\n",
    "        self._age = age\n",
    "\n",
    "    #访问器，getter方法\n",
    "    @property\n",
    "    def name(self):  #只能调用，不能重新赋值\n",
    "        return self._name\n",
    "\n",
    "    #访问器，getter方法\n",
    "    @property\n",
    "    def age(self):\n",
    "        return self._age\n",
    "\n",
    "    #修改器方法\n",
    "    @age.setter\n",
    "    def age(self, age):  #可以重新赋值\n",
    "        self._age = age\n",
    "\n",
    "    def play(self):\n",
    "        if self._age <= 16:\n",
    "            print('%s正在玩飞行棋.' % self._name)\n",
    "        else:\n",
    "            print('%s正在玩斗地主.' % self._name)\n",
    "\n",
    "\n",
    "def main():\n",
    "    person = Person('王大治', 12)\n",
    "    person.play()\n",
    "    person.age = 22\n",
    "    person.play()\n",
    "    print(person.name)\n",
    "    person.name = '谢霆锋'\n",
    "\n",
    "\n",
    "if __name__ == '__main__':\n",
    "    main()"
   ]
  },
  {
   "cell_type": "markdown",
   "source": [
    "###__slots__魔法\n",
    "\n",
    "我们讲到这里，不知道大家是否已经意识到，Python是一门动态语言。通常，动态语言允许我们在程序运行时给对象绑定新的属性或方法，当然也可以对已经绑定的属性和方法进行解绑定。但是如果我们需要限定自定义类型的对象只能绑定某些属性，可以通过在类中定义__slots__变量来进行限定。需要注意的是__slots__的限定只对当前类的对象生效，对子类并不起任何作用。"
   ],
   "metadata": {
    "collapsed": false,
    "pycharm": {
     "name": "#%% md\n"
    }
   }
  },
  {
   "cell_type": "code",
   "execution_count": 8,
   "outputs": [
    {
     "name": "stdout",
     "output_type": "stream",
     "text": [
      "王大锤正在玩斗地主.\n"
     ]
    }
   ],
   "source": [
    "class Person(object):\n",
    "    # 限定Person对象只能绑定_name, _age和_gender属性\n",
    "    __slots__ = ('_name', '_age', '_gender')\n",
    "\n",
    "    def __init__(self, name, age):\n",
    "        self._name = name\n",
    "        self._age = age\n",
    "\n",
    "    @property\n",
    "    def name(self):\n",
    "        return self._name\n",
    "\n",
    "    @property\n",
    "    def age(self):\n",
    "        return self._age\n",
    "\n",
    "    @age.setter\n",
    "    def age(self, age):\n",
    "        self._age = age\n",
    "\n",
    "    def play(self):\n",
    "        if self._age <= 16:\n",
    "            print('%s正在玩飞行棋.' % self._name)\n",
    "        else:\n",
    "            print('%s正在玩斗地主.' % self._name)\n",
    "\n",
    "\n",
    "def main():\n",
    "    person = Person('王大锤', 22)\n",
    "    person.play()\n",
    "    person._gender = '男'\n",
    "    # AttributeError: 'Person' object has no attribute '_is_gay'\n",
    "    # person._is_gay = True\n",
    "\n",
    "\n",
    "if __name__ == '__main__':\n",
    "    main()"
   ],
   "metadata": {
    "collapsed": false,
    "pycharm": {
     "name": "#%%\n"
    }
   }
  },
  {
   "cell_type": "markdown",
   "source": [
    "### 静态方法和类方法\n",
    "\n",
    "之前，我们在类中定义的方法都是对象方法，也就是说这些方法都是发送给对象的消息。实际上，我们写在类中的方法并不需要都是对象方法，例如我们定义一个“三角形”类，通过传入三条边长来构造三角形，并提供计算周长和面积的方法，但是传入的三条边长未必能构造出三角形对象，因此我们可以先写一个方法来验证三条边长是否可以构成三角形，这个方法很显然就不是对象方法，因为在调用这个方法时三角形对象尚未创建出来（因为都不知道三条边能不能构成三角形），所以这个方法是属于三角形类而并不属于三角形对象的。我们可以使用静态方法来解决这类问题，代码如下所示"
   ],
   "metadata": {
    "collapsed": false,
    "pycharm": {
     "name": "#%% md\n"
    }
   }
  },
  {
   "cell_type": "code",
   "execution_count": 9,
   "outputs": [
    {
     "name": "stdout",
     "output_type": "stream",
     "text": [
      "12\n",
      "6.0\n"
     ]
    }
   ],
   "source": [
    "from math import sqrt\n",
    "\n",
    "\n",
    "class Triangle(object):\n",
    "\n",
    "    def __init__(self, a, b, c):\n",
    "        self._a = a\n",
    "        self._b = b\n",
    "        self._c = c\n",
    "\n",
    "    #这样可以不用实例化类的情况下直接访问is_valid的方法\n",
    "    @staticmethod\n",
    "    def is_valid(a, b, c):\n",
    "        return a + b > c and b + c > a and a + c > b\n",
    "\n",
    "    def perimeter(self):\n",
    "        return self._a + self._b + self._c\n",
    "\n",
    "    def area(self):\n",
    "        half = self.perimeter() / 2\n",
    "        return sqrt(half * (half - self._a) *\n",
    "                    (half - self._b) * (half - self._c))\n",
    "\n",
    "\n",
    "def main():\n",
    "    a, b, c = 3, 4, 5\n",
    "    # 静态方法和类方法都是通过给类发消息来调用的\n",
    "    if Triangle.is_valid(a, b, c):\n",
    "        t = Triangle(a, b, c)\n",
    "        print(t.perimeter())\n",
    "        # 也可以通过给类发消息来调用对象方法但是要传入接收消息的对象作为参数\n",
    "        # print(Triangle.perimeter(t))\n",
    "        print(t.area())\n",
    "        # print(Triangle.area(t))\n",
    "    else:\n",
    "        print('无法构成三角形.')\n",
    "\n",
    "\n",
    "if __name__ == '__main__':\n",
    "    main()"
   ],
   "metadata": {
    "collapsed": false,
    "pycharm": {
     "name": "#%%\n"
    }
   }
  },
  {
   "cell_type": "markdown",
   "source": [
    "和静态方法比较类似，Python还可以在类中定义类方法，类方法的第一个参数约定名为cls，它代表的是当前类相关的信息的对象（类本身也是一个对象，有的地方也称之为类的元数据对象），通过这个参数我们可以获取和类相关的信息并且可以创建出类的对象，代码如下所示。"
   ],
   "metadata": {
    "collapsed": false,
    "pycharm": {
     "name": "#%% md\n"
    }
   }
  },
  {
   "cell_type": "code",
   "execution_count": 11,
   "outputs": [
    {
     "name": "stdout",
     "output_type": "stream",
     "text": [
      "21:38:33\n",
      "21:38:34\n",
      "21:38:35\n",
      "21:38:36\n",
      "21:38:37\n",
      "21:38:38\n",
      "21:38:39\n",
      "21:38:40\n",
      "21:38:41\n",
      "21:38:42\n"
     ]
    },
    {
     "ename": "KeyboardInterrupt",
     "evalue": "",
     "output_type": "error",
     "traceback": [
      "\u001B[0;31m---------------------------------------------------------------------------\u001B[0m",
      "\u001B[0;31mKeyboardInterrupt\u001B[0m                         Traceback (most recent call last)",
      "Input \u001B[0;32mIn [11]\u001B[0m, in \u001B[0;36m<cell line: 44>\u001B[0;34m()\u001B[0m\n\u001B[1;32m     41\u001B[0m         clock\u001B[38;5;241m.\u001B[39mrun()\n\u001B[1;32m     44\u001B[0m \u001B[38;5;28;01mif\u001B[39;00m \u001B[38;5;18m__name__\u001B[39m \u001B[38;5;241m==\u001B[39m \u001B[38;5;124m'\u001B[39m\u001B[38;5;124m__main__\u001B[39m\u001B[38;5;124m'\u001B[39m:\n\u001B[0;32m---> 45\u001B[0m     \u001B[43mmain\u001B[49m\u001B[43m(\u001B[49m\u001B[43m)\u001B[49m\n",
      "Input \u001B[0;32mIn [11]\u001B[0m, in \u001B[0;36mmain\u001B[0;34m()\u001B[0m\n\u001B[1;32m     38\u001B[0m \u001B[38;5;28;01mwhile\u001B[39;00m \u001B[38;5;28;01mTrue\u001B[39;00m:\n\u001B[1;32m     39\u001B[0m     \u001B[38;5;28mprint\u001B[39m(clock\u001B[38;5;241m.\u001B[39mshow())\n\u001B[0;32m---> 40\u001B[0m     \u001B[43msleep\u001B[49m\u001B[43m(\u001B[49m\u001B[38;5;241;43m1\u001B[39;49m\u001B[43m)\u001B[49m\n\u001B[1;32m     41\u001B[0m     clock\u001B[38;5;241m.\u001B[39mrun()\n",
      "\u001B[0;31mKeyboardInterrupt\u001B[0m: "
     ]
    }
   ],
   "source": [
    "from time import time, localtime, sleep\n",
    "\n",
    "\n",
    "class Clock(object):\n",
    "    \"\"\"数字时钟\"\"\"\n",
    "\n",
    "    def __init__(self, hour=0, minute=0, second=0):\n",
    "        self._hour = hour\n",
    "        self._minute = minute\n",
    "        self._second = second\n",
    "\n",
    "    @classmethod\n",
    "    def now(cls):\n",
    "        ctime = localtime(time())\n",
    "        return cls(ctime.tm_hour, ctime.tm_min, ctime.tm_sec)\n",
    "\n",
    "    def run(self):\n",
    "        \"\"\"走字\"\"\"\n",
    "        self._second += 1\n",
    "        if self._second == 60:\n",
    "            self._second = 0\n",
    "            self._minute += 1\n",
    "            if self._minute == 60:\n",
    "                self._minute = 0\n",
    "                self._hour += 1\n",
    "                if self._hour == 24:\n",
    "                    self._hour = 0\n",
    "\n",
    "    def show(self):\n",
    "        \"\"\"显示时间\"\"\"\n",
    "        return '%02d:%02d:%02d' %\n",
    "               (self._hour, self._minute, self._second)\n",
    "\n",
    "\n",
    "def main():\n",
    "    # 通过类方法创建对象并获取系统时间\n",
    "    clock = Clock.now()  #将当下的时间传入Clock类，并实例化对象\n",
    "    while True:\n",
    "        print(clock.show())\n",
    "        sleep(1)\n",
    "        clock.run()\n",
    "\n",
    "\n",
    "if __name__ == '__main__':\n",
    "    main()"
   ],
   "metadata": {
    "collapsed": false,
    "pycharm": {
     "name": "#%%\n"
    }
   }
  },
  {
   "cell_type": "markdown",
   "source": [
    "### 继承和多态\n",
    "刚才我们提到了，可以在已有类的基础上创建新类，这其中的一种做法就是让一个类从另一个类那里将属性和方法直接继承下来，从而减少重复代码的编写。提供继承信息的我们称之为父类，也叫超类或基类；得到继承信息的我们称之为子类，也叫派生类或衍生类。子类除了继承父类提供的属性和方法，还可以定义自己特有的属性和方法，所以子类比父类拥有的更多的能力，在实际开发中，我们经常会用子类对象去替换掉一个父类对象，这是面向对象编程中一个常见的行为，对应的原则称之为里氏替换原则。下面我们先看一个继承的例子。"
   ],
   "metadata": {
    "collapsed": false,
    "pycharm": {
     "name": "#%% md\n"
    }
   }
  },
  {
   "cell_type": "code",
   "execution_count": 35,
   "outputs": [
    {
     "name": "stdout",
     "output_type": "stream",
     "text": [
      "初三的王大锤正在学习数学.\n",
      "王大锤只能看熊出没\n",
      "黎长读帅锅正在讲授Python.\n",
      "黎长读正在看爱情动作片\n"
     ]
    }
   ],
   "source": [
    "class Person(object):\n",
    "    '''人'''\n",
    "\n",
    "    def __init__(self, name, age):\n",
    "        self._name = name\n",
    "        self._age = age\n",
    "\n",
    "    @property\n",
    "    def name(self):\n",
    "        return self._name\n",
    "\n",
    "    @property\n",
    "    def age(self):\n",
    "        return self._age\n",
    "\n",
    "    @age.setter\n",
    "    def age(self, age):\n",
    "        self._age = age\n",
    "\n",
    "    def play(self):\n",
    "        print('%s正在愉快的玩耍' % self._name)\n",
    "\n",
    "    def watch_tv(self):\n",
    "        if self._age >= 18:\n",
    "            print('%s正在看爱情动作片' % self._name)\n",
    "        else:\n",
    "            print('%s只能看熊出没' % self._name)\n",
    "\n",
    "\n",
    "class Student(Person):\n",
    "    '''学生'''\n",
    "\n",
    "    def __init__(self, name, age, grade):\n",
    "        super().__init__(name, age)  #初始化父类那里继承而来的参数\n",
    "        self._grade = grade\n",
    "\n",
    "    @property\n",
    "    def grade(self):  #可以调用\n",
    "        return self._grade\n",
    "\n",
    "    @grade.setter\n",
    "    def grade(self, grade):  #可以调用，可以修改\n",
    "        self._grade = grade\n",
    "\n",
    "    def study(self, course):\n",
    "        print('%s的%s正在学习%s.' % (self._grade, self._name, course))\n",
    "\n",
    "\n",
    "class Teacher(Person):\n",
    "    '''老师'''\n",
    "\n",
    "    def __init__(self, name, age, title):\n",
    "        super().__init__(name, age)\n",
    "        self._title = title\n",
    "\n",
    "    @property\n",
    "    def title(self):\n",
    "        return self._title\n",
    "\n",
    "    @title.setter\n",
    "    def title(self, title):\n",
    "        self._title = title\n",
    "\n",
    "    def teach(self, course):\n",
    "        print('%s%s正在讲授%s.' % (self._name, self._title, course))\n",
    "\n",
    "\n",
    "def main():\n",
    "    stu = Student('王大锤', 15, '初三')\n",
    "    stu.study('数学')\n",
    "    stu.watch_tv()\n",
    "    t = Teacher('黎长读', 24, '帅锅')\n",
    "    t.teach('Python')\n",
    "    t.watch_tv()\n",
    "\n",
    "\n",
    "if __name__ == '__main__':\n",
    "    main()"
   ],
   "metadata": {
    "collapsed": false,
    "pycharm": {
     "name": "#%%\n"
    }
   }
  },
  {
   "cell_type": "markdown",
   "source": [
    "子类在继承了父类的方法后，可以对父类已有的方法给出新的实现版本，这个动作称之为方法重写（override）。通过方法重写我们可以让父类的同一个行为在子类中拥有不同的实现版本，当我们调用这个经过子类重写的方法时，不同的子类对象会表现出不同的行为，这个就是多态（poly-morphism）。"
   ],
   "metadata": {
    "collapsed": false,
    "pycharm": {
     "name": "#%% md\n"
    }
   }
  },
  {
   "cell_type": "code",
   "execution_count": 38,
   "outputs": [
    {
     "name": "stdout",
     "output_type": "stream",
     "text": [
      "旺财:汪汪汪...\n",
      "小橘喵喵喵...\n",
      "大黄:汪汪汪...\n"
     ]
    }
   ],
   "source": [
    "from abc import ABCMeta, abstractmethod\n",
    "\n",
    "\n",
    "class Pet(object, metaclass=ABCMeta):  #设置元类，此类是不可实例化的，只能用来继承\n",
    "    '''宠物'''\n",
    "\n",
    "    def __init__(self, nickname):\n",
    "        self._nickname = nickname\n",
    "\n",
    "    @abstractmethod\n",
    "    def make_voive(self):  #该方法只能重写\n",
    "        '''发出声音'''\n",
    "        pass\n",
    "\n",
    "\n",
    "class Dog(Pet):\n",
    "    '''狗'''\n",
    "\n",
    "    def make_voive(self):#这里不需要初始设置nickname参数\n",
    "        print('%s:汪汪汪...' % self._nickname)\n",
    "\n",
    "\n",
    "class Cat(Pet):\n",
    "    ''''猫'''\n",
    "\n",
    "    def make_voive(self):\n",
    "        print('%s喵喵喵...' % self._nickname)\n",
    "\n",
    "\n",
    "def main():\n",
    "    pets = [Dog('旺财'), Cat('小橘'), Dog('大黄')]\n",
    "    for pet in pets:\n",
    "        pet.make_voive()\n",
    "\n",
    "#在上面的代码中，我们将Pet类处理成了一个抽象类，所谓抽象类就是不能够创建对象的类，这种类的存在就是专门为了让其他类去继承它。Python从语法层面并没有像Java或C#那样提供对抽象类的支持，但是我们可以通过abc模块的ABCMeta元类和abstractmethod包装器来达到抽象类的效果，如果一个类中存在抽象方法那么这个类就不能够实例化（创建对象）。上面的代码中，Dog和Cat两个子类分别对Pet类中的make_voice抽象方法进行了重写并给出了不同的实现版本，当我们在main函数中调用该方法时，这个方法就表现出了多态行为（同样的方法做了不同的事情）。\n",
    "\n",
    "if __name__ == '__main__':\n",
    "    main()"
   ],
   "metadata": {
    "collapsed": false,
    "pycharm": {
     "name": "#%%\n"
    }
   }
  },
  {
   "cell_type": "code",
   "execution_count": null,
   "outputs": [],
   "source": [],
   "metadata": {
    "collapsed": false,
    "pycharm": {
     "name": "#%%\n"
    }
   }
  }
 ],
 "metadata": {
  "kernelspec": {
   "display_name": "Python 3",
   "language": "python",
   "name": "python3"
  },
  "language_info": {
   "codemirror_mode": {
    "name": "ipython",
    "version": 2
   },
   "file_extension": ".py",
   "mimetype": "text/x-python",
   "name": "python",
   "nbconvert_exporter": "python",
   "pygments_lexer": "ipython2",
   "version": "2.7.6"
  }
 },
 "nbformat": 4,
 "nbformat_minor": 0
}