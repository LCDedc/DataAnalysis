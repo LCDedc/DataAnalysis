{
 "cells": [
  {
   "cell_type": "code",
   "execution_count": 5,
   "metadata": {
    "collapsed": true
   },
   "outputs": [
    {
     "name": "stdout",
     "output_type": "stream",
     "text": [
      "[[89.0, None, None], [None, None, None], [None, None, None], [None, None, None], [None, None, None]]\n",
      "[[89.0, 89.0, None], [None, None, None], [None, None, None], [None, None, None], [None, None, None]]\n",
      "[[89.0, 89.0, 90.0], [None, None, None], [None, None, None], [None, None, None], [None, None, None]]\n",
      "[[89.0, 89.0, 90.0], [89.0, None, None], [None, None, None], [None, None, None], [None, None, None]]\n",
      "[[89.0, 89.0, 90.0], [89.0, 90.0, None], [None, None, None], [None, None, None], [None, None, None]]\n",
      "[[89.0, 89.0, 90.0], [89.0, 90.0, 98.0], [None, None, None], [None, None, None], [None, None, None]]\n",
      "[[89.0, 89.0, 90.0], [89.0, 90.0, 98.0], [78.0, None, None], [None, None, None], [None, None, None]]\n",
      "[[89.0, 89.0, 90.0], [89.0, 90.0, 98.0], [78.0, 89.0, None], [None, None, None], [None, None, None]]\n",
      "[[89.0, 89.0, 90.0], [89.0, 90.0, 98.0], [78.0, 89.0, 98.0], [None, None, None], [None, None, None]]\n",
      "[[89.0, 89.0, 90.0], [89.0, 90.0, 98.0], [78.0, 89.0, 98.0], [89.0, None, None], [None, None, None]]\n",
      "[[89.0, 89.0, 90.0], [89.0, 90.0, 98.0], [78.0, 89.0, 98.0], [89.0, 89.0, None], [None, None, None]]\n",
      "[[89.0, 89.0, 90.0], [89.0, 90.0, 98.0], [78.0, 89.0, 98.0], [89.0, 89.0, 98.0], [None, None, None]]\n",
      "[[89.0, 89.0, 90.0], [89.0, 90.0, 98.0], [78.0, 89.0, 98.0], [89.0, 89.0, 98.0], [89.0, None, None]]\n",
      "[[89.0, 89.0, 90.0], [89.0, 90.0, 98.0], [78.0, 89.0, 98.0], [89.0, 89.0, 98.0], [89.0, 89.0, None]]\n",
      "[[89.0, 89.0, 90.0], [89.0, 90.0, 98.0], [78.0, 89.0, 98.0], [89.0, 89.0, 98.0], [89.0, 89.0, 9.0]]\n"
     ]
    }
   ],
   "source": [
    "### 嵌套列表的坑\n",
    "names = ['关羽', '张飞', '赵云', '马超', '黄忠']\n",
    "courses = ['语文', '数学', '英语']\n",
    "score=[[None]*len(courses) for _ in range(len(names))]\n",
    "for row,name in enumerate(names):\n",
    "    for col,course in enumerate(courses):\n",
    "        score[row][col]=float(input(f'请输入{name}的{course}的成绩:'))\n",
    "        print(score)"
   ]
  },
  {
   "cell_type": "markdown",
   "source": [
    "### 堆排序，从列表中找出最大或最小的N个元素"
   ],
   "metadata": {
    "collapsed": false,
    "pycharm": {
     "name": "#%% md\n"
    }
   }
  },
  {
   "cell_type": "code",
   "execution_count": null,
   "outputs": [],
   "source": [],
   "metadata": {
    "collapsed": false,
    "pycharm": {
     "name": "#%%\n"
    }
   }
  }
 ],
 "metadata": {
  "kernelspec": {
   "display_name": "Python 3",
   "language": "python",
   "name": "python3"
  },
  "language_info": {
   "codemirror_mode": {
    "name": "ipython",
    "version": 2
   },
   "file_extension": ".py",
   "mimetype": "text/x-python",
   "name": "python",
   "nbconvert_exporter": "python",
   "pygments_lexer": "ipython2",
   "version": "2.7.6"
  }
 },
 "nbformat": 4,
 "nbformat_minor": 0
}