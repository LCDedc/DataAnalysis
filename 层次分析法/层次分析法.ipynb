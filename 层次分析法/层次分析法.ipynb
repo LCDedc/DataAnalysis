{
 "cells": [
  {
   "cell_type": "code",
   "execution_count": 2,
   "metadata": {
    "collapsed": true
   },
   "outputs": [],
   "source": [
    "import math\n",
    "\n",
    "import numpy as np\n",
    "class AHP:\n",
    "    #传入的np.ndarray是的判断矩阵\n",
    "    def __init__(self,array):\n",
    "        self.array = array\n",
    "        # 记录矩阵大小\n",
    "        self.n = array.shape[0]\n",
    "        # 初始化RI值,用于一致性检验\n",
    "        RI_list = [0,0,0.58,0.90,1.12,1.24,1.32,1.41,1.45]\n",
    "        self.RI = RI_list[self.n-1]\n",
    "\n",
    "\t#获取最大特征值和对应的特征向量\n",
    "    def get_eig(self):\n",
    "        #numpy.linalg.eig() 计算矩阵特征值与特征向量\n",
    "        eig_val ,eig_vector = np.linalg.eig(self.array)\n",
    "        #获取最大特征值\n",
    "        max_val = np.max(eig_val)\n",
    "        max_val = round(max_val.real, 4)\n",
    "        #通过位置来确定最大特征值对应的特征向量\n",
    "        index = np.argmax(eig_val)\n",
    "        max_vector = eig_vector[:,index]\n",
    "        max_vector = max_vector.real.round(4)\n",
    "        #添加最大特征值属性\n",
    "        self.max_val = max_val\n",
    "        #计算权重向量W\n",
    "        weight_vector = max_vector/sum(max_vector)\n",
    "        weight_vector = weight_vector.round(4)\n",
    "        #打印结果\n",
    "        print(\"最大的特征值: \"+str(max_val))\n",
    "        print(\"对应的特征向量为: \"+str(max_vector))\n",
    "        print(\"归一化后得到权重向量: \"+str(weight_vector))\n",
    "        return weight_vector\n",
    "\n",
    "    #测试一致性\n",
    "    def test_consitst(self):\n",
    "        #计算CI值\n",
    "        CI = (self.max_val-self.n)/(self.n-1)\n",
    "        CI = round(CI,4)\n",
    "        #打印结果\n",
    "        print(\"判断矩阵的CI值为\" +str(CI))\n",
    "        print(\"判断矩阵的RI值为\" +str(self.RI))\n",
    "        #分类讨论\n",
    "        if self.n == 2:\n",
    "            print(\"仅包含两个子因素，不存在一致性问题\")\n",
    "        else:\n",
    "            #计算CR值\n",
    "            CR = CI/self.RI\n",
    "            CR = round(CR,4)\n",
    "            #CR < 0.10才能通过检验\n",
    "            if  CR < 0.10 :\n",
    "                print(\"判断矩阵的CR值为\" +str(CR) + \"，通过一致性检验\")\n",
    "                return True\n",
    "            else:\n",
    "                print(\"判断矩阵的CR值为\" +str(CR) + \"，未通过一致性检验\")\n",
    "                return False"
   ]
  },
  {
   "cell_type": "code",
   "execution_count": 5,
   "outputs": [
    {
     "ename": "SyntaxError",
     "evalue": "invalid syntax (1002776025.py, line 1)",
     "output_type": "error",
     "traceback": [
      "\u001B[0;36m  Input \u001B[0;32mIn [5]\u001B[0;36m\u001B[0m\n\u001B[0;31m    ahp=AHP(np.array([[1,2,3];[4,5,6];[7,8,9]]))\u001B[0m\n\u001B[0m                             ^\u001B[0m\n\u001B[0;31mSyntaxError\u001B[0m\u001B[0;31m:\u001B[0m invalid syntax\n"
     ]
    }
   ],
   "source": [
    "ahp=AHP(np.array([[1,2,3];[4,5,6];[7,8,9]]))"
   ],
   "metadata": {
    "collapsed": false,
    "pycharm": {
     "name": "#%%\n"
    }
   }
  },
  {
   "cell_type": "code",
   "execution_count": 4,
   "outputs": [
    {
     "ename": "SyntaxError",
     "evalue": "invalid syntax (1013058500.py, line 1)",
     "output_type": "error",
     "traceback": [
      "\u001B[0;36m  Input \u001B[0;32mIn [4]\u001B[0;36m\u001B[0m\n\u001B[0;31m    np.array([1,2,3;4,5,6;7,8,9])\u001B[0m\n\u001B[0m                   ^\u001B[0m\n\u001B[0;31mSyntaxError\u001B[0m\u001B[0;31m:\u001B[0m invalid syntax\n"
     ]
    }
   ],
   "source": [
    "np.array([1,2,3;4,5,6;7,8,9])"
   ],
   "metadata": {
    "collapsed": false,
    "pycharm": {
     "name": "#%%\n"
    }
   }
  },
  {
   "cell_type": "code",
   "execution_count": 15,
   "outputs": [],
   "source": [
    "import pandas as pd\n",
    "import math"
   ],
   "metadata": {
    "collapsed": false,
    "pycharm": {
     "name": "#%%\n"
    }
   }
  },
  {
   "cell_type": "code",
   "execution_count": 11,
   "outputs": [
    {
     "data": {
      "text/plain": "   地区  城市    年份   出生率  人均可支配收入    常住人口     房价  在岗职工平均工资\n0  东部  北京  2011  8.29    30910  2024.0  24964     75835\n1  东部  北京  2012  9.05    36468  2078.0  29916     85306\n2  东部  北京  2013  8.93    40321  2120.0  40342     93997\n3  东部  北京  2014  9.75    43910  2151.6  37294    103400\n4  东部  北京  2015  7.96    52859  2183.0  39437    113073\n5  东部  北京  2016  9.32    52530  2195.0  57597    122749\n6  东部  北京  2017  9.06    57229  2194.0  57768    134994\n7  东部  北京  2018  8.24    62361  2192.0  59868    149843\n8  东部  北京  2019  8.12    67756  2190.0  58568    173205\n9  东部  上海  2011  6.97    32250  2356.0  22483     77031",
      "text/html": "<div>\n<style scoped>\n    .dataframe tbody tr th:only-of-type {\n        vertical-align: middle;\n    }\n\n    .dataframe tbody tr th {\n        vertical-align: top;\n    }\n\n    .dataframe thead th {\n        text-align: right;\n    }\n</style>\n<table border=\"1\" class=\"dataframe\">\n  <thead>\n    <tr style=\"text-align: right;\">\n      <th></th>\n      <th>地区</th>\n      <th>城市</th>\n      <th>年份</th>\n      <th>出生率</th>\n      <th>人均可支配收入</th>\n      <th>常住人口</th>\n      <th>房价</th>\n      <th>在岗职工平均工资</th>\n    </tr>\n  </thead>\n  <tbody>\n    <tr>\n      <th>0</th>\n      <td>东部</td>\n      <td>北京</td>\n      <td>2011</td>\n      <td>8.29</td>\n      <td>30910</td>\n      <td>2024.0</td>\n      <td>24964</td>\n      <td>75835</td>\n    </tr>\n    <tr>\n      <th>1</th>\n      <td>东部</td>\n      <td>北京</td>\n      <td>2012</td>\n      <td>9.05</td>\n      <td>36468</td>\n      <td>2078.0</td>\n      <td>29916</td>\n      <td>85306</td>\n    </tr>\n    <tr>\n      <th>2</th>\n      <td>东部</td>\n      <td>北京</td>\n      <td>2013</td>\n      <td>8.93</td>\n      <td>40321</td>\n      <td>2120.0</td>\n      <td>40342</td>\n      <td>93997</td>\n    </tr>\n    <tr>\n      <th>3</th>\n      <td>东部</td>\n      <td>北京</td>\n      <td>2014</td>\n      <td>9.75</td>\n      <td>43910</td>\n      <td>2151.6</td>\n      <td>37294</td>\n      <td>103400</td>\n    </tr>\n    <tr>\n      <th>4</th>\n      <td>东部</td>\n      <td>北京</td>\n      <td>2015</td>\n      <td>7.96</td>\n      <td>52859</td>\n      <td>2183.0</td>\n      <td>39437</td>\n      <td>113073</td>\n    </tr>\n    <tr>\n      <th>5</th>\n      <td>东部</td>\n      <td>北京</td>\n      <td>2016</td>\n      <td>9.32</td>\n      <td>52530</td>\n      <td>2195.0</td>\n      <td>57597</td>\n      <td>122749</td>\n    </tr>\n    <tr>\n      <th>6</th>\n      <td>东部</td>\n      <td>北京</td>\n      <td>2017</td>\n      <td>9.06</td>\n      <td>57229</td>\n      <td>2194.0</td>\n      <td>57768</td>\n      <td>134994</td>\n    </tr>\n    <tr>\n      <th>7</th>\n      <td>东部</td>\n      <td>北京</td>\n      <td>2018</td>\n      <td>8.24</td>\n      <td>62361</td>\n      <td>2192.0</td>\n      <td>59868</td>\n      <td>149843</td>\n    </tr>\n    <tr>\n      <th>8</th>\n      <td>东部</td>\n      <td>北京</td>\n      <td>2019</td>\n      <td>8.12</td>\n      <td>67756</td>\n      <td>2190.0</td>\n      <td>58568</td>\n      <td>173205</td>\n    </tr>\n    <tr>\n      <th>9</th>\n      <td>东部</td>\n      <td>上海</td>\n      <td>2011</td>\n      <td>6.97</td>\n      <td>32250</td>\n      <td>2356.0</td>\n      <td>22483</td>\n      <td>77031</td>\n    </tr>\n  </tbody>\n</table>\n</div>"
     },
     "execution_count": 11,
     "metadata": {},
     "output_type": "execute_result"
    }
   ],
   "source": [
    "data=pd.read_excel('/Users/apple/Desktop/数据.xlsx')\n",
    "data.head(10)"
   ],
   "metadata": {
    "collapsed": false,
    "pycharm": {
     "name": "#%%\n"
    }
   }
  },
  {
   "cell_type": "code",
   "execution_count": 12,
   "outputs": [],
   "source": [
    "from funcy import flatten\n",
    "data['城市']=list(flatten([[str(i)]*9 for i in range(1,32)]))"
   ],
   "metadata": {
    "collapsed": false,
    "pycharm": {
     "name": "#%%\n"
    }
   }
  },
  {
   "cell_type": "code",
   "execution_count": 16,
   "outputs": [],
   "source": [
    "for s in data.columns[3:]:\n",
    "    data[s+'_ln']=data[s].map(math.log)"
   ],
   "metadata": {
    "collapsed": false,
    "pycharm": {
     "name": "#%%\n"
    }
   }
  },
  {
   "cell_type": "code",
   "execution_count": 17,
   "outputs": [
    {
     "data": {
      "text/plain": "   地区 城市    年份   出生率  人均可支配收入    常住人口     房价  在岗职工平均工资    出生率_ln  人均可支配收入_ln  \\\n0  东部  1  2011  8.29    30910  2024.0  24964     75835  2.115050   10.338835   \n1  东部  1  2012  9.05    36468  2078.0  29916     85306  2.202765   10.504190   \n2  东部  1  2013  8.93    40321  2120.0  40342     93997  2.189416   10.604628   \n3  东部  1  2014  9.75    43910  2151.6  37294    103400  2.277267   10.689897   \n4  东部  1  2015  7.96    52859  2183.0  39437    113073  2.074429   10.875383   \n\n    常住人口_ln      房价_ln  在岗职工平均工资_ln  \n0  7.612831  10.125190    11.236315  \n1  7.639161  10.306149    11.354000  \n2  7.659171  10.605148    11.451018  \n3  7.673967  10.526588    11.546360  \n4  7.688455  10.582460    11.635789  ",
      "text/html": "<div>\n<style scoped>\n    .dataframe tbody tr th:only-of-type {\n        vertical-align: middle;\n    }\n\n    .dataframe tbody tr th {\n        vertical-align: top;\n    }\n\n    .dataframe thead th {\n        text-align: right;\n    }\n</style>\n<table border=\"1\" class=\"dataframe\">\n  <thead>\n    <tr style=\"text-align: right;\">\n      <th></th>\n      <th>地区</th>\n      <th>城市</th>\n      <th>年份</th>\n      <th>出生率</th>\n      <th>人均可支配收入</th>\n      <th>常住人口</th>\n      <th>房价</th>\n      <th>在岗职工平均工资</th>\n      <th>出生率_ln</th>\n      <th>人均可支配收入_ln</th>\n      <th>常住人口_ln</th>\n      <th>房价_ln</th>\n      <th>在岗职工平均工资_ln</th>\n    </tr>\n  </thead>\n  <tbody>\n    <tr>\n      <th>0</th>\n      <td>东部</td>\n      <td>1</td>\n      <td>2011</td>\n      <td>8.29</td>\n      <td>30910</td>\n      <td>2024.0</td>\n      <td>24964</td>\n      <td>75835</td>\n      <td>2.115050</td>\n      <td>10.338835</td>\n      <td>7.612831</td>\n      <td>10.125190</td>\n      <td>11.236315</td>\n    </tr>\n    <tr>\n      <th>1</th>\n      <td>东部</td>\n      <td>1</td>\n      <td>2012</td>\n      <td>9.05</td>\n      <td>36468</td>\n      <td>2078.0</td>\n      <td>29916</td>\n      <td>85306</td>\n      <td>2.202765</td>\n      <td>10.504190</td>\n      <td>7.639161</td>\n      <td>10.306149</td>\n      <td>11.354000</td>\n    </tr>\n    <tr>\n      <th>2</th>\n      <td>东部</td>\n      <td>1</td>\n      <td>2013</td>\n      <td>8.93</td>\n      <td>40321</td>\n      <td>2120.0</td>\n      <td>40342</td>\n      <td>93997</td>\n      <td>2.189416</td>\n      <td>10.604628</td>\n      <td>7.659171</td>\n      <td>10.605148</td>\n      <td>11.451018</td>\n    </tr>\n    <tr>\n      <th>3</th>\n      <td>东部</td>\n      <td>1</td>\n      <td>2014</td>\n      <td>9.75</td>\n      <td>43910</td>\n      <td>2151.6</td>\n      <td>37294</td>\n      <td>103400</td>\n      <td>2.277267</td>\n      <td>10.689897</td>\n      <td>7.673967</td>\n      <td>10.526588</td>\n      <td>11.546360</td>\n    </tr>\n    <tr>\n      <th>4</th>\n      <td>东部</td>\n      <td>1</td>\n      <td>2015</td>\n      <td>7.96</td>\n      <td>52859</td>\n      <td>2183.0</td>\n      <td>39437</td>\n      <td>113073</td>\n      <td>2.074429</td>\n      <td>10.875383</td>\n      <td>7.688455</td>\n      <td>10.582460</td>\n      <td>11.635789</td>\n    </tr>\n  </tbody>\n</table>\n</div>"
     },
     "execution_count": 17,
     "metadata": {},
     "output_type": "execute_result"
    }
   ],
   "source": [
    "data.head()"
   ],
   "metadata": {
    "collapsed": false,
    "pycharm": {
     "name": "#%%\n"
    }
   }
  },
  {
   "cell_type": "code",
   "execution_count": 20,
   "outputs": [],
   "source": [
    "data['人均可支配收入_2']=data['人均可支配收入']**2"
   ],
   "metadata": {
    "collapsed": false,
    "pycharm": {
     "name": "#%%\n"
    }
   }
  },
  {
   "cell_type": "code",
   "execution_count": 21,
   "outputs": [
    {
     "data": {
      "text/plain": "   地区 城市    年份   出生率  人均可支配收入    常住人口     房价  在岗职工平均工资    出生率_ln  人均可支配收入_ln  \\\n0  东部  1  2011  8.29    30910  2024.0  24964     75835  2.115050   10.338835   \n1  东部  1  2012  9.05    36468  2078.0  29916     85306  2.202765   10.504190   \n2  东部  1  2013  8.93    40321  2120.0  40342     93997  2.189416   10.604628   \n3  东部  1  2014  9.75    43910  2151.6  37294    103400  2.277267   10.689897   \n4  东部  1  2015  7.96    52859  2183.0  39437    113073  2.074429   10.875383   \n\n    常住人口_ln      房价_ln  在岗职工平均工资_ln   人均可支配收入_2  \n0  7.612831  10.125190    11.236315   955428100  \n1  7.639161  10.306149    11.354000  1329915024  \n2  7.659171  10.605148    11.451018  1625783041  \n3  7.673967  10.526588    11.546360  1928088100  \n4  7.688455  10.582460    11.635789  2794073881  ",
      "text/html": "<div>\n<style scoped>\n    .dataframe tbody tr th:only-of-type {\n        vertical-align: middle;\n    }\n\n    .dataframe tbody tr th {\n        vertical-align: top;\n    }\n\n    .dataframe thead th {\n        text-align: right;\n    }\n</style>\n<table border=\"1\" class=\"dataframe\">\n  <thead>\n    <tr style=\"text-align: right;\">\n      <th></th>\n      <th>地区</th>\n      <th>城市</th>\n      <th>年份</th>\n      <th>出生率</th>\n      <th>人均可支配收入</th>\n      <th>常住人口</th>\n      <th>房价</th>\n      <th>在岗职工平均工资</th>\n      <th>出生率_ln</th>\n      <th>人均可支配收入_ln</th>\n      <th>常住人口_ln</th>\n      <th>房价_ln</th>\n      <th>在岗职工平均工资_ln</th>\n      <th>人均可支配收入_2</th>\n    </tr>\n  </thead>\n  <tbody>\n    <tr>\n      <th>0</th>\n      <td>东部</td>\n      <td>1</td>\n      <td>2011</td>\n      <td>8.29</td>\n      <td>30910</td>\n      <td>2024.0</td>\n      <td>24964</td>\n      <td>75835</td>\n      <td>2.115050</td>\n      <td>10.338835</td>\n      <td>7.612831</td>\n      <td>10.125190</td>\n      <td>11.236315</td>\n      <td>955428100</td>\n    </tr>\n    <tr>\n      <th>1</th>\n      <td>东部</td>\n      <td>1</td>\n      <td>2012</td>\n      <td>9.05</td>\n      <td>36468</td>\n      <td>2078.0</td>\n      <td>29916</td>\n      <td>85306</td>\n      <td>2.202765</td>\n      <td>10.504190</td>\n      <td>7.639161</td>\n      <td>10.306149</td>\n      <td>11.354000</td>\n      <td>1329915024</td>\n    </tr>\n    <tr>\n      <th>2</th>\n      <td>东部</td>\n      <td>1</td>\n      <td>2013</td>\n      <td>8.93</td>\n      <td>40321</td>\n      <td>2120.0</td>\n      <td>40342</td>\n      <td>93997</td>\n      <td>2.189416</td>\n      <td>10.604628</td>\n      <td>7.659171</td>\n      <td>10.605148</td>\n      <td>11.451018</td>\n      <td>1625783041</td>\n    </tr>\n    <tr>\n      <th>3</th>\n      <td>东部</td>\n      <td>1</td>\n      <td>2014</td>\n      <td>9.75</td>\n      <td>43910</td>\n      <td>2151.6</td>\n      <td>37294</td>\n      <td>103400</td>\n      <td>2.277267</td>\n      <td>10.689897</td>\n      <td>7.673967</td>\n      <td>10.526588</td>\n      <td>11.546360</td>\n      <td>1928088100</td>\n    </tr>\n    <tr>\n      <th>4</th>\n      <td>东部</td>\n      <td>1</td>\n      <td>2015</td>\n      <td>7.96</td>\n      <td>52859</td>\n      <td>2183.0</td>\n      <td>39437</td>\n      <td>113073</td>\n      <td>2.074429</td>\n      <td>10.875383</td>\n      <td>7.688455</td>\n      <td>10.582460</td>\n      <td>11.635789</td>\n      <td>2794073881</td>\n    </tr>\n  </tbody>\n</table>\n</div>"
     },
     "execution_count": 21,
     "metadata": {},
     "output_type": "execute_result"
    }
   ],
   "source": [
    "data.head()"
   ],
   "metadata": {
    "collapsed": false,
    "pycharm": {
     "name": "#%%\n"
    }
   }
  },
  {
   "cell_type": "code",
   "execution_count": 22,
   "outputs": [],
   "source": [
    "data.to_excel('/Users/apple/Desktop/数据.xlsx',index=False)"
   ],
   "metadata": {
    "collapsed": false,
    "pycharm": {
     "name": "#%%\n"
    }
   }
  },
  {
   "cell_type": "code",
   "execution_count": null,
   "outputs": [],
   "source": [],
   "metadata": {
    "collapsed": false,
    "pycharm": {
     "name": "#%%\n"
    }
   }
  }
 ],
 "metadata": {
  "kernelspec": {
   "display_name": "Python 3",
   "language": "python",
   "name": "python3"
  },
  "language_info": {
   "codemirror_mode": {
    "name": "ipython",
    "version": 2
   },
   "file_extension": ".py",
   "mimetype": "text/x-python",
   "name": "python",
   "nbconvert_exporter": "python",
   "pygments_lexer": "ipython2",
   "version": "2.7.6"
  }
 },
 "nbformat": 4,
 "nbformat_minor": 0
}