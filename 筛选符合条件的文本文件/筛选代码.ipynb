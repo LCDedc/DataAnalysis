{
 "cells": [
  {
   "cell_type": "code",
   "execution_count": 3,
   "metadata": {
    "collapsed": true
   },
   "outputs": [],
   "source": [
    "import zipfile\n",
    "import os"
   ]
  },
  {
   "cell_type": "code",
   "execution_count": 4,
   "outputs": [],
   "source": [
    "#解压缩文件\n",
    "#file=zipfile.ZipFile(\"data/test data.zip\",'r')\n",
    "#file.extractall(\"data/\")\n",
    "#压缩文件\n",
    "def zip_extract_all(src_zip_file: ZipFile, target_path: str) -> None:\n",
    "\n",
    "    # 遍历压缩包内所有内容\n",
    "    for file_or_path in file.namelist():\n",
    "\n",
    "        # 若当前节点是文件夹\n",
    "        if file_or_path.endswith('/'):\n",
    "            try:\n",
    "                # 基于当前文件夹节点创建多层文件夹\n",
    "                os.makedirs(os.path.join(target_path, recode(file_or_path)))\n",
    "            except FileExistsError:\n",
    "                # 若已存在则跳过创建过程\n",
    "                pass\n",
    "\n",
    "        # 否则视作文件进行写出\n",
    "        else:\n",
    "            # 利用shutil.copyfileobj，从压缩包io流中提取目标文件内容写出到目标路径\n",
    "            with open(os.path.join(target_path, recode(file_or_path)), 'wb') as z:\n",
    "                # 这里基于Zipfile.open()提取文件内容时需要使用原始的乱码文件名\n",
    "                shutil.copyfileobj(src_zip_file.open(file_or_path), z)\n",
    "\n",
    "# 向已存在的指定文件夹完整解压当前读入的zip文件\n",
    "zip_extract_all(file, '解压测试')"
   ],
   "metadata": {
    "collapsed": false,
    "pycharm": {
     "name": "#%%\n"
    }
   }
  },
  {
   "cell_type": "code",
   "execution_count": 34,
   "outputs": [],
   "source": [
    "path=\"data/test data\"\n",
    "for s1 in os.listdir(path):\n",
    "    path1=os.listdir(\"data/test data/%s\"%s1)\n",
    "    names=[s for s in path1 if \"txt\" in s]\n",
    "    for s in names:\n",
    "        with open(\"data/test data/{}/{}\".format(s1,s),'r') as f:\n",
    "            txt_all=f.read()\n",
    "        with open(\"data/test data/{}/{}\".format(s1,s),'r') as f:\n",
    "            txt=f.readlines()\n",
    "            name1=f.name.replace(\"test data\",\"筛选出来的文件\")\n",
    "            if txt[-5][-3]==\"*\" and txt[-7][-3]==\"*\" and txt[-11][-2]!=\"*\":\n",
    "                try:\n",
    "                    with open(name1,'w') as nf:\n",
    "                        nf.write(txt_all)\n",
    "                except:\n",
    "                    os.mkdir(\"data/筛选出来的文件/%s\"%s1)\n",
    "                    with open(name1,'w') as nf:\n",
    "                        nf.write(txt_all)\n",
    "            else:\n",
    "                pass"
   ],
   "metadata": {
    "collapsed": false,
    "pycharm": {
     "name": "#%%\n"
    }
   }
  },
  {
   "cell_type": "code",
   "execution_count": 29,
   "outputs": [
    {
     "name": "stdout",
     "output_type": "stream",
     "text": [
      "数据[01,02,03,04,05,06 ]交集为5的次数是162次\n"
     ]
    }
   ],
   "source": [
    "#读取数据\n",
    "with open('data/b.txt','r') as f:\n",
    "    num_all=dict()\n",
    "    b=f.readlines()\n",
    "    with open('data/a.txt') as f:\n",
    "        a=f.readlines()\n",
    "        for b_ in b:\n",
    "            num=0\n",
    "            bb=set(b_[:-1].split(','))\n",
    "            for a_ in a:\n",
    "                aa=set(a_[:-1].split(','))#变成集合\n",
    "                set_num=len(aa&bb)\n",
    "                if set_num==5:\n",
    "                    num+=1\n",
    "            num_all[b_]=num\n",
    "#输出\n",
    "for items in num_all.items():\n",
    "    print(\"数据[{}]交集为5的次数是{}次\".format(items[0],items[1]))\n",
    "\n",
    "#将结果存入txt文件\n",
    "with open('结果.txt','w') as f:\n",
    "    for items in num_all.items():\n",
    "        f.write(\"数据[{}]交集为5的次数是{}次\\n\".format(items[0],items[1]))"
   ],
   "metadata": {
    "collapsed": false,
    "pycharm": {
     "name": "#%%\n"
    }
   }
  },
  {
   "cell_type": "code",
   "execution_count": 28,
   "outputs": [],
   "source": [],
   "metadata": {
    "collapsed": false,
    "pycharm": {
     "name": "#%%\n"
    }
   }
  },
  {
   "cell_type": "code",
   "execution_count": 20,
   "outputs": [
    {
     "data": {
      "text/plain": "\"{'01,02,03,04,05,06 ': 162}\""
     },
     "execution_count": 20,
     "metadata": {},
     "output_type": "execute_result"
    }
   ],
   "source": [
    "str(num_all)"
   ],
   "metadata": {
    "collapsed": false,
    "pycharm": {
     "name": "#%%\n"
    }
   }
  },
  {
   "cell_type": "code",
   "execution_count": 21,
   "outputs": [],
   "source": [
    "num_all['022,03,44']=134"
   ],
   "metadata": {
    "collapsed": false,
    "pycharm": {
     "name": "#%%\n"
    }
   }
  },
  {
   "cell_type": "code",
   "execution_count": 25,
   "outputs": [
    {
     "ename": "KeyError",
     "evalue": "0",
     "output_type": "error",
     "traceback": [
      "\u001B[0;31m---------------------------------------------------------------------------\u001B[0m",
      "\u001B[0;31mKeyError\u001B[0m                                  Traceback (most recent call last)",
      "Input \u001B[0;32mIn [25]\u001B[0m, in \u001B[0;36m<cell line: 1>\u001B[0;34m()\u001B[0m\n\u001B[0;32m----> 1\u001B[0m \u001B[43mnum_all\u001B[49m\u001B[43m[\u001B[49m\u001B[38;5;241;43m0\u001B[39;49m\u001B[43m]\u001B[49m\n",
      "\u001B[0;31mKeyError\u001B[0m: 0"
     ]
    }
   ],
   "source": [],
   "metadata": {
    "collapsed": false,
    "pycharm": {
     "name": "#%%\n"
    }
   }
  },
  {
   "cell_type": "code",
   "execution_count": null,
   "outputs": [],
   "source": [],
   "metadata": {
    "collapsed": false,
    "pycharm": {
     "name": "#%%\n"
    }
   }
  }
 ],
 "metadata": {
  "kernelspec": {
   "display_name": "Python 3",
   "language": "python",
   "name": "python3"
  },
  "language_info": {
   "codemirror_mode": {
    "name": "ipython",
    "version": 2
   },
   "file_extension": ".py",
   "mimetype": "text/x-python",
   "name": "python",
   "nbconvert_exporter": "python",
   "pygments_lexer": "ipython2",
   "version": "2.7.6"
  }
 },
 "nbformat": 4,
 "nbformat_minor": 0
}