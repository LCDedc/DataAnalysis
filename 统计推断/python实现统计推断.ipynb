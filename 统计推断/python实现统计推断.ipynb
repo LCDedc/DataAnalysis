{
 "cells": [
  {
   "cell_type": "markdown",
   "metadata": {},
   "source": [
    "# 期末作业, 有两项选择, 请同学们二选一\n",
    "* 请在6月19日17:00前，将案例分析报告交至如下链接:\n",
    "* https://workspace.jianguoyun.com/inbox/collect/3df899ec9f4d4de2b72a2ed18a373551/submit\n",
    "* 提交作业时，请输入学号、姓名、手机号，以便出现问题时联系。\n",
    "* 若有问题，可联系我，手机：13761230790"
   ]
  },
  {
   "cell_type": "markdown",
   "metadata": {},
   "source": [
    "# 选择一: 完成一篇实证研究的论文\n",
    "* 具体要求:\n",
    "    * 实证论文研究对象自拟(可以是自己关心的任一专业问题)\n",
    "    * 要求使用到本课程学到的统计方法中的至少一种, 如: 单个样本均值推断、两个样本均值推断、方差分析、相关分析、回归分析\n",
    "    * 请确保数据来源、统计方法的合理性\n",
    "    * 论文格式, 可参阅使用实证类学术论文(可自行在知网检索相关论文)\n",
    "    * 字数不少于2500字, 不得直接抄袭他人论文\n",
    "    * 提交保存好的word文档"
   ]
  },
  {
   "cell_type": "markdown",
   "metadata": {},
   "source": [
    "# 选择二: 完成一篇数据统计分析报告\n",
    "* 具体要求:\n",
    "    * 请分步骤完成如下各部分要求, 根据各部分完成情况给分\n",
    "    * 数据分析在ipynb脚本文件中完成, 请给出计算代码, 输出运行结果(关键性统计数据,如p值), 解释所得结论(在markdown单元格中说明、或在代码单元格中用注释说明)\n",
    "    * 若无特殊说明, 所有统计推断问题的显著性水平为α=0.05\n",
    "    * 提交保存好的ipynb脚本文件(请确保代码可用性, 以便运行验证代码)"
   ]
  },
  {
   "cell_type": "markdown",
   "metadata": {},
   "source": [
    "## 数据导入与整理\n",
    "* '期末作业.xlsx'文件中包括2016-2020年间的日收益率数据, 数据列解释如下:\n",
    "    * 沪深300:  沪深300指数的日收益率\n",
    "    * 内地银行:  中证内地银行主题指数的日收益率\n",
    "    * 浦发银行:  浦发银行股票的日收益率"
   ]
  },
  {
   "cell_type": "markdown",
   "metadata": {},
   "source": [
    "* 导入excel表格数据, 参考代码如下:\n",
    "\n",
    "* 请确保excel文件与ipynb脚本文件在同一文件夹, 否则应在代码中给excel文件名添加所在路径"
   ]
  },
  {
   "cell_type": "code",
   "execution_count": 13,
   "metadata": {},
   "outputs": [],
   "source": [
    "#更新包\n",
    "#!pip install statsmodels --upgrade\n",
    "#!pip install statsmodels --scipy"
   ]
  },
  {
   "cell_type": "code",
   "execution_count": 1,
   "metadata": {},
   "outputs": [
    {
     "data": {
      "text/html": [
       "<div>\n",
       "<style scoped>\n",
       "    .dataframe tbody tr th:only-of-type {\n",
       "        vertical-align: middle;\n",
       "    }\n",
       "\n",
       "    .dataframe tbody tr th {\n",
       "        vertical-align: top;\n",
       "    }\n",
       "\n",
       "    .dataframe thead th {\n",
       "        text-align: right;\n",
       "    }\n",
       "</style>\n",
       "<table border=\"1\" class=\"dataframe\">\n",
       "  <thead>\n",
       "    <tr style=\"text-align: right;\">\n",
       "      <th></th>\n",
       "      <th>沪深300</th>\n",
       "      <th>内地银行</th>\n",
       "      <th>浦发银行</th>\n",
       "    </tr>\n",
       "    <tr>\n",
       "      <th>date</th>\n",
       "      <th></th>\n",
       "      <th></th>\n",
       "      <th></th>\n",
       "    </tr>\n",
       "  </thead>\n",
       "  <tbody>\n",
       "    <tr>\n",
       "      <th>2016-01-04</th>\n",
       "      <td>-0.072792</td>\n",
       "      <td>-0.046348</td>\n",
       "      <td>-0.026062</td>\n",
       "    </tr>\n",
       "    <tr>\n",
       "      <th>2016-01-05</th>\n",
       "      <td>0.002796</td>\n",
       "      <td>0.007482</td>\n",
       "      <td>0.008955</td>\n",
       "    </tr>\n",
       "    <tr>\n",
       "      <th>2016-01-06</th>\n",
       "      <td>0.017391</td>\n",
       "      <td>0.007626</td>\n",
       "      <td>0.007763</td>\n",
       "    </tr>\n",
       "    <tr>\n",
       "      <th>2016-01-07</th>\n",
       "      <td>-0.071853</td>\n",
       "      <td>-0.040656</td>\n",
       "      <td>-0.033140</td>\n",
       "    </tr>\n",
       "    <tr>\n",
       "      <th>2016-01-08</th>\n",
       "      <td>0.020187</td>\n",
       "      <td>0.011841</td>\n",
       "      <td>-0.001141</td>\n",
       "    </tr>\n",
       "  </tbody>\n",
       "</table>\n",
       "</div>"
      ],
      "text/plain": [
       "               沪深300      内地银行      浦发银行\n",
       "date                                    \n",
       "2016-01-04 -0.072792 -0.046348 -0.026062\n",
       "2016-01-05  0.002796  0.007482  0.008955\n",
       "2016-01-06  0.017391  0.007626  0.007763\n",
       "2016-01-07 -0.071853 -0.040656 -0.033140\n",
       "2016-01-08  0.020187  0.011841 -0.001141"
      ]
     },
     "execution_count": 1,
     "metadata": {},
     "output_type": "execute_result"
    }
   ],
   "source": [
    "import pandas as pd\n",
    "population = pd.read_excel('期末作业.xlsx', index_col=0 )\n",
    "population.head()"
   ]
  },
  {
   "cell_type": "code",
   "execution_count": 2,
   "metadata": {},
   "outputs": [
    {
     "name": "stdout",
     "output_type": "stream",
     "text": [
      "<class 'pandas.core.frame.DataFrame'>\n",
      "DatetimeIndex: 1147 entries, 2016-01-04 to 2020-12-31\n",
      "Data columns (total 3 columns):\n",
      " #   Column  Non-Null Count  Dtype  \n",
      "---  ------  --------------  -----  \n",
      " 0   沪深300   1147 non-null   float64\n",
      " 1   内地银行    1147 non-null   float64\n",
      " 2   浦发银行    1147 non-null   float64\n",
      "dtypes: float64(3)\n",
      "memory usage: 35.8 KB\n"
     ]
    }
   ],
   "source": [
    "population.info()"
   ]
  },
  {
   "cell_type": "markdown",
   "metadata": {},
   "source": [
    "* 从上述总体数据中产生一个随机样本, 样本容量n=100, 参考代码如下:\n",
    "* 注意:\n",
    "    * 为保证每位同学的样本、分析结果有差异, 请将'random_state='参数设置为自己学号的后7位; \n",
    "    * 若第7位为0, 则设置为学号的后6位, 或后5位, 或后4位(依次顺延)"
   ]
  },
  {
   "cell_type": "code",
   "execution_count": 3,
   "metadata": {},
   "outputs": [
    {
     "data": {
      "text/html": [
       "<div>\n",
       "<style scoped>\n",
       "    .dataframe tbody tr th:only-of-type {\n",
       "        vertical-align: middle;\n",
       "    }\n",
       "\n",
       "    .dataframe tbody tr th {\n",
       "        vertical-align: top;\n",
       "    }\n",
       "\n",
       "    .dataframe thead th {\n",
       "        text-align: right;\n",
       "    }\n",
       "</style>\n",
       "<table border=\"1\" class=\"dataframe\">\n",
       "  <thead>\n",
       "    <tr style=\"text-align: right;\">\n",
       "      <th></th>\n",
       "      <th>沪深300</th>\n",
       "      <th>内地银行</th>\n",
       "      <th>浦发银行</th>\n",
       "    </tr>\n",
       "    <tr>\n",
       "      <th>date</th>\n",
       "      <th></th>\n",
       "      <th></th>\n",
       "      <th></th>\n",
       "    </tr>\n",
       "  </thead>\n",
       "  <tbody>\n",
       "    <tr>\n",
       "      <th>2018-09-10</th>\n",
       "      <td>-0.014622</td>\n",
       "      <td>-0.004407</td>\n",
       "      <td>-0.000987</td>\n",
       "    </tr>\n",
       "    <tr>\n",
       "      <th>2019-09-12</th>\n",
       "      <td>0.010701</td>\n",
       "      <td>0.003925</td>\n",
       "      <td>0.004172</td>\n",
       "    </tr>\n",
       "    <tr>\n",
       "      <th>2018-09-18</th>\n",
       "      <td>0.019928</td>\n",
       "      <td>0.016010</td>\n",
       "      <td>0.010789</td>\n",
       "    </tr>\n",
       "    <tr>\n",
       "      <th>2019-09-26</th>\n",
       "      <td>-0.007740</td>\n",
       "      <td>0.014037</td>\n",
       "      <td>0.013453</td>\n",
       "    </tr>\n",
       "    <tr>\n",
       "      <th>2018-06-15</th>\n",
       "      <td>-0.005296</td>\n",
       "      <td>0.004313</td>\n",
       "      <td>0.007796</td>\n",
       "    </tr>\n",
       "    <tr>\n",
       "      <th>...</th>\n",
       "      <td>...</td>\n",
       "      <td>...</td>\n",
       "      <td>...</td>\n",
       "    </tr>\n",
       "    <tr>\n",
       "      <th>2017-01-23</th>\n",
       "      <td>0.002736</td>\n",
       "      <td>-0.002039</td>\n",
       "      <td>-0.001806</td>\n",
       "    </tr>\n",
       "    <tr>\n",
       "      <th>2016-09-06</th>\n",
       "      <td>0.006888</td>\n",
       "      <td>-0.005192</td>\n",
       "      <td>-0.004861</td>\n",
       "    </tr>\n",
       "    <tr>\n",
       "      <th>2016-05-04</th>\n",
       "      <td>-0.001270</td>\n",
       "      <td>-0.000204</td>\n",
       "      <td>-0.002207</td>\n",
       "    </tr>\n",
       "    <tr>\n",
       "      <th>2018-09-28</th>\n",
       "      <td>0.010311</td>\n",
       "      <td>0.012655</td>\n",
       "      <td>0.013272</td>\n",
       "    </tr>\n",
       "    <tr>\n",
       "      <th>2020-01-13</th>\n",
       "      <td>0.009753</td>\n",
       "      <td>0.002724</td>\n",
       "      <td>0.001617</td>\n",
       "    </tr>\n",
       "  </tbody>\n",
       "</table>\n",
       "<p>100 rows × 3 columns</p>\n",
       "</div>"
      ],
      "text/plain": [
       "               沪深300      内地银行      浦发银行\n",
       "date                                    \n",
       "2018-09-10 -0.014622 -0.004407 -0.000987\n",
       "2019-09-12  0.010701  0.003925  0.004172\n",
       "2018-09-18  0.019928  0.016010  0.010789\n",
       "2019-09-26 -0.007740  0.014037  0.013453\n",
       "2018-06-15 -0.005296  0.004313  0.007796\n",
       "...              ...       ...       ...\n",
       "2017-01-23  0.002736 -0.002039 -0.001806\n",
       "2016-09-06  0.006888 -0.005192 -0.004861\n",
       "2016-05-04 -0.001270 -0.000204 -0.002207\n",
       "2018-09-28  0.010311  0.012655  0.013272\n",
       "2020-01-13  0.009753  0.002724  0.001617\n",
       "\n",
       "[100 rows x 3 columns]"
      ]
     },
     "execution_count": 3,
     "metadata": {},
     "output_type": "execute_result"
    }
   ],
   "source": [
    "sample = population.sample(n=100,random_state=8010111)\n",
    "# 假设某同学的学号为 202125010257, random_state=参数设置为学号的后7位5010257\n",
    "sample"
   ]
  },
  {
   "cell_type": "markdown",
   "metadata": {},
   "source": [
    "## 描述性统计"
   ]
  },
  {
   "cell_type": "markdown",
   "metadata": {},
   "source": [
    "* 基于总体数据, 计算上述三项资产(组合)各自的日收益率均值"
   ]
  },
  {
   "cell_type": "code",
   "execution_count": 4,
   "metadata": {},
   "outputs": [
    {
     "data": {
      "text/plain": [
       "沪深300    0.000290\n",
       "内地银行     0.000062\n",
       "浦发银行    -0.000123\n",
       "dtype: float64"
      ]
     },
     "execution_count": 4,
     "metadata": {},
     "output_type": "execute_result"
    }
   ],
   "source": [
    "#均值计算如下：\n",
    "population.mean()"
   ]
  },
  {
   "cell_type": "markdown",
   "metadata": {},
   "source": [
    "* 基于总体数据, 计算上述三项资产(组合)各自的日收益率标准差(总体的标准差)"
   ]
  },
  {
   "cell_type": "code",
   "execution_count": 5,
   "metadata": {},
   "outputs": [
    {
     "data": {
      "text/plain": [
       "沪深300    0.012556\n",
       "内地银行     0.011555\n",
       "浦发银行     0.013243\n",
       "dtype: float64"
      ]
     },
     "execution_count": 5,
     "metadata": {},
     "output_type": "execute_result"
    }
   ],
   "source": [
    "#总体数据的标准差如下：\n",
    "population.std(ddof=0)"
   ]
  },
  {
   "cell_type": "markdown",
   "metadata": {},
   "source": [
    "* 基于总体数据, 计算浦发银行日收益率的四分位距"
   ]
  },
  {
   "cell_type": "code",
   "execution_count": 6,
   "metadata": {},
   "outputs": [
    {
     "data": {
      "text/plain": [
       "0.012401022837360325"
      ]
     },
     "execution_count": 6,
     "metadata": {},
     "output_type": "execute_result"
    }
   ],
   "source": [
    "#四分位矩计算如下：\n",
    "population.浦发银行.quantile(0.75)  -  population.浦发银行.quantile(0.25)"
   ]
  },
  {
   "cell_type": "markdown",
   "metadata": {},
   "source": [
    "## 单个样本均值推断"
   ]
  },
  {
   "cell_type": "markdown",
   "metadata": {},
   "source": [
    "* 基于上述抽样产生的样本数据, 使用单样本t分数检验(双尾), 推断: 浦发银行日收益率的总体均值等于0吗?"
   ]
  },
  {
   "cell_type": "markdown",
   "metadata": {},
   "source": [
    "* 陈述假设\n",
    "  * 原假设$H_0:μ_{浦发银行日收益率的总体均值}=0$\n",
    "  * 备择假设$H_1:μ_{浦发银行日收益率的总体均值}≠0$"
   ]
  },
  {
   "cell_type": "code",
   "execution_count": 17,
   "metadata": {},
   "outputs": [
    {
     "name": "stdout",
     "output_type": "stream",
     "text": [
      "t值为:0.759435 ,p值为:0.449397\n",
      "p值大于0.05,接受原假设，认为浦发银行日收益率的总体均值等于0\n"
     ]
    }
   ],
   "source": [
    "from scipy import stats\n",
    "score=sample.浦发银行\n",
    "n = score.count()   # 样本的容量\n",
    "df = n-1   # 样本的自由度\n",
    "M = score.mean()    # 样本的均值\n",
    "SS = ((score-M)**2).sum()   # 样本的离差平方和\n",
    "s_2 = SS/df  # 样本的方差\n",
    "s_M = (s_2/n)**0.5  # 估计标准误(样本均值标准差的估计值)\n",
    "t =  (M-0)/s_M    # 样本的t分数\n",
    "from scipy import stats\n",
    "pvalue = stats.t.cdf(x=(-t), df=df) *2  # t分数对应的p值(双尾), 左尾概率*2\n",
    "print('t值为:%.6f ,p值为:%.6f'%(t,pvalue))\n",
    "print('p值大于0.05,接受原假设，认为浦发银行日收益率的总体均值等于0')"
   ]
  },
  {
   "cell_type": "code",
   "execution_count": 8,
   "metadata": {},
   "outputs": [
    {
     "data": {
      "text/plain": [
       "Ttest_1sampResult(statistic=0.7594352653716778, pvalue=0.4493967719210248)"
      ]
     },
     "execution_count": 8,
     "metadata": {},
     "output_type": "execute_result"
    }
   ],
   "source": [
    "# 使用scipy.stats包完成t检验, 原假设:  a.mean() - popmean= 0\n",
    "from scipy import stats\n",
    "stats.ttest_1samp(a=score,popmean=0) # 双尾检验"
   ]
  },
  {
   "cell_type": "code",
   "execution_count": 9,
   "metadata": {},
   "outputs": [
    {
     "data": {
      "text/plain": [
       "(0.7594352653716776, 0.4493967719210249, 99.0)"
      ]
     },
     "execution_count": 9,
     "metadata": {},
     "output_type": "execute_result"
    }
   ],
   "source": [
    "# 使用statsmodels包完成t检验, 原假设:  score.mean() - value= 0\n",
    "import statsmodels.api as sm\n",
    "sm.stats.DescrStatsW(score).ttest_mean(value=0)"
   ]
  },
  {
   "cell_type": "markdown",
   "metadata": {},
   "source": [
    "* 基于上述抽样产生的样本数据, 使用单样本t分数检验(单尾), 推断: 内地银行(组合)日收益率的总体均值大于0吗?\n",
    "* 注意: 请写出原假设、备择假设, 根据备择假设设置好单尾检验方向"
   ]
  },
  {
   "cell_type": "markdown",
   "metadata": {},
   "source": [
    "* 陈述假设\n",
    "  * 原假设$H_0:μ_{内地银行日收益率的总体均值}≤0$\n",
    "  * 备择假设$H_1:μ_{内地银行日收益率的总体均值}>0$"
   ]
  },
  {
   "cell_type": "code",
   "execution_count": 20,
   "metadata": {},
   "outputs": [
    {
     "name": "stdout",
     "output_type": "stream",
     "text": [
      "t值为:0.586232 ,p值为:0.279527\n",
      "p值大于0.05,接受原假设，认为内地银行(组合)日收益率的总体均值小于等于0\n"
     ]
    }
   ],
   "source": [
    "score2=sample.内地银行\n",
    "n = score2.count()   # 样本的容量\n",
    "df = n-1   # 样本的自由度\n",
    "M = score2.mean()    # 样本的均值\n",
    "SS = ((score2-M)**2).sum()   # 样本的离差平方和\n",
    "s_2 = SS/df  # 样本的方差\n",
    "s_M = (s_2/n)**0.5  # 估计标准误(样本均值标准差的估计值)\n",
    "t =  (M-0)/s_M    # 样本的t分数\n",
    "pvalue = 1- stats.t.cdf(x=t,df=df)   # t分数对应的p值(右尾)\n",
    "print('t值为:%.6f ,p值为:%.6f'%(t,pvalue))\n",
    "print('p值大于0.05,接受原假设，认为内地银行(组合)日收益率的总体均值小于等于0')"
   ]
  },
  {
   "cell_type": "code",
   "execution_count": 21,
   "metadata": {},
   "outputs": [
    {
     "data": {
      "text/plain": [
       "Ttest_1sampResult(statistic=0.5862319750844187, pvalue=0.2795269420927815)"
      ]
     },
     "execution_count": 21,
     "metadata": {},
     "output_type": "execute_result"
    }
   ],
   "source": [
    "# 使用scipy.stats包完成t检验, 原假设:  a.mean() - popmean ≤ 0\n",
    "from scipy import stats\n",
    "stats.ttest_1samp(a=score2, popmean=0, alternative='greater') \n",
    "# alternative='greater' 指定右尾检验。"
   ]
  },
  {
   "cell_type": "code",
   "execution_count": 22,
   "metadata": {},
   "outputs": [
    {
     "data": {
      "text/plain": [
       "(0.5862319750844185, 0.2795269420927816, 99.0)"
      ]
     },
     "execution_count": 22,
     "metadata": {},
     "output_type": "execute_result"
    }
   ],
   "source": [
    "#使用statsmodels包完成t检验, 原假设:  score.mean() - value ≤ 0\n",
    "import statsmodels.api as sm\n",
    "sm.stats.DescrStatsW(score2).ttest_mean(value=0,alternative='larger')\n",
    "# alternative='two-sided'双尾检验, 默认值\n",
    "# alternative='larger' 右尾检验\n",
    "# alternative='smaller' 左尾检验"
   ]
  },
  {
   "cell_type": "markdown",
   "metadata": {},
   "source": [
    "* 基于上述抽样产生的样本数据, 计算: 沪深300(组合)日收益率总体均值的置信水平95%的置信区间."
   ]
  },
  {
   "cell_type": "code",
   "execution_count": 29,
   "metadata": {},
   "outputs": [
    {
     "name": "stdout",
     "output_type": "stream",
     "text": [
      " 沪深300(组合)日收益率总体均值的置信水平95%的置信区间为(-0.0033,0.0023)\n"
     ]
    }
   ],
   "source": [
    "# 计算估计标准误(样本均值标准差的估计值)\n",
    "score3=sample.沪深300\n",
    "n = score3.count()   # 样本的容量\n",
    "df = n-1   # 样本的自由度\n",
    "M = score3.mean()    # 样本的均值\n",
    "SS = ((score3-M)**2).sum()   # 样本的离差平方和\n",
    "s_2 = SS/df  # 样本的方差\n",
    "s_M = (s_2/n)**0.5  # 估计标准误(样本均值的估计标准差)\n",
    "alpha = 0.05 # 显著水平α=0.05,对应置信水平95%的置信区间 \n",
    "t_left = stats.t.ppf(q=alpha/2,df=df)  # 左侧临界值，X小于该分位数的概率为alpha/2=0.025\n",
    "M_left = M - abs(t_left) * s_M  # 置信区间的左界\n",
    "M_right = M + abs(t_left) * s_M  # 置信区间的右界\n",
    "print(' 沪深300(组合)日收益率总体均值的置信水平95%%的置信区间为(%.4f,%.4f)'%(M_left,M_right))"
   ]
  },
  {
   "cell_type": "code",
   "execution_count": 30,
   "metadata": {},
   "outputs": [
    {
     "data": {
      "text/plain": [
       "(-0.0032904582514991856, 0.002329758130533685)"
      ]
     },
     "execution_count": 30,
     "metadata": {},
     "output_type": "execute_result"
    }
   ],
   "source": [
    "# 使用scipy.stats包直接得到区间估计(方法1)\n",
    "from scipy import stats\n",
    "stats.t.interval(alpha=0.95,  # 95%的置信区间\n",
    "                 loc=score3.mean(),\n",
    "                 scale=score3.std(ddof=1)/score3.count()**0.5,  # 样本均值的标准差(估计标准误)\n",
    "                 df=score3.count()-1\n",
    "                )"
   ]
  },
  {
   "cell_type": "code",
   "execution_count": 31,
   "metadata": {},
   "outputs": [
    {
     "data": {
      "text/plain": [
       "(Mean(statistic=-0.0004803500604827504, minmax=(-0.0032904582514991856, 0.002329758130533685)),\n",
       " Variance(statistic=0.00020470631049815212, minmax=(0.0001546192542882193, 0.00027066820808181047)),\n",
       " Std_dev(statistic=0.014270734277220923, minmax=(0.012434599080316957, 0.01645199708490767)))"
      ]
     },
     "execution_count": 31,
     "metadata": {},
     "output_type": "execute_result"
    }
   ],
   "source": [
    "# 使用scipy.stats包直接得到区间估计(方法2)\n",
    "from scipy import stats\n",
    "stats.bayes_mvs(data=score3, alpha=0.95)  \n",
    "# alpha=0.95, 置信水平0.95\n",
    "# 返回结果第1项是总体均值的点估计、区间估计"
   ]
  },
  {
   "cell_type": "code",
   "execution_count": 32,
   "metadata": {},
   "outputs": [
    {
     "data": {
      "text/plain": [
       "(-0.003290458251499186, 0.0023297581305336853)"
      ]
     },
     "execution_count": 32,
     "metadata": {},
     "output_type": "execute_result"
    }
   ],
   "source": [
    "#使用statsmodels包直接得到区间估计(方法3)\n",
    "import statsmodels.api as sm\n",
    "sm.stats.DescrStatsW(score3).tconfint_mean(alpha=0.05)  \n",
    "# alpha=0.05, 显著水平0.05、置信水平0.95, alpha参数与scipy中的定义相反"
   ]
  },
  {
   "cell_type": "markdown",
   "metadata": {},
   "source": [
    "## 两个样本均值推断"
   ]
  },
  {
   "cell_type": "markdown",
   "metadata": {},
   "source": [
    "* 基于上述抽样产生的样本数据, 使用独立样本t检验(双尾,假设方差齐), 推断: 沪深300、内地银行的日收益率相等吗?"
   ]
  },
  {
   "cell_type": "markdown",
   "metadata": {},
   "source": [
    "* 陈述假设\n",
    "    * 原假设H0：沪深300日收益率均值 = 内地银行日收益率均值  ， 两个总体的均值没有差异\n",
    "    * 备择假设H1：沪深300日收益率均值 ≠ 内地银行日收益率均值 ， 两个总体的均值有差异"
   ]
  },
  {
   "cell_type": "code",
   "execution_count": 33,
   "metadata": {},
   "outputs": [
    {
     "name": "stdout",
     "output_type": "stream",
     "text": [
      "临界值为：-1.972 和 1.972\n",
      "临界区域（拒绝域）为：X<-1.972 和 X>1.972\n"
     ]
    }
   ],
   "source": [
    "group1 = sample.沪深300\n",
    "group2 = sample.内地银行\n",
    "n1 = group1.count()   # 样本1的个数\n",
    "n2 = group2.count()\n",
    "M1 = group1.mean()    # 样本1的均值\n",
    "M2 = group2.mean()\n",
    "SS1 = ((group1-M1)**2).sum()   # 样本1的离差平方和\n",
    "SS2 = ((group2-M2)**2).sum() \n",
    "df1 = n1-1   # 样本1的自由度\n",
    "df2 = n2-1 \n",
    "df = df1 +df2\n",
    "from scipy import stats\n",
    "# 使用ppf函数返回分位数, 也即, 随机变量X小于该分位数的概率为p\n",
    "X_left = stats.t.ppf(0.025,df=df)  # 左侧临界值，X小于该分位数的概率为0.025\n",
    "X_right = stats.t.ppf(1-0.025,df=df)  # 右侧临界值，X小于该分位数的概率为1-0.025，X大于该分位数的概率为0.025\n",
    "print('临界值为：%.3f 和 %.3f'%(X_left,X_right))\n",
    "print('临界区域（拒绝域）为：X<%.3f 和 X>%.3f'%(X_left,X_right))"
   ]
  },
  {
   "cell_type": "code",
   "execution_count": 34,
   "metadata": {},
   "outputs": [
    {
     "name": "stdout",
     "output_type": "stream",
     "text": [
      "t分数为-0.654\n"
     ]
    }
   ],
   "source": [
    "# 若原假设成立, 两个样本的联合统计量M1-M2 服从t分布:\n",
    "s_p_2 = (SS1+SS2)/(df1+df2)               # 两个样本的合并方差\n",
    "s_M1_M2 = (s_p_2/n1 + s_p_2/n2) **0.5     # 估计标准误\n",
    "t = ((M1-M2) - 0) / s_M1_M2               #  t分数\n",
    "print('t分数为%.3f'% t)"
   ]
  },
  {
   "cell_type": "code",
   "execution_count": 38,
   "metadata": {},
   "outputs": [
    {
     "name": "stdout",
     "output_type": "stream",
     "text": [
      "t分数-0.654大于左侧临界值-1.972、处在临界区域（接受域）\n",
      "因而, 应接受原假设, 拒绝备择假设: 两个总体的均值相等\n"
     ]
    }
   ],
   "source": [
    "print('t分数%.3f大于左侧临界值%.3f、处在临界区域（接受域）'% (t,X_left))\n",
    "print('因而, 应接受原假设, 拒绝备择假设: 两个总体的均值相等')"
   ]
  },
  {
   "cell_type": "code",
   "execution_count": 42,
   "metadata": {},
   "outputs": [
    {
     "name": "stdout",
     "output_type": "stream",
     "text": [
      "t值为:-0.653514 ,p值为:0.514183\n",
      "p值大于0.05,接受原假设，认为两个总体的均值相等\n"
     ]
    }
   ],
   "source": [
    "# 基于t分数, 计算p值: 不需要根据显著水平α计算临界值和临界区域(拒绝域)\n",
    "pvalue = stats.t.cdf(x=(t), df=df) *2  # p值：比t分数更极端的概率（双尾）\n",
    "print('t值为:%.6f ,p值为:%.6f'%(t,pvalue))\n",
    "print('p值大于0.05,接受原假设，认为两个总体的均值相等')"
   ]
  },
  {
   "cell_type": "code",
   "execution_count": 39,
   "metadata": {},
   "outputs": [
    {
     "data": {
      "text/plain": [
       "Ttest_indResult(statistic=-0.6535144674295027, pvalue=0.5141828629049624)"
      ]
     },
     "execution_count": 39,
     "metadata": {},
     "output_type": "execute_result"
    }
   ],
   "source": [
    "# 使用scipy.stats包完成两个独立样本t检验, 原假设:  a.mean() - b.mean() = 0\n",
    "from scipy import stats\n",
    "stats.ttest_ind(a=group1,b=group2,equal_var=True)\n",
    "# 默认为双尾检验\n",
    "# equal_var=True 总体方差相等"
   ]
  },
  {
   "cell_type": "code",
   "execution_count": 40,
   "metadata": {},
   "outputs": [
    {
     "data": {
      "text/plain": [
       "(-0.6535144674295025, 0.5141828629049624, 198.0)"
      ]
     },
     "execution_count": 40,
     "metadata": {},
     "output_type": "execute_result"
    }
   ],
   "source": [
    "#使用statsmodels包完成两个独立样本t检验, 原假设:  x1.mean() - x2.mean() = 0\n",
    "import statsmodels.api as sm\n",
    "sm.stats.ttest_ind(x1=group1,x2=group2, alternative='two-sided', usevar='pooled', value=0)\n",
    "# alternative='two-sided' 双边检验\n",
    "# usevar='pooled' 总体方差相等\n",
    "# value=0 假设x1.mean() - x2.mean() = 0"
   ]
  },
  {
   "cell_type": "markdown",
   "metadata": {},
   "source": [
    "* 基于上述抽样产生的样本数据, 使用独立样本t检验(单尾,假设方差齐), 推断: 沪深300的日收益率大于浦发银行的日收益率吗?\n",
    "* 注意: 请写出原假设、备择假设, 根据备择假设设置好单尾检验方向"
   ]
  },
  {
   "cell_type": "markdown",
   "metadata": {},
   "source": [
    "* 陈述假设\n",
    "    * 原假设H0：沪深300日收益率均值 ≤ 内地银行日收益率均值  \n",
    "    * 备择假设H1：沪深300日收益率均值 ＞ 内地银行日收益率均值 "
   ]
  },
  {
   "cell_type": "code",
   "execution_count": 43,
   "metadata": {},
   "outputs": [
    {
     "name": "stdout",
     "output_type": "stream",
     "text": [
      "临界值为：1.653\n",
      "临界区域（拒绝域）为：X>1.653,拒绝域在右尾(与备择假设一致)\n"
     ]
    }
   ],
   "source": [
    "X_singal_tail = stats.t.ppf(1-0.05,df=df)  \n",
    "# 右尾临界值，X小于该分位数的概率为1-0.05=0.95，X大于该分位数的概率为0.05\n",
    "print('临界值为：%.3f'% X_singal_tail)\n",
    "print('临界区域（拒绝域）为：X>%.3f,拒绝域在右尾(与备择假设一致)'% X_singal_tail)"
   ]
  },
  {
   "cell_type": "code",
   "execution_count": 45,
   "metadata": {},
   "outputs": [
    {
     "name": "stdout",
     "output_type": "stream",
     "text": [
      "t分数为-0.654, t分数小于临界值1.653、处在临界区域（拒绝域）\n",
      "因而,应接受原假设,拒绝备择假设: 沪深300日收益率均值小于等于内地银行日收益率均值\n"
     ]
    }
   ],
   "source": [
    "# 若原假设成立, 两个样本的联合统计量M1-M2 服从t分布:\n",
    "print('t分数为%.3f, t分数小于临界值%.3f、处在临界区域（拒绝域）'% (t,X_singal_tail))\n",
    "print('因而,应接受原假设,拒绝备择假设: 沪深300日收益率均值小于等于内地银行日收益率均值')"
   ]
  },
  {
   "cell_type": "code",
   "execution_count": 46,
   "metadata": {},
   "outputs": [
    {
     "data": {
      "text/plain": [
       "0.7429085685475187"
      ]
     },
     "execution_count": 46,
     "metadata": {},
     "output_type": "execute_result"
    }
   ],
   "source": [
    "# 基于t分数, 计算p值: 不需要根据显著水平α计算临界值和临界区域(拒绝域)\n",
    "1- stats.t.cdf(t,df=df)  # p值：是越过统计量的右尾概率（拒绝域在右侧）\n",
    "# p值大于显著水平α=0.05，接受原假设"
   ]
  },
  {
   "cell_type": "code",
   "execution_count": 47,
   "metadata": {},
   "outputs": [
    {
     "data": {
      "text/plain": [
       "Ttest_indResult(statistic=-0.6535144674295027, pvalue=0.7429085685475187)"
      ]
     },
     "execution_count": 47,
     "metadata": {},
     "output_type": "execute_result"
    }
   ],
   "source": [
    "# 使用scipy.stats包完成两个独立样本t检验, 原假设:  a.mean() - b.mean() ≤ 0\n",
    "from scipy import stats\n",
    "stats.ttest_ind(a=group1,b=group2,equal_var=True, alternative='greater')\n",
    "# alternative='greater' 指定右尾检验，注意: 低版本scipy无法指定alternative参数"
   ]
  },
  {
   "cell_type": "code",
   "execution_count": 48,
   "metadata": {},
   "outputs": [
    {
     "data": {
      "text/plain": [
       "(-0.6535144674295025, 0.7429085685475187, 198.0)"
      ]
     },
     "execution_count": 48,
     "metadata": {},
     "output_type": "execute_result"
    }
   ],
   "source": [
    "#使用statsmodels包完成两个独立样本t检验, 原假设:  x1.mean() - x2.mean() ≤ 0\n",
    "import statsmodels.api as sm\n",
    "sm.stats.ttest_ind(x1=group1,x2=group2, alternative='larger', usevar='pooled')\n",
    "# alternative='larger' 右尾检验(拒绝域在右尾)\n",
    "# usevar='pooled' 总体方差相等"
   ]
  },
  {
   "cell_type": "markdown",
   "metadata": {},
   "source": [
    "## 方差分析"
   ]
  },
  {
   "cell_type": "markdown",
   "metadata": {},
   "source": [
    "* 基于上述抽样产生的样本数据, 使用Levene检验, 推断: 沪深300、内地银行、浦发银行日收益率的总体方差相等吗?(方差齐性检验)"
   ]
  },
  {
   "cell_type": "code",
   "execution_count": 50,
   "metadata": {},
   "outputs": [
    {
     "data": {
      "text/plain": [
       "LeveneResult(statistic=0.17982425709934582, pvalue=0.8355079072279369)"
      ]
     },
     "execution_count": 50,
     "metadata": {},
     "output_type": "execute_result"
    }
   ],
   "source": [
    "from scipy import stats\n",
    "group3=sample.浦发银行\n",
    "stats.levene(group1, group2,group3, center='median')\n",
    "# center='median' 缺省值, 基于中位数做同方差检验"
   ]
  },
  {
   "cell_type": "markdown",
   "metadata": {},
   "source": [
    "* 答：p值>0.05, 接受原假设： 各样本对应总体的方差相等"
   ]
  },
  {
   "cell_type": "markdown",
   "metadata": {},
   "source": [
    "* 基于上述抽样产生的样本数据, 使用方差分析(单因素独立测量,假设满足方差齐的要求), 推断: 沪深300、内地银行、浦发银行日收益率的均值相等吗?\n",
    "* 注意, sample为宽数据、3列"
   ]
  },
  {
   "cell_type": "code",
   "execution_count": 52,
   "metadata": {},
   "outputs": [
    {
     "data": {
      "text/plain": [
       "F_onewayResult(statistic=0.353778252861452, pvalue=0.7023260598881742)"
      ]
     },
     "execution_count": 52,
     "metadata": {},
     "output_type": "execute_result"
    }
   ],
   "source": [
    "stats.f_oneway(group1, group2, group3) "
   ]
  },
  {
   "cell_type": "markdown",
   "metadata": {},
   "source": [
    "* p值>0.05, 接受原假设： 沪深300、内地银行、浦发银行日收益率的均值相等"
   ]
  },
  {
   "cell_type": "markdown",
   "metadata": {},
   "source": [
    "## 相关分析"
   ]
  },
  {
   "cell_type": "markdown",
   "metadata": {},
   "source": [
    "* 基于上述抽样产生的样本数据, 计算: 沪深300、浦发银行间的皮尔逊相关系数"
   ]
  },
  {
   "cell_type": "code",
   "execution_count": 54,
   "metadata": {},
   "outputs": [
    {
     "data": {
      "text/plain": [
       "(0.679240411813075, 7.972530294761262e-15)"
      ]
     },
     "execution_count": 54,
     "metadata": {},
     "output_type": "execute_result"
    }
   ],
   "source": [
    "from scipy import stats\n",
    "stats.pearsonr(sample.沪深300, sample.浦发银行)"
   ]
  },
  {
   "cell_type": "markdown",
   "metadata": {},
   "source": [
    "* 答：沪深300、浦发银行间的皮尔逊相关系数为0.679240411813075"
   ]
  },
  {
   "cell_type": "markdown",
   "metadata": {},
   "source": [
    "* 基于上述抽样产生的样本数据, 推断: 沪深300、浦发银行日收益率的总体相关性(总体皮尔逊相关系数是否等于0)"
   ]
  },
  {
   "cell_type": "markdown",
   "metadata": {},
   "source": [
    "* 答： p值远小于预先设定的显著水平α=0.05, 拒绝原假设: 总体的相关系数$r_p≠0$, 对应总体相关，沪深300、浦发银行日收益率的总体相关性(总体皮尔逊相关系数是不等于0。"
   ]
  },
  {
   "cell_type": "markdown",
   "metadata": {},
   "source": [
    "* 基于上述抽样产生的样本数据, 计算: 沪深300、浦发银行间的斯皮尔曼相关系数"
   ]
  },
  {
   "cell_type": "code",
   "execution_count": 55,
   "metadata": {},
   "outputs": [
    {
     "data": {
      "text/plain": [
       "SpearmanrResult(correlation=0.5235043504350435, pvalue=2.2892257796511293e-08)"
      ]
     },
     "execution_count": 55,
     "metadata": {},
     "output_type": "execute_result"
    }
   ],
   "source": [
    "stats.spearmanr(sample.沪深300, sample.浦发银行)"
   ]
  },
  {
   "cell_type": "markdown",
   "metadata": {},
   "source": [
    "* 沪深300、浦发银行间的斯皮尔曼相关系数为0.5235043504350435。"
   ]
  },
  {
   "cell_type": "markdown",
   "metadata": {},
   "source": [
    "## 回归分析"
   ]
  },
  {
   "cell_type": "markdown",
   "metadata": {},
   "source": [
    "* 基于上述抽样产生的样本数据, 以\"沪深300\"为自变量, \"浦发银行\"为因变量, 构建一元线性回归模型\n",
    "* 推断: \"沪深300\"能解释\"浦发银行\"日收益率的变化吗? 请根据回归结果加以说明"
   ]
  },
  {
   "cell_type": "code",
   "execution_count": 58,
   "metadata": {},
   "outputs": [
    {
     "data": {
      "text/html": [
       "<table class=\"simpletable\">\n",
       "<caption>OLS Regression Results</caption>\n",
       "<tr>\n",
       "  <th>Dep. Variable:</th>          <td>浦发银行</td>       <th>  R-squared:         </th> <td>   0.461</td>\n",
       "</tr>\n",
       "<tr>\n",
       "  <th>Model:</th>                   <td>OLS</td>       <th>  Adj. R-squared:    </th> <td>   0.456</td>\n",
       "</tr>\n",
       "<tr>\n",
       "  <th>Method:</th>             <td>Least Squares</td>  <th>  F-statistic:       </th> <td>   83.94</td>\n",
       "</tr>\n",
       "<tr>\n",
       "  <th>Date:</th>             <td>Wed, 01 Jun 2022</td> <th>  Prob (F-statistic):</th> <td>7.97e-15</td>\n",
       "</tr>\n",
       "<tr>\n",
       "  <th>Time:</th>                 <td>09:22:27</td>     <th>  Log-Likelihood:    </th> <td>  310.91</td>\n",
       "</tr>\n",
       "<tr>\n",
       "  <th>No. Observations:</th>      <td>   100</td>      <th>  AIC:               </th> <td>  -617.8</td>\n",
       "</tr>\n",
       "<tr>\n",
       "  <th>Df Residuals:</th>          <td>    98</td>      <th>  BIC:               </th> <td>  -612.6</td>\n",
       "</tr>\n",
       "<tr>\n",
       "  <th>Df Model:</th>              <td>     1</td>      <th>                     </th>     <td> </td>   \n",
       "</tr>\n",
       "<tr>\n",
       "  <th>Covariance Type:</th>      <td>nonrobust</td>    <th>                     </th>     <td> </td>   \n",
       "</tr>\n",
       "</table>\n",
       "<table class=\"simpletable\">\n",
       "<tr>\n",
       "      <td></td>         <th>coef</th>     <th>std err</th>      <th>t</th>      <th>P>|t|</th>  <th>[0.025</th>    <th>0.975]</th>  \n",
       "</tr>\n",
       "<tr>\n",
       "  <th>Intercept</th> <td>    0.0015</td> <td>    0.001</td> <td>    1.341</td> <td> 0.183</td> <td>   -0.001</td> <td>    0.004</td>\n",
       "</tr>\n",
       "<tr>\n",
       "  <th>沪深300</th>     <td>    0.7095</td> <td>    0.077</td> <td>    9.162</td> <td> 0.000</td> <td>    0.556</td> <td>    0.863</td>\n",
       "</tr>\n",
       "</table>\n",
       "<table class=\"simpletable\">\n",
       "<tr>\n",
       "  <th>Omnibus:</th>       <td>33.850</td> <th>  Durbin-Watson:     </th> <td>   2.053</td>\n",
       "</tr>\n",
       "<tr>\n",
       "  <th>Prob(Omnibus):</th> <td> 0.000</td> <th>  Jarque-Bera (JB):  </th> <td>  65.883</td>\n",
       "</tr>\n",
       "<tr>\n",
       "  <th>Skew:</th>          <td> 1.357</td> <th>  Prob(JB):          </th> <td>4.94e-15</td>\n",
       "</tr>\n",
       "<tr>\n",
       "  <th>Kurtosis:</th>      <td> 5.906</td> <th>  Cond. No.          </th> <td>    71.0</td>\n",
       "</tr>\n",
       "</table><br/><br/>Notes:<br/>[1] Standard Errors assume that the covariance matrix of the errors is correctly specified."
      ],
      "text/plain": [
       "<class 'statsmodels.iolib.summary.Summary'>\n",
       "\"\"\"\n",
       "                            OLS Regression Results                            \n",
       "==============================================================================\n",
       "Dep. Variable:                   浦发银行   R-squared:                       0.461\n",
       "Model:                            OLS   Adj. R-squared:                  0.456\n",
       "Method:                 Least Squares   F-statistic:                     83.94\n",
       "Date:                Wed, 01 Jun 2022   Prob (F-statistic):           7.97e-15\n",
       "Time:                        09:22:27   Log-Likelihood:                 310.91\n",
       "No. Observations:                 100   AIC:                            -617.8\n",
       "Df Residuals:                      98   BIC:                            -612.6\n",
       "Df Model:                           1                                         \n",
       "Covariance Type:            nonrobust                                         \n",
       "==============================================================================\n",
       "                 coef    std err          t      P>|t|      [0.025      0.975]\n",
       "------------------------------------------------------------------------------\n",
       "Intercept      0.0015      0.001      1.341      0.183      -0.001       0.004\n",
       "沪深300          0.7095      0.077      9.162      0.000       0.556       0.863\n",
       "==============================================================================\n",
       "Omnibus:                       33.850   Durbin-Watson:                   2.053\n",
       "Prob(Omnibus):                  0.000   Jarque-Bera (JB):               65.883\n",
       "Skew:                           1.357   Prob(JB):                     4.94e-15\n",
       "Kurtosis:                       5.906   Cond. No.                         71.0\n",
       "==============================================================================\n",
       "\n",
       "Notes:\n",
       "[1] Standard Errors assume that the covariance matrix of the errors is correctly specified.\n",
       "\"\"\""
      ]
     },
     "execution_count": 58,
     "metadata": {},
     "output_type": "execute_result"
    }
   ],
   "source": [
    "import statsmodels.formula.api as smf\n",
    "result_y = smf.ols(formula = '浦发银行 ~ 沪深300', data = sample).fit()\n",
    "result_y.summary()"
   ]
  },
  {
   "cell_type": "markdown",
   "metadata": {},
   "source": [
    "* 答：由回归结果可知，R方为0.461，且F检验显著，因此认为该回归方程是显著的，再由回归系数沪深300的t检验也是显著的，因此有理由认为沪深300\"能解释\"浦发银行\"日收益率的变化。"
   ]
  },
  {
   "cell_type": "markdown",
   "metadata": {},
   "source": [
    "* 基于上述抽样产生的样本数据, 以\"沪深300\"、\"内地银行\"为自变量, \"浦发银行\"为因变量, 构建多元线性回归模型\n",
    "* 推断: \"内地银行\"日收益率不变的情况下(控制住行业因素的影响), \"沪深300\"能解释\"浦发银行\"日收益率的变化吗? 请根据回归结果加以说明"
   ]
  },
  {
   "cell_type": "code",
   "execution_count": 60,
   "metadata": {},
   "outputs": [
    {
     "data": {
      "text/html": [
       "<table class=\"simpletable\">\n",
       "<caption>OLS Regression Results</caption>\n",
       "<tr>\n",
       "  <th>Dep. Variable:</th>          <td>浦发银行</td>       <th>  R-squared:         </th> <td>   0.866</td>\n",
       "</tr>\n",
       "<tr>\n",
       "  <th>Model:</th>                   <td>OLS</td>       <th>  Adj. R-squared:    </th> <td>   0.864</td>\n",
       "</tr>\n",
       "<tr>\n",
       "  <th>Method:</th>             <td>Least Squares</td>  <th>  F-statistic:       </th> <td>   314.7</td>\n",
       "</tr>\n",
       "<tr>\n",
       "  <th>Date:</th>             <td>Wed, 01 Jun 2022</td> <th>  Prob (F-statistic):</th> <td>3.92e-43</td>\n",
       "</tr>\n",
       "<tr>\n",
       "  <th>Time:</th>                 <td>09:25:55</td>     <th>  Log-Likelihood:    </th> <td>  380.64</td>\n",
       "</tr>\n",
       "<tr>\n",
       "  <th>No. Observations:</th>      <td>   100</td>      <th>  AIC:               </th> <td>  -755.3</td>\n",
       "</tr>\n",
       "<tr>\n",
       "  <th>Df Residuals:</th>          <td>    97</td>      <th>  BIC:               </th> <td>  -747.5</td>\n",
       "</tr>\n",
       "<tr>\n",
       "  <th>Df Model:</th>              <td>     2</td>      <th>                     </th>     <td> </td>   \n",
       "</tr>\n",
       "<tr>\n",
       "  <th>Covariance Type:</th>      <td>nonrobust</td>    <th>                     </th>     <td> </td>   \n",
       "</tr>\n",
       "</table>\n",
       "<table class=\"simpletable\">\n",
       "<tr>\n",
       "      <td></td>         <th>coef</th>     <th>std err</th>      <th>t</th>      <th>P>|t|</th>  <th>[0.025</th>    <th>0.975]</th>  \n",
       "</tr>\n",
       "<tr>\n",
       "  <th>Intercept</th> <td>    0.0003</td> <td>    0.001</td> <td>    0.464</td> <td> 0.643</td> <td>   -0.001</td> <td>    0.001</td>\n",
       "</tr>\n",
       "<tr>\n",
       "  <th>沪深300</th>     <td>   -0.0550</td> <td>    0.059</td> <td>   -0.931</td> <td> 0.354</td> <td>   -0.172</td> <td>    0.062</td>\n",
       "</tr>\n",
       "<tr>\n",
       "  <th>内地银行</th>      <td>    1.0229</td> <td>    0.060</td> <td>   17.153</td> <td> 0.000</td> <td>    0.905</td> <td>    1.141</td>\n",
       "</tr>\n",
       "</table>\n",
       "<table class=\"simpletable\">\n",
       "<tr>\n",
       "  <th>Omnibus:</th>       <td> 0.231</td> <th>  Durbin-Watson:     </th> <td>   2.026</td>\n",
       "</tr>\n",
       "<tr>\n",
       "  <th>Prob(Omnibus):</th> <td> 0.891</td> <th>  Jarque-Bera (JB):  </th> <td>   0.292</td>\n",
       "</tr>\n",
       "<tr>\n",
       "  <th>Skew:</th>          <td> 0.111</td> <th>  Prob(JB):          </th> <td>   0.864</td>\n",
       "</tr>\n",
       "<tr>\n",
       "  <th>Kurtosis:</th>      <td> 2.855</td> <th>  Cond. No.          </th> <td>    144.</td>\n",
       "</tr>\n",
       "</table><br/><br/>Notes:<br/>[1] Standard Errors assume that the covariance matrix of the errors is correctly specified."
      ],
      "text/plain": [
       "<class 'statsmodels.iolib.summary.Summary'>\n",
       "\"\"\"\n",
       "                            OLS Regression Results                            \n",
       "==============================================================================\n",
       "Dep. Variable:                   浦发银行   R-squared:                       0.866\n",
       "Model:                            OLS   Adj. R-squared:                  0.864\n",
       "Method:                 Least Squares   F-statistic:                     314.7\n",
       "Date:                Wed, 01 Jun 2022   Prob (F-statistic):           3.92e-43\n",
       "Time:                        09:25:55   Log-Likelihood:                 380.64\n",
       "No. Observations:                 100   AIC:                            -755.3\n",
       "Df Residuals:                      97   BIC:                            -747.5\n",
       "Df Model:                           2                                         \n",
       "Covariance Type:            nonrobust                                         \n",
       "==============================================================================\n",
       "                 coef    std err          t      P>|t|      [0.025      0.975]\n",
       "------------------------------------------------------------------------------\n",
       "Intercept      0.0003      0.001      0.464      0.643      -0.001       0.001\n",
       "沪深300         -0.0550      0.059     -0.931      0.354      -0.172       0.062\n",
       "内地银行           1.0229      0.060     17.153      0.000       0.905       1.141\n",
       "==============================================================================\n",
       "Omnibus:                        0.231   Durbin-Watson:                   2.026\n",
       "Prob(Omnibus):                  0.891   Jarque-Bera (JB):                0.292\n",
       "Skew:                           0.111   Prob(JB):                        0.864\n",
       "Kurtosis:                       2.855   Cond. No.                         144.\n",
       "==============================================================================\n",
       "\n",
       "Notes:\n",
       "[1] Standard Errors assume that the covariance matrix of the errors is correctly specified.\n",
       "\"\"\""
      ]
     },
     "execution_count": 60,
     "metadata": {},
     "output_type": "execute_result"
    }
   ],
   "source": [
    "result_y = smf.ols(formula = '浦发银行 ~ 沪深300+内地银行', data = sample).fit()\n",
    "result_y.summary()"
   ]
  },
  {
   "cell_type": "markdown",
   "metadata": {},
   "source": [
    "* 答：由多元回归结果可知，调整R方为0.864，且F检验显著，因此认为该回归方程是显著的，再由回归系数沪深300的t检验可知，此时是不显著的，因此有理由认为 \"内地银行\"日收益率不变的情况下(控制住行业因素的影响), \"沪深300\"不能解释\"浦发银行\"日收益率的变化。"
   ]
  },
  {
   "cell_type": "markdown",
   "metadata": {},
   "source": [
    "## 分析结果的改进\n",
    "* 为预测浦发银行日收益率的变化, 你认为可以使用哪些数据, 使用哪些数据统计方法, 对预测结果进行改进\n",
    "* 本题为开放式问题, 请列明大体思路(若有代码, 也可列出)"
   ]
  },
  {
   "cell_type": "markdown",
   "metadata": {},
   "source": [
    "* 答：由于浦发银行日收益率是时间序列数据，要考虑时间序列的自相关性，应该考虑结合时间序列模型来进行预测，如ARMA模型、ARIMAX模型等。"
   ]
  },
  {
   "cell_type": "markdown",
   "metadata": {},
   "source": [
    "### 计算自相关系数和偏自相关系数"
   ]
  },
  {
   "cell_type": "code",
   "execution_count": 64,
   "metadata": {},
   "outputs": [
    {
     "data": {
      "text/plain": [
       "<matplotlib.legend.Legend at 0x1437b0460>"
      ]
     },
     "execution_count": 64,
     "metadata": {},
     "output_type": "execute_result"
    },
    {
     "data": {
      "image/png": "[encoded data removed]",
      "text/plain": [
       "<Figure size 432x288 with 1 Axes>"
      ]
     },
     "metadata": {
      "needs_background": "light"
     },
     "output_type": "display_data"
    }
   ],
   "source": [
    "#计算自相关系数和画图\n",
    "import statsmodels.tsa.api as sm\n",
    "import matplotlib.pyplot as plt\n",
    "plt.rcParams['axes.unicode_minus'] = False#设置负的坐标轴显示\n",
    "plt.rcParams[\"font.family\"] = \"SimHei\" # 设置全局中文字体为黑体\n",
    "acf1=sm.acf(sample.浦发银行)\n",
    "acf2=sm.acf(sample.沪深300)\n",
    "acf3=sm.acf(sample.内地银行)\n",
    "plt.plot(acf1)\n",
    "plt.plot(acf2)\n",
    "plt.plot(acf3)\n",
    "plt.title(\"Autocorrelation plot\")\n",
    "plt.legend([\"浦发银行 , 沪深300,内地银行\"])"
   ]
  },
  {
   "cell_type": "code",
   "execution_count": 65,
   "metadata": {},
   "outputs": [
    {
     "data": {
      "text/plain": [
       "<matplotlib.legend.Legend at 0x144c4c6a0>"
      ]
     },
     "execution_count": 65,
     "metadata": {},
     "output_type": "execute_result"
    },
    {
     "data": {
      "image/png": "[encoded data removed]",
      "text/plain": [
       "<Figure size 432x288 with 1 Axes>"
      ]
     },
     "metadata": {
      "needs_background": "light"
     },
     "output_type": "display_data"
    }
   ],
   "source": [
    "#计算偏自相关系数和画图\n",
    "pacf1=sm.pacf(sample.浦发银行)\n",
    "pacf2=sm.pacf(sample.沪深300)\n",
    "pacf3=sm.pacf(sample.内地银行)\n",
    "plt.plot(pacf1)\n",
    "plt.plot(pacf2)\n",
    "plt.plot(pacf3)\n",
    "plt.title(\"Partial Autocorrelation plot\")\n",
    "plt.legend([\"浦发银行 , 沪深300,内地银行\"])"
   ]
  },
  {
   "cell_type": "markdown",
   "metadata": {},
   "source": [
    "### 建立ARMA模型"
   ]
  },
  {
   "cell_type": "code",
   "execution_count": 73,
   "metadata": {},
   "outputs": [
    {
     "data": {
      "text/html": [
       "<table class=\"simpletable\">\n",
       "<caption>SARIMAX Results</caption>\n",
       "<tr>\n",
       "  <th>Dep. Variable:</th>         <td>浦发银行</td>       <th>  No. Observations:  </th>    <td>100</td>  \n",
       "</tr>\n",
       "<tr>\n",
       "  <th>Model:</th>            <td>ARIMA(2, 0, 2)</td>  <th>  Log Likelihood     </th>  <td>281.378</td>\n",
       "</tr>\n",
       "<tr>\n",
       "  <th>Date:</th>            <td>Wed, 01 Jun 2022</td> <th>  AIC                </th> <td>-550.755</td>\n",
       "</tr>\n",
       "<tr>\n",
       "  <th>Time:</th>                <td>09:43:30</td>     <th>  BIC                </th> <td>-535.124</td>\n",
       "</tr>\n",
       "<tr>\n",
       "  <th>Sample:</th>                  <td>0</td>        <th>  HQIC               </th> <td>-544.429</td>\n",
       "</tr>\n",
       "<tr>\n",
       "  <th></th>                      <td> - 100</td>      <th>                     </th>     <td> </td>   \n",
       "</tr>\n",
       "<tr>\n",
       "  <th>Covariance Type:</th>        <td>opg</td>       <th>                     </th>     <td> </td>   \n",
       "</tr>\n",
       "</table>\n",
       "<table class=\"simpletable\">\n",
       "<tr>\n",
       "     <td></td>       <th>coef</th>     <th>std err</th>      <th>z</th>      <th>P>|z|</th>  <th>[0.025</th>    <th>0.975]</th>  \n",
       "</tr>\n",
       "<tr>\n",
       "  <th>const</th>  <td>    0.0011</td> <td>    0.002</td> <td>    0.533</td> <td> 0.594</td> <td>   -0.003</td> <td>    0.005</td>\n",
       "</tr>\n",
       "<tr>\n",
       "  <th>ar.L1</th>  <td>   -0.0270</td> <td>   12.533</td> <td>   -0.002</td> <td> 0.998</td> <td>  -24.591</td> <td>   24.537</td>\n",
       "</tr>\n",
       "<tr>\n",
       "  <th>ar.L2</th>  <td>    0.0747</td> <td>    1.892</td> <td>    0.039</td> <td> 0.969</td> <td>   -3.634</td> <td>    3.783</td>\n",
       "</tr>\n",
       "<tr>\n",
       "  <th>ma.L1</th>  <td>    0.1960</td> <td>   12.537</td> <td>    0.016</td> <td> 0.988</td> <td>  -24.376</td> <td>   24.768</td>\n",
       "</tr>\n",
       "<tr>\n",
       "  <th>ma.L2</th>  <td>   -0.0467</td> <td>    1.141</td> <td>   -0.041</td> <td> 0.967</td> <td>   -2.283</td> <td>    2.189</td>\n",
       "</tr>\n",
       "<tr>\n",
       "  <th>sigma2</th> <td>    0.0002</td> <td> 1.44e-05</td> <td>   14.575</td> <td> 0.000</td> <td>    0.000</td> <td>    0.000</td>\n",
       "</tr>\n",
       "</table>\n",
       "<table class=\"simpletable\">\n",
       "<tr>\n",
       "  <th>Ljung-Box (L1) (Q):</th>     <td>0.00</td> <th>  Jarque-Bera (JB):  </th> <td>582.30</td>\n",
       "</tr>\n",
       "<tr>\n",
       "  <th>Prob(Q):</th>                <td>0.98</td> <th>  Prob(JB):          </th>  <td>0.00</td> \n",
       "</tr>\n",
       "<tr>\n",
       "  <th>Heteroskedasticity (H):</th> <td>1.08</td> <th>  Skew:              </th>  <td>1.66</td> \n",
       "</tr>\n",
       "<tr>\n",
       "  <th>Prob(H) (two-sided):</th>    <td>0.82</td> <th>  Kurtosis:          </th>  <td>14.35</td>\n",
       "</tr>\n",
       "</table><br/><br/>Warnings:<br/>[1] Covariance matrix calculated using the outer product of gradients (complex-step)."
      ],
      "text/plain": [
       "<class 'statsmodels.iolib.summary.Summary'>\n",
       "\"\"\"\n",
       "                               SARIMAX Results                                \n",
       "==============================================================================\n",
       "Dep. Variable:                   浦发银行   No. Observations:                  100\n",
       "Model:                 ARIMA(2, 0, 2)   Log Likelihood                 281.378\n",
       "Date:                Wed, 01 Jun 2022   AIC                           -550.755\n",
       "Time:                        09:43:30   BIC                           -535.124\n",
       "Sample:                             0   HQIC                          -544.429\n",
       "                                - 100                                         \n",
       "Covariance Type:                  opg                                         \n",
       "==============================================================================\n",
       "                 coef    std err          z      P>|z|      [0.025      0.975]\n",
       "------------------------------------------------------------------------------\n",
       "const          0.0011      0.002      0.533      0.594      -0.003       0.005\n",
       "ar.L1         -0.0270     12.533     -0.002      0.998     -24.591      24.537\n",
       "ar.L2          0.0747      1.892      0.039      0.969      -3.634       3.783\n",
       "ma.L1          0.1960     12.537      0.016      0.988     -24.376      24.768\n",
       "ma.L2         -0.0467      1.141     -0.041      0.967      -2.283       2.189\n",
       "sigma2         0.0002   1.44e-05     14.575      0.000       0.000       0.000\n",
       "===================================================================================\n",
       "Ljung-Box (L1) (Q):                   0.00   Jarque-Bera (JB):               582.30\n",
       "Prob(Q):                              0.98   Prob(JB):                         0.00\n",
       "Heteroskedasticity (H):               1.08   Skew:                             1.66\n",
       "Prob(H) (two-sided):                  0.82   Kurtosis:                        14.35\n",
       "===================================================================================\n",
       "\n",
       "Warnings:\n",
       "[1] Covariance matrix calculated using the outer product of gradients (complex-step).\n",
       "\"\"\""
      ]
     },
     "execution_count": 73,
     "metadata": {},
     "output_type": "execute_result"
    }
   ],
   "source": [
    "import warnings\n",
    "warnings.filterwarnings(\"ignore\")\n",
    "arma_models=sm.ARIMA(sample.浦发银行,order=(2,0,2)).fit()#这里是ARMA(2,2)模型\n",
    "arma_models.summary()"
   ]
  },
  {
   "cell_type": "markdown",
   "metadata": {},
   "source": [
    "### 建立ARIMAX模型"
   ]
  },
  {
   "cell_type": "code",
   "execution_count": 71,
   "metadata": {},
   "outputs": [
    {
     "data": {
      "text/html": [
       "<table class=\"simpletable\">\n",
       "<caption>SARIMAX Results</caption>\n",
       "<tr>\n",
       "  <th>Dep. Variable:</th>         <td>浦发银行</td>       <th>  No. Observations:  </th>    <td>100</td>  \n",
       "</tr>\n",
       "<tr>\n",
       "  <th>Model:</th>            <td>ARIMA(2, 0, 2)</td>  <th>  Log Likelihood     </th>  <td>381.572</td>\n",
       "</tr>\n",
       "<tr>\n",
       "  <th>Date:</th>            <td>Wed, 01 Jun 2022</td> <th>  AIC                </th> <td>-747.143</td>\n",
       "</tr>\n",
       "<tr>\n",
       "  <th>Time:</th>                <td>09:41:53</td>     <th>  BIC                </th> <td>-726.302</td>\n",
       "</tr>\n",
       "<tr>\n",
       "  <th>Sample:</th>                  <td>0</td>        <th>  HQIC               </th> <td>-738.708</td>\n",
       "</tr>\n",
       "<tr>\n",
       "  <th></th>                      <td> - 100</td>      <th>                     </th>     <td> </td>   \n",
       "</tr>\n",
       "<tr>\n",
       "  <th>Covariance Type:</th>        <td>opg</td>       <th>                     </th>     <td> </td>   \n",
       "</tr>\n",
       "</table>\n",
       "<table class=\"simpletable\">\n",
       "<tr>\n",
       "     <td></td>       <th>coef</th>     <th>std err</th>      <th>z</th>      <th>P>|z|</th>  <th>[0.025</th>    <th>0.975]</th>  \n",
       "</tr>\n",
       "<tr>\n",
       "  <th>const</th>  <td>    0.0002</td> <td>    0.001</td> <td>    0.328</td> <td> 0.743</td> <td>   -0.001</td> <td>    0.001</td>\n",
       "</tr>\n",
       "<tr>\n",
       "  <th>沪深300</th>  <td>   -0.0616</td> <td>    0.064</td> <td>   -0.964</td> <td> 0.335</td> <td>   -0.187</td> <td>    0.064</td>\n",
       "</tr>\n",
       "<tr>\n",
       "  <th>内地银行</th>   <td>    1.0355</td> <td>    0.068</td> <td>   15.175</td> <td> 0.000</td> <td>    0.902</td> <td>    1.169</td>\n",
       "</tr>\n",
       "<tr>\n",
       "  <th>ar.L1</th>  <td>   -0.6476</td> <td>    0.656</td> <td>   -0.987</td> <td> 0.323</td> <td>   -1.933</td> <td>    0.638</td>\n",
       "</tr>\n",
       "<tr>\n",
       "  <th>ar.L2</th>  <td>   -0.5389</td> <td>    0.467</td> <td>   -1.155</td> <td> 0.248</td> <td>   -1.453</td> <td>    0.375</td>\n",
       "</tr>\n",
       "<tr>\n",
       "  <th>ma.L1</th>  <td>    0.7807</td> <td>    0.663</td> <td>    1.177</td> <td> 0.239</td> <td>   -0.519</td> <td>    2.081</td>\n",
       "</tr>\n",
       "<tr>\n",
       "  <th>ma.L2</th>  <td>    0.6205</td> <td>    0.411</td> <td>    1.511</td> <td> 0.131</td> <td>   -0.184</td> <td>    1.425</td>\n",
       "</tr>\n",
       "<tr>\n",
       "  <th>sigma2</th> <td> 2.832e-05</td> <td> 4.91e-06</td> <td>    5.769</td> <td> 0.000</td> <td> 1.87e-05</td> <td> 3.79e-05</td>\n",
       "</tr>\n",
       "</table>\n",
       "<table class=\"simpletable\">\n",
       "<tr>\n",
       "  <th>Ljung-Box (L1) (Q):</th>     <td>1.67</td> <th>  Jarque-Bera (JB):  </th> <td>0.74</td>\n",
       "</tr>\n",
       "<tr>\n",
       "  <th>Prob(Q):</th>                <td>0.20</td> <th>  Prob(JB):          </th> <td>0.69</td>\n",
       "</tr>\n",
       "<tr>\n",
       "  <th>Heteroskedasticity (H):</th> <td>1.63</td> <th>  Skew:              </th> <td>0.14</td>\n",
       "</tr>\n",
       "<tr>\n",
       "  <th>Prob(H) (two-sided):</th>    <td>0.17</td> <th>  Kurtosis:          </th> <td>2.69</td>\n",
       "</tr>\n",
       "</table><br/><br/>Warnings:<br/>[1] Covariance matrix calculated using the outer product of gradients (complex-step)."
      ],
      "text/plain": [
       "<class 'statsmodels.iolib.summary.Summary'>\n",
       "\"\"\"\n",
       "                               SARIMAX Results                                \n",
       "==============================================================================\n",
       "Dep. Variable:                   浦发银行   No. Observations:                  100\n",
       "Model:                 ARIMA(2, 0, 2)   Log Likelihood                 381.572\n",
       "Date:                Wed, 01 Jun 2022   AIC                           -747.143\n",
       "Time:                        09:41:53   BIC                           -726.302\n",
       "Sample:                             0   HQIC                          -738.708\n",
       "                                - 100                                         \n",
       "Covariance Type:                  opg                                         \n",
       "==============================================================================\n",
       "                 coef    std err          z      P>|z|      [0.025      0.975]\n",
       "------------------------------------------------------------------------------\n",
       "const          0.0002      0.001      0.328      0.743      -0.001       0.001\n",
       "沪深300         -0.0616      0.064     -0.964      0.335      -0.187       0.064\n",
       "内地银行           1.0355      0.068     15.175      0.000       0.902       1.169\n",
       "ar.L1         -0.6476      0.656     -0.987      0.323      -1.933       0.638\n",
       "ar.L2         -0.5389      0.467     -1.155      0.248      -1.453       0.375\n",
       "ma.L1          0.7807      0.663      1.177      0.239      -0.519       2.081\n",
       "ma.L2          0.6205      0.411      1.511      0.131      -0.184       1.425\n",
       "sigma2      2.832e-05   4.91e-06      5.769      0.000    1.87e-05    3.79e-05\n",
       "===================================================================================\n",
       "Ljung-Box (L1) (Q):                   1.67   Jarque-Bera (JB):                 0.74\n",
       "Prob(Q):                              0.20   Prob(JB):                         0.69\n",
       "Heteroskedasticity (H):               1.63   Skew:                             0.14\n",
       "Prob(H) (two-sided):                  0.17   Kurtosis:                         2.69\n",
       "===================================================================================\n",
       "\n",
       "Warnings:\n",
       "[1] Covariance matrix calculated using the outer product of gradients (complex-step).\n",
       "\"\"\""
      ]
     },
     "execution_count": 71,
     "metadata": {},
     "output_type": "execute_result"
    }
   ],
   "source": [
    "X=sample[[\"沪深300\",\"内地银行\"]]\n",
    "armax_models=sm.ARIMA(sample.浦发银行,X,order=(2,0,2)).fit()#这里是ARMAX(2,2)模型\n",
    "armax_models.summary()"
   ]
  },
  {
   "cell_type": "markdown",
   "metadata": {},
   "source": [
    "* 考虑时间序列数据自身的自相关性，结合时间序列模型的预测是优于一般的线性回归的。"
   ]
  },
  {
   "cell_type": "code",
   "execution_count": null,
   "metadata": {},
   "outputs": [],
   "source": []
  }
 ],
 "metadata": {
  "kernelspec": {
   "display_name": "Python 3",
   "language": "python",
   "name": "python3"
  },
  "language_info": {
   "codemirror_mode": {
    "name": "ipython",
    "version": 3
   },
   "file_extension": ".py",
   "mimetype": "text/x-python",
   "name": "python",
   "nbconvert_exporter": "python",
   "pygments_lexer": "ipython3",
   "version": "3.8.3"
  },
  "toc": {
   "base_numbering": 1,
   "nav_menu": {},
   "number_sections": true,
   "sideBar": true,
   "skip_h1_title": false,
   "title_cell": "Table of Contents",
   "title_sidebar": "Contents",
   "toc_cell": false,
   "toc_position": {
    "height": "calc(100% - 180px)",
    "left": "10px",
    "top": "150px",
    "width": "318.601px"
   },
   "toc_section_display": true,
   "toc_window_display": true
  },
  "varInspector": {
   "cols": {
    "lenName": 16,
    "lenType": 16,
    "lenVar": 40
   },
   "kernels_config": {
    "python": {
     "delete_cmd_postfix": "",
     "delete_cmd_prefix": "del ",
     "library": "var_list.py",
     "varRefreshCmd": "print(var_dic_list())"
    },
    "r": {
     "delete_cmd_postfix": ") ",
     "delete_cmd_prefix": "rm(",
     "library": "var_list.r",
     "varRefreshCmd": "cat(var_dic_list()) "
    }
   },
   "types_to_exclude": [
    "module",
    "function",
    "builtin_function_or_method",
    "instance",
    "_Feature"
   ],
   "window_display": false
  }
 },
 "nbformat": 4,
 "nbformat_minor": 2
}
