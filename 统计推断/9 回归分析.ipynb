{
 "cells": [
  {
   "cell_type": "markdown",
   "metadata": {},
   "source": [
    "# 一元线性回归(一个自变量)\n",
    "## 如何提高预测准确性?"
   ]
  },
  {
   "cell_type": "markdown",
   "metadata": {},
   "source": [
    "* 对于某只股票Y, 随机抽取到了15个月末价格\n",
    "* 如何预测Y的下个月末价格?"
   ]
  },
  {
   "cell_type": "code",
   "execution_count": null,
   "metadata": {},
   "outputs": [],
   "source": [
    "import pandas as pd\n",
    "data = pd.read_excel('9 回归分析.xlsx', sheet_name='股票价格数据')\n",
    "y = data['股票价格']\n",
    "y"
   ]
  },
  {
   "cell_type": "code",
   "execution_count": null,
   "metadata": {},
   "outputs": [],
   "source": [
    "# 用已知数据的均值, 作为预测值:\n",
    "y.mean()"
   ]
  },
  {
   "cell_type": "code",
   "execution_count": null,
   "metadata": {
    "scrolled": true
   },
   "outputs": [],
   "source": [
    "# 已知数据与均值(naive的预测值)的误差是多少?\n",
    "y - y.mean()"
   ]
  },
  {
   "cell_type": "code",
   "execution_count": null,
   "metadata": {
    "scrolled": true
   },
   "outputs": [],
   "source": [
    "# (被解释变量的)总离差平方和(SST)\n",
    "SST = ((y - y.mean())**2).sum()\n",
    "SST"
   ]
  },
  {
   "cell_type": "markdown",
   "metadata": {},
   "source": [
    "## 线性回归模型"
   ]
  },
  {
   "cell_type": "markdown",
   "metadata": {},
   "source": [
    "* 已知其他数据时(例如, 同期的沪深300指数数据), 可用改进预测吗?"
   ]
  },
  {
   "cell_type": "code",
   "execution_count": null,
   "metadata": {
    "collapsed": true
   },
   "outputs": [],
   "source": [
    "data[['股票价格','沪深300指数']]"
   ]
  },
  {
   "cell_type": "markdown",
   "metadata": {},
   "source": [
    "* 总体\n",
    "  * 在一个总体中, 每个被试(个体)有两个重要属性(股票价格、沪深300指数), 分别用变量y, x表示\n",
    "  * 线性回归模型: \n",
    "      * 假设总体的y, x满足线性回归方程: y = α + β*x + ε (总体参数用希腊字母表示)\n",
    "      * 随机产生的误差项ε = y-α-β*x, 假设随机变量ε的均值为0、标准差为σ\n",
    "* 样本\n",
    "  * 从总体中随机独立抽取n个被试(如n=15)\n",
    "  * 使用一种估计方法(例如,最小二乘法)得到总体参数α、β的估计值a、b(样本统计量)\n",
    "  * 得出估计值a、b后, 可得n个y的估计值 $\\hat y=a+b*x$, 可得n个残差 $e=y-\\hat y=y-a-b*x$\n",
    "  * 注意, 若抽取得到另外一个样本(另一批n=15个被试), 估计值a、b会随之变化"
   ]
  },
  {
   "cell_type": "markdown",
   "metadata": {},
   "source": [
    "## 最小二乘法\n",
    "* 当n个残差的平方和 $Σe^2=Σ(y-a-b*x)^2$ 最小化时, a、b的取值"
   ]
  },
  {
   "cell_type": "code",
   "execution_count": null,
   "metadata": {},
   "outputs": [],
   "source": [
    "y = data['股票价格']\n",
    "x = data['沪深300指数']\n",
    "def fun(b):      #  b[0]代表a, b[1] 代表b\n",
    "    return  ((y-b[0]-b[1]*x)**2).sum()  # 返回n个残差的平方和 \n",
    "from scipy import optimize \n",
    "optimize.fmin(fun,[3000,1])   # 设置初始点[3000,1]，寻找b值,使得函数fun(b) 极小化"
   ]
  },
  {
   "cell_type": "code",
   "execution_count": null,
   "metadata": {
    "scrolled": false
   },
   "outputs": [],
   "source": [
    "# 一元线性回归\n",
    "import statsmodels.formula.api as smf\n",
    "result = smf.ols(formula = '股票价格 ~ 沪深300指数', data = data).fit()\n",
    "result.summary()"
   ]
  },
  {
   "cell_type": "code",
   "execution_count": null,
   "metadata": {},
   "outputs": [],
   "source": [
    "# 画图\n",
    "import matplotlib.pylab as plt\n",
    "plt.scatter(x,y)"
   ]
  },
  {
   "cell_type": "code",
   "execution_count": null,
   "metadata": {},
   "outputs": [],
   "source": [
    "y_hat = result.fittedvalues  # 回归预测值ŷ\n",
    "plt.scatter(x,y)   # 画散点(原始数据)\n",
    "plt.plot(x,y_hat)  # 画折现(预测数据)"
   ]
  },
  {
   "cell_type": "code",
   "execution_count": null,
   "metadata": {},
   "outputs": [],
   "source": [
    "y_error = result.resid  # 回归预测残差e\n",
    "plt.scatter(x,y_error)  # 残差图"
   ]
  },
  {
   "cell_type": "code",
   "execution_count": null,
   "metadata": {},
   "outputs": [],
   "source": [
    "plt.scatter(y,y_error)  # 残差图"
   ]
  },
  {
   "cell_type": "markdown",
   "metadata": {},
   "source": [
    "## 回归方程的显著性检验\n",
    "* 问题\n",
    "  * y随x发生变化吗? 相关性存在吗? \n",
    "  * 线性回归方程显著吗? y的回归部分(预测部分)α+β*x大于误差部分ε吗?\n",
    "  * 原假设: β=0, y不随x变化, 线性回归方程不显著\n",
    "  * 备择假设: β≠0, y随x变化, 线性回归方程显著\n",
    "* 用样本推断总体\n",
    "  * 直观地看, 样本的n个残差e的频数分布, 应与总体的误差ε的概率分布相似(可画图比较)\n",
    "  * 严谨地看, 可构造统计量\n",
    "  $$ F分数=\\frac{MS_{回归}}{MS_{残差}} =\\frac{SS_{回归}\\ /\\ df1_{回归}}{SS_{残差}\\ /\\ df2_{残差}} $$\n",
    "  * F分数服从F分布(df1,df2)\n",
    "    * 其中, df1=自变量个数, df2=n-待估参数个数=n-自变量个数-1(代表截距)\n",
    "    * 若F分数处在依据显著水平α(如0.05)设置的拒绝域(在右尾)\n",
    "    * 此时, 拒绝原假设: 回归系数b=0, 接受备择假设: 回归系数b≠0、回归方程显著\n",
    "  * 可根据所得样本F分数计算p值\n",
    "    * p值: 原假设正确时, 统计量高于所得样本F分数的概率, 右尾)\n",
    "    * 若p值<显著水平α(如0.05), 则拒绝原假设\n",
    "  * 参照excel文档"
   ]
  },
  {
   "cell_type": "code",
   "execution_count": null,
   "metadata": {},
   "outputs": [],
   "source": [
    "result.rsquared  #决定系数、r方"
   ]
  },
  {
   "cell_type": "code",
   "execution_count": null,
   "metadata": {},
   "outputs": [],
   "source": [
    "result.fvalue  # F分数"
   ]
  },
  {
   "cell_type": "code",
   "execution_count": null,
   "metadata": {},
   "outputs": [],
   "source": [
    "result.f_pvalue   # F分数对应的p值"
   ]
  },
  {
   "cell_type": "markdown",
   "metadata": {},
   "source": [
    "# 对变量取对数\n",
    "* x=0时, y=截距=-136.0560, 股票价格y可用取负数吗?\n",
    "* 股票价格y服从正态分布吗?"
   ]
  },
  {
   "cell_type": "code",
   "execution_count": null,
   "metadata": {},
   "outputs": [],
   "source": [
    "plt.scatter(x,y)"
   ]
  },
  {
   "cell_type": "markdown",
   "metadata": {},
   "source": [
    "* 增长率的定义\n",
    "    * 变量的百分比增长率 $\\large{i=\\frac{Δy}{y_0}=\\frac{y_1 - y_0}{y_0}=\\frac{y_1}{y_0}-1}$\n",
    "    * 变量的对数增长率 $\\large{r=log(\\frac{y_1}{y_0})}$\n",
    "* 例子\n",
    "    * 变量y从20增长到25时, 百分比增长率=25/20-1=0.25, 对数增长率=log(25/20)=0.2231\n",
    "    * 变量x从3000增长到3010时, 百分比增长率=3010/3000-1=0.00333, 对数增长率=log(3010/3000)=0.00332\n",
    "    * 当两个增长率的数值很小时, 对数增长率≈百分比增长率\n",
    "* 已知增长率计算$y_1$、Δy\n",
    "\n",
    "    * 已知百分比增长率i,可得$\\large{y_1=y_0×(1+i)}$ , $\\large{Δy=y_0×i}$\n",
    "    * 已知对数增长率r,可得$\\large{y_1=y_0×e^r}$ , $\\large{Δy=y_0×(e^r-1)}$"
   ]
  },
  {
   "cell_type": "markdown",
   "metadata": {},
   "source": [
    "## y = α + β*x + ε\n",
    "* 被解释变量为y, 解释变量为x, y与x之间是线性关系"
   ]
  },
  {
   "cell_type": "code",
   "execution_count": null,
   "metadata": {},
   "outputs": [],
   "source": [
    "result.params"
   ]
  },
  {
   "cell_type": "markdown",
   "metadata": {},
   "source": [
    "* 解释变量系数b的含义\n",
    "    * x(沪深300指数)变化1: $x_0→x_1$, $Δx=x_1-x_0=1$\n",
    "    * y(股票价格)变化0.051639: $y_0→y_1$, $Δy=y_1-y_0=(a+b*(x_0+Δx))-(a+b*x_0)=b=0.051639$\n",
    "    * x变动绝对量1, 则y变动绝对量b"
   ]
  },
  {
   "cell_type": "markdown",
   "metadata": {},
   "source": [
    "## log(y) = α + β*x + ε\n",
    "* 被解释变量为log(y), 解释变量为x, log(y)与x之间仍然是线性关系"
   ]
  },
  {
   "cell_type": "code",
   "execution_count": null,
   "metadata": {},
   "outputs": [],
   "source": [
    "import numpy as np\n",
    "import statsmodels.formula.api as smf\n",
    "result_ylog = smf.ols(formula = 'np.log(股票价格) ~ 沪深300指数', data = data).fit()\n",
    "result_ylog.summary()"
   ]
  },
  {
   "cell_type": "code",
   "execution_count": null,
   "metadata": {},
   "outputs": [],
   "source": [
    "result_ylog.params"
   ]
  },
  {
   "cell_type": "markdown",
   "metadata": {},
   "source": [
    "* 解释变量的系数b的含义\n",
    "    * x(沪深300指数)变化1,  $Δx=x_1-x_0=1$\n",
    "    * $ log(y_1)-log(y_0)=log(\\frac{y_1}{y_0})=(a+b*(x_0+Δx))-(a+b*x_0)=b=0.002044$\n",
    "    * 解释变量的系数b是(x变化1时)y的对数增长率, 由$log(\\frac{y_1}{y_0})=b$, 可得$y_1=y_0×e^b$\n",
    "    * x变动绝对量1，则y有b的对数增长(若数值较小, 对数增长率b近似百分比增长率)"
   ]
  },
  {
   "cell_type": "markdown",
   "metadata": {},
   "source": [
    "##  y = α + β*log(x) + ε\n",
    "* 被解释变量为y, 解释变量为log(x), y与log(x)之间仍然是线性关系"
   ]
  },
  {
   "cell_type": "code",
   "execution_count": null,
   "metadata": {},
   "outputs": [],
   "source": [
    "import numpy as np\n",
    "import statsmodels.formula.api as smf\n",
    "result_xlog = smf.ols(formula = '股票价格 ~ np.log(沪深300指数)', data = data).fit()\n",
    "result_xlog.summary()"
   ]
  },
  {
   "cell_type": "code",
   "execution_count": null,
   "metadata": {},
   "outputs": [],
   "source": [
    "result_xlog.params"
   ]
  },
  {
   "cell_type": "markdown",
   "metadata": {},
   "source": [
    "* 解释变量的系数b的含义\n",
    "    * x(沪深300指数)有100%的对数增长率, $log(\\frac{x_1}{x_0})=1=100\\% $, y变动1*163.54=163.54的绝对量\n",
    "    * x(沪深300指数)有1%的对数增长率, $log(\\frac{x_1}{x_0})=0.01$, y变动1%*163.54=1.6354的绝对量\n",
    "    * x有1%的对数增长, 则y变动1%*b的绝对量"
   ]
  },
  {
   "cell_type": "markdown",
   "metadata": {},
   "source": [
    "##  log(y) = α + β*log(x) + ε\n",
    "* 被解释变量为log(y), 解释变量为log(x), log(y)与log(x)之间仍然是线性关系"
   ]
  },
  {
   "cell_type": "code",
   "execution_count": null,
   "metadata": {
    "collapsed": true
   },
   "outputs": [],
   "source": [
    "import numpy as np\n",
    "import statsmodels.formula.api as smf\n",
    "result_yxlog = smf.ols(formula = 'np.log(股票价格) ~ np.log(沪深300指数)', data = data).fit()\n",
    "result_yxlog.summary()"
   ]
  },
  {
   "cell_type": "code",
   "execution_count": null,
   "metadata": {},
   "outputs": [],
   "source": [
    "result_yxlog.params"
   ]
  },
  {
   "cell_type": "markdown",
   "metadata": {},
   "source": [
    "* 解释变量的系数b的含义\n",
    "    * x(沪深300指数)有100%的对数增长率, $log(\\frac{x_1}{x_0})=1=100\\% $, y有100%*6.48=648%的对数增长\n",
    "    * x(沪深300指数)有1%的对数增长率, $log(\\frac{x_1}{x_0})=0.01$, y有1%*6.48=6.48%的对数增长\n",
    "    * x有1%的对数增长, 则y有1%*b的对数增长"
   ]
  },
  {
   "cell_type": "markdown",
   "metadata": {},
   "source": [
    "## 小结\n",
    "* y = α + β*x + ε,        x变动绝对量1, y变动绝对量b\n",
    "* log(y) = α + β*x + ε,    x变动绝对量1，y有b的对数增长, b被称为y对x的半弹性\n",
    "* y = α + β*log(x) + ε,    x有1%的对数增长, y变动1%*b的绝对量\n",
    "* log(y) = α + β*log(x) + ε,  x有1%的对数增长, y有1%*b的对数增长, b被称为y对x的弹性"
   ]
  },
  {
   "cell_type": "markdown",
   "metadata": {},
   "source": [
    "# 多元线性回归(多个自变量)\n",
    "## 为什么要加入其他变量(控制变量)?"
   ]
  },
  {
   "cell_type": "code",
   "execution_count": null,
   "metadata": {
    "collapsed": true
   },
   "outputs": [],
   "source": [
    "import pandas as pd\n",
    "data = pd.read_excel('9 回归分析.xlsx', sheet_name='Florida_crime')\n",
    "data"
   ]
  },
  {
   "cell_type": "code",
   "execution_count": null,
   "metadata": {
    "scrolled": false
   },
   "outputs": [],
   "source": [
    "# 一元线性回归\n",
    "import statsmodels.formula.api as smf\n",
    "result1 = smf.ols(formula = 'crime_rate ~ percent_completing_high_school', data = data).fit()\n",
    "result1.summary()"
   ]
  },
  {
   "attachments": {
    "image.png": {
     "image/png": "[encoded data removed]"
    }
   },
   "cell_type": "markdown",
   "metadata": {},
   "source": [
    "* 高中毕业率越高, 犯罪率越高, 为什么?\n",
    "* 可能的解释\n",
    "    * 在美国佛罗里达州各县, 城市化率越高, 高中毕业率越高\n",
    "    * 同时, 城市化率越高, 犯罪率也越高\n",
    "    * 因而能够观察到: 高中毕业率与犯罪率正相关\n",
    "    ![image.png](attachment:image.png)"
   ]
  },
  {
   "cell_type": "markdown",
   "metadata": {},
   "source": [
    "## 解决方法\n",
    "* 将城市化率加入模型, 作为犯罪率的解释变量"
   ]
  },
  {
   "cell_type": "code",
   "execution_count": null,
   "metadata": {},
   "outputs": [],
   "source": [
    "# 多元线性回归\n",
    "import statsmodels.formula.api as smf\n",
    "result2 = smf.ols(formula = 'crime_rate ~ percent_completing_high_school + percent_urban', \n",
    "                 data = data\n",
    "                 ).fit()\n",
    "result2.summary()"
   ]
  },
  {
   "cell_type": "markdown",
   "metadata": {},
   "source": [
    "* 在这个多元回归模型中, 解释变量\"城市化率\"是一个\"控制变量\", 可得到: \n",
    "    * \"城市化率\"不变的情况下, \"高中毕业率\"对\"犯罪率\"的影响\n",
    "    *  经其他自变量调整后, \"高中毕业率\"对\"犯罪率\"的净影响(偏回归系数) "
   ]
  },
  {
   "cell_type": "markdown",
   "metadata": {},
   "source": [
    "## 基于pingouin包的回归\n",
    "* https://pingouin-stats.org/generated/pingouin.linear_regression.html#pingouin.linear_regression"
   ]
  },
  {
   "cell_type": "code",
   "execution_count": null,
   "metadata": {},
   "outputs": [],
   "source": [
    "import pingouin as pg\n",
    "result4 = pg.linear_regression(X=data[['percent_completing_high_school', 'percent_urban']], y=data['crime_rate'])\n",
    "result4"
   ]
  },
  {
   "cell_type": "markdown",
   "metadata": {},
   "source": [
    "# 自变量是分类变量"
   ]
  },
  {
   "cell_type": "code",
   "execution_count": null,
   "metadata": {},
   "outputs": [],
   "source": [
    "import pandas as pd\n",
    "data = pd.read_excel('9 回归分析.xlsx', sheet_name='student-survey')\n",
    "data"
   ]
  },
  {
   "cell_type": "code",
   "execution_count": null,
   "metadata": {},
   "outputs": [],
   "source": [
    "# 将男性调整为'0_male'(作为基期), 女性调整为 '1_female'\n",
    "data['ge_gender'][data.ge_gender=='f'] = '1_female'    # DataFrame[列名][行筛选条件]\n",
    "data.loc[data.ge_gender=='m','ge_gender'] = '0_male'   # DataFrame.loc[行,列]  , 推荐使用这一方法\n",
    "# 修改政党属性数据标识, 方便识别\n",
    "data.loc[data.pa_political_affiliation=='d','pa_political_affiliation'] = 'Democrat' \n",
    "data.loc[data.pa_political_affiliation=='r','pa_political_affiliation'] = 'Republican' \n",
    "data.loc[data.pa_political_affiliation=='i','pa_political_affiliation'] = 'Independent' \n",
    "data[['ge_gender','pa_political_affiliation']]"
   ]
  },
  {
   "cell_type": "markdown",
   "metadata": {},
   "source": [
    "## 自变量是一个分类变量\n",
    "* 结果等价于单因素方差分析\n",
    "* 方差分析可看作回归分析的特殊形态"
   ]
  },
  {
   "cell_type": "code",
   "execution_count": null,
   "metadata": {},
   "outputs": [],
   "source": [
    "#  大学成绩 与 政党属性的关系\n",
    "result1 = smf.ols(formula = 'co_college_GPA ~  C(pa_political_affiliation)', data = data).fit()\n",
    "# C()指定为分类变量. 如果分类变量是数字,必须用C()来指定.如果分类变量是字符串,可以自动识别, 不需要C()来指定  \n",
    "result1.summary()"
   ]
  },
  {
   "cell_type": "markdown",
   "metadata": {},
   "source": [
    "* pa_political_affiliation变量有3个取值, 被拆分成2个变量(3-1). 系统自动指定第一个取值'Democrat'为\"基组\"(字母表中排在最前面)\n",
    "* 相对于基组而言, Independent组的截距高出-0.2119(斜率不变), 在0.05水平上显著(p值小于0.05), 独立党成员的大学分数低于民主党\n",
    "* 相对于基组而言, Republican组的截距高出-0.0952(斜率不变), 在0.05水平上不显著(p值大于0.05), 民主党成员的大学分数类似民主党"
   ]
  },
  {
   "cell_type": "code",
   "execution_count": null,
   "metadata": {},
   "outputs": [],
   "source": [
    "# 输出方差分析表\n",
    "from statsmodels.stats import anova\n",
    "anova.anova_lm(result1)"
   ]
  },
  {
   "cell_type": "markdown",
   "metadata": {},
   "source": [
    "* 整体来看, 不同政党属性的大学分数无显著差异(p值>0.05)"
   ]
  },
  {
   "cell_type": "markdown",
   "metadata": {},
   "source": [
    "## 自变量是多个分类变量\n",
    "* 结果等价于多因素方差分析"
   ]
  },
  {
   "cell_type": "code",
   "execution_count": null,
   "metadata": {},
   "outputs": [],
   "source": [
    "#  大学成绩 与 政党属性、性别的关系\n",
    "result2 = smf.ols(formula = 'co_college_GPA ~  C(pa_political_affiliation) +  C(ge_gender)', \n",
    "                  data = data).fit()\n",
    "result2.summary()"
   ]
  },
  {
   "cell_type": "markdown",
   "metadata": {},
   "source": [
    "* 加入性别因素, 会影响政党属性因素的结果 \n",
    "* ge_gender变量有2个取值, 被拆分成1个变量(2-1). 系统自动指定第一个取值'0_male'为\"基组\"(字母表中排在最前面)\n",
    "* 相对于基组而言, 1_female组的截距高出0.1637(斜率不变), 在0.05水平上不显著(p值大于0.05), 女性的大学分数与男性无显著差异"
   ]
  },
  {
   "cell_type": "code",
   "execution_count": null,
   "metadata": {},
   "outputs": [],
   "source": [
    "# 输出方差分析表\n",
    "from statsmodels.stats import anova\n",
    "anova.anova_lm(result2)\n",
    "# 两个因素都不显著"
   ]
  },
  {
   "cell_type": "markdown",
   "metadata": {},
   "source": [
    "## 自变量是分类变量+连续变量\n",
    "* 这种回归模型, 也叫协方差分析\n",
    "* 协方差分析中, 协变量(控制变量)是连续变量"
   ]
  },
  {
   "cell_type": "code",
   "execution_count": null,
   "metadata": {},
   "outputs": [],
   "source": [
    "#  大学成绩 与 政党属性、性别、高中成绩的关系\n",
    "result3 = smf.ols(formula = 'co_college_GPA ~  C(pa_political_affiliation) +  C(ge_gender) + hi_high_school_GPA', \n",
    "                  data = data).fit()\n",
    "result3.summary()"
   ]
  },
  {
   "cell_type": "markdown",
   "metadata": {},
   "source": [
    "* 以\"高中成绩\"为协变量(控制变量), 在本例中不改变主要分析结论"
   ]
  },
  {
   "cell_type": "code",
   "execution_count": null,
   "metadata": {},
   "outputs": [],
   "source": [
    "# 输出方差分析表\n",
    "from statsmodels.stats import anova\n",
    "anova.anova_lm(result3)\n",
    "# 两个分类都不显著, 连续变量显著"
   ]
  },
  {
   "cell_type": "markdown",
   "metadata": {},
   "source": [
    "# 逻辑回归Logistic Regression(因变量是二值分类变量)\n",
    "## 基本原理\n",
    "* 因变量(被解释变量)是二值分类变量的情况\n",
    "    * 法院的审判结果: 有罪, 无罪\n",
    "    * 考研的结果: 考上, 没考上\n",
    "    * 宗教信仰: 有宗教信仰, 无宗教信仰\n",
    "    * 本例的问题: 大学成绩、性别等因素, 是否影响人的宗教信仰?\n",
    "* 逻辑回归的原理\n",
    "    * 逻辑回归（Logistic Regression）可用于对发生概率建模，解决被解释变量的二分类问题。\n",
    "    * 本例的被解释变量“是否有宗教信仰”为二分类变量，记“有宗教信仰”为y=1、**发生概率**为p，记“无宗教信仰”为y=0、发生概率为(1-p)\n",
    "    * 可建立逻辑归回模型： $Log( \\frac{p}{1-p}) = β0 + β1 * x1 + β2 * x2 $\n",
    "    * 其中，$\\frac{p}{1-p}$为“有宗教信仰”概率p对“无宗教信仰”概率(1-p)的比值、一般记为odds(**几率**、优势、比率、发生比)\n",
    "    * $Log(\\frac{p}{1-p}) = Log(odds) $也即**几率的自然对数**\n",
    "    * 逻辑回归模型的解读\n",
    "        * 形式上是\"以二分类变量y为被解释变量\"的**非线性模型**\n",
    "        * 实质上是\"以y=1的发生概率p为被解释变量\"的**非线性模型**\n",
    "        * 最终转化为以“几率的自然对数$Log( \\frac{p}{1-p}) $”为被解释变量的**线性模型**\n",
    "* 逻辑回归的参数\n",
    "    * 记模型为: $Log( odds) = β0 + β1 * x1 + β2 * x2 $\n",
    "    * β0，β1，β2为3个待估参数，x1，x2代表2个解释变量\n",
    "    * 当x1变动为x1+1(变动一个单位)时, 旧odds与新odds'的关系为: \n",
    "        * $ odds'/odds =  e^{β1}$  , 或者  $ odds' = odds * e^{β1}$  \n",
    "    * 因而, 一般记 odds'/odds 为 OR (odds ratio, **几率比**、优势比、比率比、发生比的比值), 是新几率odds'对原几率odds的倍数\n",
    "    * 自变量X1变动绝对量1，几率odds有β1的对数增长(若数值较小,对数增长率β1近似百分比增长率): \n",
    "        * 系数β1 >0, OR就大于1, 新几率就超过原几率, 概率p就增加\n",
    "        * 系数β1 <0, OR就小于1, 新几率就低于原几率, 概率p就减小"
   ]
  },
  {
   "cell_type": "markdown",
   "metadata": {},
   "source": [
    "## 基于statsmodels包的逻辑回归"
   ]
  },
  {
   "cell_type": "markdown",
   "metadata": {},
   "source": [
    "### 导入、整理数据\n",
    "* y必须事先转换为二分类数值(进行One-Hot编码、转换成0-1型数值变量)\n",
    "* x可以包括字符变量(会自动处理成分类变量)"
   ]
  },
  {
   "cell_type": "code",
   "execution_count": null,
   "metadata": {},
   "outputs": [],
   "source": [
    "import pandas as pd\n",
    "data = pd.read_excel('9 回归分析.xlsx', sheet_name='student-survey')\n",
    "data[['religion','co_college_GPA_100','ge_gender']]"
   ]
  },
  {
   "cell_type": "code",
   "execution_count": null,
   "metadata": {},
   "outputs": [],
   "source": [
    "data = data[['religion','co_college_GPA_100','ge_gender']].dropna()  # 筛选出3列, 删除缺失数据的行\n",
    "# 将男性调整为'0_male'(作为基期), 女性调整为 '1_female'\n",
    "data['ge_gender'][data.ge_gender=='f'] = '1_female'    # DataFrame[列名][行筛选条件]\n",
    "data.loc[data.ge_gender=='m','ge_gender'] = '0_male'   # DataFrame.loc[行,列]  , 推荐使用这一方法\n",
    "data[['religion','co_college_GPA_100','ge_gender']]"
   ]
  },
  {
   "cell_type": "code",
   "execution_count": null,
   "metadata": {
    "scrolled": true
   },
   "outputs": [],
   "source": [
    "data['religion'].value_counts()"
   ]
  },
  {
   "cell_type": "code",
   "execution_count": null,
   "metadata": {},
   "outputs": [],
   "source": [
    "# 原始数据\n",
    "import matplotlib.pylab as plt\n",
    "y = data['religion']\n",
    "x1 = data['co_college_GPA_100']\n",
    "plt.scatter(x1, y)"
   ]
  },
  {
   "attachments": {
    "image.png": {
     "image/png": "[encoded data removed]"
    }
   },
   "cell_type": "markdown",
   "metadata": {},
   "source": [
    "* 直接用线性模型拟合二分类变量的缺陷:\n",
    "![image.png](attachment:image.png)"
   ]
  },
  {
   "cell_type": "markdown",
   "metadata": {},
   "source": [
    "### 拟合模型\n",
    "* 二分类变量religion是被解释变量\n",
    "* 得到的预测值, 是religion=1的预测概率p"
   ]
  },
  {
   "cell_type": "code",
   "execution_count": null,
   "metadata": {},
   "outputs": [],
   "source": [
    "import statsmodels.formula.api as smf\n",
    "result_logit = smf.logit(formula = 'religion ~ co_college_GPA_100 + ge_gender ', data=data).fit()\n",
    "result_logit.summary()"
   ]
  },
  {
   "cell_type": "code",
   "execution_count": null,
   "metadata": {},
   "outputs": [],
   "source": [
    "np.exp(-0.0896)-1\n"
   ]
  },
  {
   "cell_type": "markdown",
   "metadata": {},
   "source": [
    "* 拟合模型的拟合优度不高（Pseudo R2为0.09744），\n",
    "* 在显著水平0.05上, 模型不显著; 在显著水平0.10上, 模型显著(基于极大似然估计的LLR p-value为0.07411)\n",
    "    * 注意, 逻辑回归模型的参数估计, 基于极大似然法, 而非最小二乘法\n",
    "* co_college_GPA_100的p值为0.079, 基于显著水平0.05则不显著, 基于显著水平0.10则显著\n",
    "    * co_college_GPA_100的系数(coef)为-0.0896, 这意味着:\n",
    "    * co_college_GPA_100每增长1分(总分为100)，新几率odds'就变动为原几率odds的0.914倍（$odds'/odds=e^{-0.0896}$倍），也即几率下降了8.6%(0.086)\n",
    "    * 注意, 几率是“有宗教信仰”概率p对“无宗教信仰”概率(1-p)的比值；\n",
    "    * 几率下降了8.6%，意味着“有宗教信仰”概率p下降，但下降幅度并非8.6%（概率p的边际效应不是恒定的）\n",
    "    * 可以认为，随着co_college_GPA的增加，“有宗教信仰”的概率p随之下降\n",
    "* ge_gender的p值为0.100、不显著, 性别不影响宗教信仰\n",
    "    * ge_gender从男性(基组)变为女性(m组), 新几率odds'就变动为原几率odds的3.672倍（$odds'/odds=e^{1.3008}$倍），也即几率上升了267.2%(2.672)\n",
    "    * 注意, 上述结果统计上不显著"
   ]
  },
  {
   "cell_type": "code",
   "execution_count": null,
   "metadata": {},
   "outputs": [],
   "source": [
    "# 无宗教信仰、有宗教信仰的平均GPA\n",
    "data[['religion','co_college_GPA_100']].groupby('religion').mean()"
   ]
  },
  {
   "cell_type": "code",
   "execution_count": null,
   "metadata": {},
   "outputs": [],
   "source": [
    "# 男性、女性 有宗教信仰的人数占比\n",
    "data[['religion','ge_gender']].groupby('ge_gender').mean()"
   ]
  },
  {
   "cell_type": "markdown",
   "metadata": {},
   "source": [
    "### 预测的准确性"
   ]
  },
  {
   "cell_type": "code",
   "execution_count": null,
   "metadata": {},
   "outputs": [],
   "source": [
    "# 注意, 逻辑回归得到的预测值, 是\"y=1\"的预测概率p\n",
    "result_logit.predict()"
   ]
  },
  {
   "cell_type": "code",
   "execution_count": null,
   "metadata": {},
   "outputs": [],
   "source": [
    "# 原始数据、预测数据\n",
    "plt.scatter(x1, y)\n",
    "plt.scatter(x1, result_logit.predict())  "
   ]
  },
  {
   "cell_type": "code",
   "execution_count": null,
   "metadata": {},
   "outputs": [],
   "source": [
    "# 选择0.50为阈值\n",
    "# 预测概率p<0.50时判定为False(0), 预测概率p>0.50时判定为True(1)\n",
    "pred = result_logit.predict()> 0.50\n",
    "pred"
   ]
  },
  {
   "cell_type": "code",
   "execution_count": null,
   "metadata": {},
   "outputs": [],
   "source": [
    "# 混淆矩阵: 实际值(0-1)与预测值(False-True)\n",
    "pd.crosstab(pred,y, rownames=['Predicted'], colnames=['Actual'])"
   ]
  },
  {
   "cell_type": "markdown",
   "metadata": {},
   "source": [
    "* 选择0.50为阈值, 合适吗?"
   ]
  },
  {
   "cell_type": "markdown",
   "metadata": {},
   "source": [
    "## 基于sklearn包的逻辑回归"
   ]
  },
  {
   "cell_type": "markdown",
   "metadata": {},
   "source": [
    "### 导入、整理数据\n",
    "* y、x不可以包括字符变量(需手动处理成0-1型分类变量)"
   ]
  },
  {
   "cell_type": "code",
   "execution_count": null,
   "metadata": {},
   "outputs": [],
   "source": [
    "# 事先准备好y, x\n",
    "import pandas as pd\n",
    "data = pd.read_excel('9 回归分析.xlsx', sheet_name='student-survey') # 读取数据\n",
    "data = data[['religion','co_college_GPA_100','ge_gender']].dropna()  # 筛选出3列, 删除缺失数据的行\n",
    "y = data['religion']\n",
    "# 分类变量做onehot编码: 将k个取值的因素转换位k-1个变量, 将字符取值转换为0-1取值\n",
    "X_one_hot = pd.get_dummies(data[['co_college_GPA_100', 'ge_gender']]  , drop_first=True) \n",
    "X_one_hot"
   ]
  },
  {
   "cell_type": "markdown",
   "metadata": {},
   "source": [
    "### 拟合模型"
   ]
  },
  {
   "cell_type": "code",
   "execution_count": null,
   "metadata": {},
   "outputs": [],
   "source": [
    "from sklearn.linear_model import LogisticRegression\n",
    "model_LR =  LogisticRegression(C=1e10)  # 建立逻辑回归模型\n",
    "#  C=1e10 让惩罚项非常接近0 ,默认有截距 fit_intercept=True,\n",
    "model_LR.fit(X_one_hot, y)   #  根据数据拟合模型 "
   ]
  },
  {
   "cell_type": "markdown",
   "metadata": {},
   "source": [
    "### 预测的准确性"
   ]
  },
  {
   "cell_type": "code",
   "execution_count": null,
   "metadata": {},
   "outputs": [],
   "source": [
    "# 被解释变量y=0的预测概率, 被解释变量y=1的预测概率(p)\n",
    "model_LR.predict_proba(X_one_hot) "
   ]
  },
  {
   "cell_type": "code",
   "execution_count": null,
   "metadata": {},
   "outputs": [],
   "source": [
    "# 被解释变量y=1的预测概率(p)\n",
    "pred_p = model_LR.predict_proba(X_one_hot)[:, 1]  \n",
    "pred_p"
   ]
  },
  {
   "cell_type": "code",
   "execution_count": null,
   "metadata": {},
   "outputs": [],
   "source": [
    "# 以accuracy_score最大化为标准, 寻找最优的阈值\n",
    "from sklearn import metrics\n",
    "import numpy as np\n",
    "for i in np.arange(0.15,0.95,0.01):\n",
    "    pred = pred_p >  i\n",
    "    print(i.round(2), metrics.accuracy_score(y, pred).round(4))"
   ]
  },
  {
   "cell_type": "code",
   "execution_count": null,
   "metadata": {},
   "outputs": [],
   "source": [
    "# 根据上述结果, 选择0.64为阈值\n",
    "# 预测概率p<0.64时判定为False(0), 预测概率p>0.64时判定为True(1)\n",
    "pred = pred_p > 0.64\n",
    "pred "
   ]
  },
  {
   "cell_type": "code",
   "execution_count": null,
   "metadata": {},
   "outputs": [],
   "source": [
    "# 混淆矩阵: 实际值(0-1)与预测值(False-True)\n",
    "pd.crosstab(pred,y, rownames=['Predicted'], colnames=['Actual'])"
   ]
  },
  {
   "cell_type": "code",
   "execution_count": null,
   "metadata": {},
   "outputs": [],
   "source": [
    "# 各种预测准确性指标\n",
    "from sklearn import metrics\n",
    "print(metrics.accuracy_score(y, pred))\n",
    "print(metrics.classification_report(y, pred ))\n",
    "print(metrics.cohen_kappa_score(y, pred))"
   ]
  },
  {
   "attachments": {
    "image-2.png": {
     "image/png": "[encoded data removed]"
    }
   },
   "cell_type": "markdown",
   "metadata": {},
   "source": [
    "* cohen_kappa_score: 模型的拟合性能\n",
    "![image-2.png](attachment:image-2.png)"
   ]
  },
  {
   "cell_type": "markdown",
   "metadata": {},
   "source": [
    "### ROC与AUC"
   ]
  },
  {
   "cell_type": "code",
   "execution_count": null,
   "metadata": {},
   "outputs": [],
   "source": [
    "# 画ROC图\n",
    "metrics.plot_roc_curve(model_LR, X_one_hot,y)"
   ]
  },
  {
   "cell_type": "code",
   "execution_count": null,
   "metadata": {},
   "outputs": [],
   "source": [
    "metrics.roc_auc_score(y, pred_p)  # 根据y的实际值、y=1的预测概率pred_p, 计算AUC"
   ]
  },
  {
   "attachments": {
    "image-2.png": {
     "image/png": "[encoded data removed]"
    }
   },
   "cell_type": "markdown",
   "metadata": {},
   "source": [
    "* 变化阈值(如0.6-0.5-0.4)、随着negative推断更多地转向positive推断：\n",
    "    * 真阳率一般也会上升，例如分子从24变为25\n",
    "    * 假阳率一般会上升，例如分子从2变为3\n",
    "    * 因而,ROC与X轴围成的面积AUC,可用来衡量模型的好坏\n",
    "* ROC(曲线)与AUC(面积)\n",
    "![image-2.png](attachment:image-2.png)"
   ]
  },
  {
   "cell_type": "markdown",
   "metadata": {},
   "source": [
    "## 基于pingouin包的逻辑回归\n",
    "* x不可以包括字符变量(需手动处理成0-1型分类变量)\n",
    "* https://pingouin-stats.org/generated/pingouin.logistic_regression.html#pingouin.logistic_regression"
   ]
  },
  {
   "cell_type": "code",
   "execution_count": null,
   "metadata": {},
   "outputs": [],
   "source": [
    "import pingouin as pg\n",
    "result2 = pg.logistic_regression(X=X_one_hot, y=data['religion'])\n",
    "result2.round(4)  # 输出时显示4位小数"
   ]
  }
 ],
 "metadata": {
  "kernelspec": {
   "display_name": "Python 3",
   "language": "python",
   "name": "python3"
  },
  "language_info": {
   "codemirror_mode": {
    "name": "ipython",
    "version": 3
   },
   "file_extension": ".py",
   "mimetype": "text/x-python",
   "name": "python",
   "nbconvert_exporter": "python",
   "pygments_lexer": "ipython3",
   "version": "3.8.3"
  },
  "toc": {
   "base_numbering": 1,
   "nav_menu": {},
   "number_sections": true,
   "sideBar": true,
   "skip_h1_title": false,
   "title_cell": "Table of Contents",
   "title_sidebar": "Contents",
   "toc_cell": false,
   "toc_position": {
    "height": "calc(100% - 180px)",
    "left": "10px",
    "top": "150px",
    "width": "206.525px"
   },
   "toc_section_display": true,
   "toc_window_display": true
  },
  "varInspector": {
   "cols": {
    "lenName": 16,
    "lenType": 16,
    "lenVar": 40
   },
   "kernels_config": {
    "python": {
     "delete_cmd_postfix": "",
     "delete_cmd_prefix": "del ",
     "library": "var_list.py",
     "varRefreshCmd": "print(var_dic_list())"
    },
    "r": {
     "delete_cmd_postfix": ") ",
     "delete_cmd_prefix": "rm(",
     "library": "var_list.r",
     "varRefreshCmd": "cat(var_dic_list()) "
    }
   },
   "types_to_exclude": [
    "module",
    "function",
    "builtin_function_or_method",
    "instance",
    "_Feature"
   ],
   "window_display": false
  }
 },
 "nbformat": 4,
 "nbformat_minor": 2
}
