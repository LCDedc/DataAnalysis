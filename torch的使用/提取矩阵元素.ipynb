{
 "cells": [
  {
   "cell_type": "code",
   "execution_count": 2,
   "metadata": {
    "collapsed": true
   },
   "outputs": [],
   "source": [
    "import numpy as np"
   ]
  },
  {
   "cell_type": "code",
   "execution_count": 3,
   "outputs": [],
   "source": [
    "index = np.array([[0, 1, 2, 0], [0, 1, 4, 2], [0, 0, 3, 0]])    # index矩阵里存放的是A矩阵的索引\n",
    "A = np.array([[0.12, 0.15, 0.98],\n",
    "                  [0.10, 0.65, 0.23],\n",
    "                  [0.45, 0.56, 0.23],\n",
    "                  [0.40, 0.82, 0.41],\n",
    "                  [0.35, 0.89, 0.18],\n",
    "                  [0.45, 0.21, 0.82],\n",
    "                  [0.78, 0.12, 0.63]])"
   ],
   "metadata": {
    "collapsed": false,
    "pycharm": {
     "name": "#%%\n"
    }
   }
  },
  {
   "cell_type": "code",
   "execution_count": 5,
   "outputs": [
    {
     "data": {
      "text/plain": "array([[0, 1, 2, 0],\n       [0, 1, 4, 2],\n       [0, 0, 3, 0]])"
     },
     "execution_count": 5,
     "metadata": {},
     "output_type": "execute_result"
    }
   ],
   "source": [
    "index"
   ],
   "metadata": {
    "collapsed": false,
    "pycharm": {
     "name": "#%%\n"
    }
   }
  },
  {
   "cell_type": "code",
   "execution_count": 10,
   "outputs": [
    {
     "data": {
      "text/plain": "array([[0.12, 0.15, 0.98],\n       [0.1 , 0.65, 0.23],\n       [0.45, 0.56, 0.23],\n       [0.4 , 0.82, 0.41],\n       [0.35, 0.89, 0.18],\n       [0.45, 0.21, 0.82],\n       [0.78, 0.12, 0.63]])"
     },
     "execution_count": 10,
     "metadata": {},
     "output_type": "execute_result"
    }
   ],
   "source": [
    "A"
   ],
   "metadata": {
    "collapsed": false,
    "pycharm": {
     "name": "#%%\n"
    }
   }
  },
  {
   "cell_type": "code",
   "execution_count": 7,
   "outputs": [
    {
     "data": {
      "text/plain": "array([[[0.12, 0.15, 0.98],\n        [0.1 , 0.65, 0.23],\n        [0.45, 0.56, 0.23],\n        [0.12, 0.15, 0.98]],\n\n       [[0.12, 0.15, 0.98],\n        [0.1 , 0.65, 0.23],\n        [0.35, 0.89, 0.18],\n        [0.45, 0.56, 0.23]],\n\n       [[0.12, 0.15, 0.98],\n        [0.12, 0.15, 0.98],\n        [0.4 , 0.82, 0.41],\n        [0.12, 0.15, 0.98]]])"
     },
     "execution_count": 7,
     "metadata": {},
     "output_type": "execute_result"
    }
   ],
   "source": [
    "A[index]"
   ],
   "metadata": {
    "collapsed": false,
    "pycharm": {
     "name": "#%%\n"
    }
   }
  },
  {
   "cell_type": "code",
   "execution_count": 9,
   "outputs": [
    {
     "data": {
      "text/plain": "array([[[0.12, 0.15, 0.98],\n        [0.1 , 0.65, 0.23],\n        [0.45, 0.56, 0.23],\n        [0.12, 0.15, 0.98]],\n\n       [[0.12, 0.15, 0.98],\n        [0.1 , 0.65, 0.23],\n        [0.35, 0.89, 0.18],\n        [0.45, 0.56, 0.23]],\n\n       [[0.12, 0.15, 0.98],\n        [0.12, 0.15, 0.98],\n        [0.4 , 0.82, 0.41],\n        [0.12, 0.15, 0.98]]])"
     },
     "execution_count": 9,
     "metadata": {},
     "output_type": "execute_result"
    }
   ],
   "source": [
    "a = np.array([[[0.12, 0.15, 0.98], [0.10, 0.65, 0.23], [0.45, 0.56, 0.23], [0.12, 0.15, 0.98]],\n",
    "                  [[0.12, 0.15, 0.98], [0.10, 0.65, 0.23], [0.35, 0.89, 0.18], [0.45, 0.56, 0.23]],\n",
    "                  [[0.12, 0.15, 0.98], [0.12, 0.15, 0.98], [0.40, 0.82, 0.41], [0.12, 0.15, 0.98]]])\n",
    "a"
   ],
   "metadata": {
    "collapsed": false,
    "pycharm": {
     "name": "#%%\n"
    }
   }
  },
  {
   "cell_type": "code",
   "execution_count": 8,
   "outputs": [],
   "source": [
    "torch_data = torch.from_numpy(a)"
   ],
   "metadata": {
    "collapsed": false,
    "pycharm": {
     "name": "#%%\n"
    }
   }
  },
  {
   "cell_type": "code",
   "execution_count": null,
   "outputs": [],
   "source": [],
   "metadata": {
    "collapsed": false,
    "pycharm": {
     "name": "#%%\n"
    }
   }
  }
 ],
 "metadata": {
  "kernelspec": {
   "display_name": "Python 3",
   "language": "python",
   "name": "python3"
  },
  "language_info": {
   "codemirror_mode": {
    "name": "ipython",
    "version": 2
   },
   "file_extension": ".py",
   "mimetype": "text/x-python",
   "name": "python",
   "nbconvert_exporter": "python",
   "pygments_lexer": "ipython2",
   "version": "2.7.6"
  }
 },
 "nbformat": 4,
 "nbformat_minor": 0
}