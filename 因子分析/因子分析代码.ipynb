{
 "cells": [
  {
   "cell_type": "code",
   "execution_count": 22,
   "metadata": {},
   "outputs": [],
   "source": [
    "import pandas as pd\n",
    "import numpy as np\n",
    "import matplotlib.pyplot as plt"
   ]
  },
  {
   "cell_type": "code",
   "execution_count": 2,
   "metadata": {},
   "outputs": [
    {
     "data": {
      "text/html": [
       "<div>\n",
       "<style scoped>\n",
       "    .dataframe tbody tr th:only-of-type {\n",
       "        vertical-align: middle;\n",
       "    }\n",
       "\n",
       "    .dataframe tbody tr th {\n",
       "        vertical-align: top;\n",
       "    }\n",
       "\n",
       "    .dataframe thead th {\n",
       "        text-align: right;\n",
       "    }\n",
       "</style>\n",
       "<table border=\"1\" class=\"dataframe\">\n",
       "  <thead>\n",
       "    <tr style=\"text-align: right;\">\n",
       "      <th></th>\n",
       "      <th>0</th>\n",
       "      <th>1</th>\n",
       "      <th>2</th>\n",
       "      <th>3</th>\n",
       "      <th>4</th>\n",
       "      <th>5</th>\n",
       "      <th>6</th>\n",
       "      <th>7</th>\n",
       "      <th>8</th>\n",
       "      <th>9</th>\n",
       "      <th>10</th>\n",
       "      <th>11</th>\n",
       "    </tr>\n",
       "  </thead>\n",
       "  <tbody>\n",
       "    <tr>\n",
       "      <th>0</th>\n",
       "      <td>1.0</td>\n",
       "      <td>中国建筑</td>\n",
       "      <td>2018</td>\n",
       "      <td>NaN</td>\n",
       "      <td>NaN</td>\n",
       "      <td>NaN</td>\n",
       "      <td>NaN</td>\n",
       "      <td>NaN</td>\n",
       "      <td>NaN</td>\n",
       "      <td>NaN</td>\n",
       "      <td>NaN</td>\n",
       "      <td>NaN</td>\n",
       "    </tr>\n",
       "    <tr>\n",
       "      <th>1</th>\n",
       "      <td>NaN</td>\n",
       "      <td>净资产收益率</td>\n",
       "      <td>15.97%</td>\n",
       "      <td>NaN</td>\n",
       "      <td>NaN</td>\n",
       "      <td>NaN</td>\n",
       "      <td>NaN</td>\n",
       "      <td>NaN</td>\n",
       "      <td>NaN</td>\n",
       "      <td>NaN</td>\n",
       "      <td>NaN</td>\n",
       "      <td>NaN</td>\n",
       "    </tr>\n",
       "    <tr>\n",
       "      <th>2</th>\n",
       "      <td>NaN</td>\n",
       "      <td>营业利润率</td>\n",
       "      <td>0.059755</td>\n",
       "      <td>NaN</td>\n",
       "      <td>NaN</td>\n",
       "      <td>NaN</td>\n",
       "      <td>NaN</td>\n",
       "      <td>NaN</td>\n",
       "      <td>NaN</td>\n",
       "      <td>NaN</td>\n",
       "      <td>NaN</td>\n",
       "      <td>NaN</td>\n",
       "    </tr>\n",
       "    <tr>\n",
       "      <th>3</th>\n",
       "      <td>NaN</td>\n",
       "      <td>盈余现金保障倍数</td>\n",
       "      <td>0.186292</td>\n",
       "      <td>NaN</td>\n",
       "      <td>NaN</td>\n",
       "      <td>NaN</td>\n",
       "      <td>NaN</td>\n",
       "      <td>NaN</td>\n",
       "      <td>NaN</td>\n",
       "      <td>NaN</td>\n",
       "      <td>NaN</td>\n",
       "      <td>NaN</td>\n",
       "    </tr>\n",
       "    <tr>\n",
       "      <th>4</th>\n",
       "      <td>NaN</td>\n",
       "      <td>总资产报酬率</td>\n",
       "      <td>0.046413</td>\n",
       "      <td>NaN</td>\n",
       "      <td>NaN</td>\n",
       "      <td>NaN</td>\n",
       "      <td>NaN</td>\n",
       "      <td>NaN</td>\n",
       "      <td>NaN</td>\n",
       "      <td>NaN</td>\n",
       "      <td>NaN</td>\n",
       "      <td>NaN</td>\n",
       "    </tr>\n",
       "  </tbody>\n",
       "</table>\n",
       "</div>"
      ],
      "text/plain": [
       "    0         1         2   3   4   5   6   7   8   9   10  11\n",
       "0  1.0      中国建筑      2018 NaN NaN NaN NaN NaN NaN NaN NaN NaN\n",
       "1  NaN    净资产收益率    15.97% NaN NaN NaN NaN NaN NaN NaN NaN NaN\n",
       "2  NaN     营业利润率  0.059755 NaN NaN NaN NaN NaN NaN NaN NaN NaN\n",
       "3  NaN  盈余现金保障倍数  0.186292 NaN NaN NaN NaN NaN NaN NaN NaN NaN\n",
       "4  NaN    总资产报酬率  0.046413 NaN NaN NaN NaN NaN NaN NaN NaN NaN"
      ]
     },
     "execution_count": 2,
     "metadata": {},
     "output_type": "execute_result"
    }
   ],
   "source": [
    "data=pd.read_excel(\"12家上市公司.xlsx\",header=None)\n",
    "data.head()"
   ]
  },
  {
   "cell_type": "code",
   "execution_count": 3,
   "metadata": {},
   "outputs": [
    {
     "data": {
      "text/html": [
       "<div>\n",
       "<style scoped>\n",
       "    .dataframe tbody tr th:only-of-type {\n",
       "        vertical-align: middle;\n",
       "    }\n",
       "\n",
       "    .dataframe tbody tr th {\n",
       "        vertical-align: top;\n",
       "    }\n",
       "\n",
       "    .dataframe thead th {\n",
       "        text-align: right;\n",
       "    }\n",
       "</style>\n",
       "<table border=\"1\" class=\"dataframe\">\n",
       "  <thead>\n",
       "    <tr style=\"text-align: right;\">\n",
       "      <th></th>\n",
       "      <th>1</th>\n",
       "      <th>2</th>\n",
       "    </tr>\n",
       "  </thead>\n",
       "  <tbody>\n",
       "    <tr>\n",
       "      <th>0</th>\n",
       "      <td>中国建筑</td>\n",
       "      <td>2018</td>\n",
       "    </tr>\n",
       "    <tr>\n",
       "      <th>1</th>\n",
       "      <td>净资产收益率</td>\n",
       "      <td>15.97%</td>\n",
       "    </tr>\n",
       "    <tr>\n",
       "      <th>2</th>\n",
       "      <td>营业利润率</td>\n",
       "      <td>0.059755</td>\n",
       "    </tr>\n",
       "    <tr>\n",
       "      <th>3</th>\n",
       "      <td>盈余现金保障倍数</td>\n",
       "      <td>0.186292</td>\n",
       "    </tr>\n",
       "    <tr>\n",
       "      <th>4</th>\n",
       "      <td>总资产报酬率</td>\n",
       "      <td>0.046413</td>\n",
       "    </tr>\n",
       "  </tbody>\n",
       "</table>\n",
       "</div>"
      ],
      "text/plain": [
       "          1         2\n",
       "0      中国建筑      2018\n",
       "1    净资产收益率    15.97%\n",
       "2     营业利润率  0.059755\n",
       "3  盈余现金保障倍数  0.186292\n",
       "4    总资产报酬率  0.046413"
      ]
     },
     "execution_count": 3,
     "metadata": {},
     "output_type": "execute_result"
    }
   ],
   "source": [
    "data=data.iloc[:,[1,2]]\n",
    "data.head()"
   ]
  },
  {
   "cell_type": "code",
   "execution_count": 4,
   "metadata": {},
   "outputs": [
    {
     "data": {
      "text/html": [
       "<div>\n",
       "<style scoped>\n",
       "    .dataframe tbody tr th:only-of-type {\n",
       "        vertical-align: middle;\n",
       "    }\n",
       "\n",
       "    .dataframe tbody tr th {\n",
       "        vertical-align: top;\n",
       "    }\n",
       "\n",
       "    .dataframe thead th {\n",
       "        text-align: right;\n",
       "    }\n",
       "</style>\n",
       "<table border=\"1\" class=\"dataframe\">\n",
       "  <thead>\n",
       "    <tr style=\"text-align: right;\">\n",
       "      <th></th>\n",
       "      <th>2</th>\n",
       "    </tr>\n",
       "    <tr>\n",
       "      <th>1</th>\n",
       "      <th></th>\n",
       "    </tr>\n",
       "  </thead>\n",
       "  <tbody>\n",
       "    <tr>\n",
       "      <th>中国建筑</th>\n",
       "      <td>2018</td>\n",
       "    </tr>\n",
       "    <tr>\n",
       "      <th>净资产收益率</th>\n",
       "      <td>15.97%</td>\n",
       "    </tr>\n",
       "    <tr>\n",
       "      <th>营业利润率</th>\n",
       "      <td>0.059755</td>\n",
       "    </tr>\n",
       "    <tr>\n",
       "      <th>盈余现金保障倍数</th>\n",
       "      <td>0.186292</td>\n",
       "    </tr>\n",
       "    <tr>\n",
       "      <th>总资产报酬率</th>\n",
       "      <td>0.046413</td>\n",
       "    </tr>\n",
       "  </tbody>\n",
       "</table>\n",
       "</div>"
      ],
      "text/plain": [
       "                 2\n",
       "1                 \n",
       "中国建筑          2018\n",
       "净资产收益率      15.97%\n",
       "营业利润率     0.059755\n",
       "盈余现金保障倍数  0.186292\n",
       "总资产报酬率    0.046413"
      ]
     },
     "execution_count": 4,
     "metadata": {},
     "output_type": "execute_result"
    }
   ],
   "source": [
    "data=data.set_index(1)\n",
    "data.head()"
   ]
  },
  {
   "cell_type": "code",
   "execution_count": 7,
   "metadata": {},
   "outputs": [
    {
     "data": {
      "text/plain": [
       "array(['中国建筑', '净资产收益率', '营业利润率', '盈余现金保障倍数', '总资产报酬率', '成本费用利润率',\n",
       "       '资本收益率', '上海建工', '重庆建工', '中南建设', '龙元建设', '宁波建工', '中国海诚', '中国武夷',\n",
       "       '同济科技', '空港股份', '高新发展'], dtype=object)"
      ]
     },
     "execution_count": 7,
     "metadata": {},
     "output_type": "execute_result"
    }
   ],
   "source": [
    "pd.unique(data.T.columns)"
   ]
  },
  {
   "cell_type": "code",
   "execution_count": 8,
   "metadata": {},
   "outputs": [],
   "source": [
    "指标=['净资产收益率', '营业利润率', '盈余现金保障倍数', '总资产报酬率', '成本费用利润率',\n",
    "       '资本收益率']\n",
    "公司名称=['中国建筑','上海建工', '重庆建工', '中南建设', '龙元建设', '宁波建工', '中国海诚', '中国武夷',\n",
    "       '同济科技', '空港股份', '高新发展']"
   ]
  },
  {
   "cell_type": "code",
   "execution_count": 9,
   "metadata": {},
   "outputs": [],
   "source": [
    "data2=pd.DataFrame({\"公司名称\":公司名称})\n",
    "for s in 指标: \n",
    "    data2[s]=list(data.T[s].stack())\n",
    "data2.净资产收益率=data2.净资产收益率.str.replace(\"%\",\"\")"
   ]
  },
  {
   "cell_type": "code",
   "execution_count": 46,
   "metadata": {},
   "outputs": [],
   "source": [
    "data2.iloc[:,1:]=data2.iloc[:,1:].astype(float)\n",
    "data2.to_excel(\"整理后的数据.xlsx\",index=False,encoding=\"utf-8\")"
   ]
  },
  {
   "cell_type": "code",
   "execution_count": 49,
   "metadata": {},
   "outputs": [],
   "source": [
    "data2.iloc[:,1:].corr().to_excel(\"相关系数矩阵.xlsx\",encoding='utf-8')"
   ]
  },
  {
   "cell_type": "code",
   "execution_count": 17,
   "metadata": {},
   "outputs": [
    {
     "name": "stdout",
     "output_type": "stream",
     "text": [
      "57.71084117657278 6.213994666857157e-07\n",
      "[0.59668645 0.44843643 0.56759178 0.51282568 0.43912212 0.51490856] 0.5018656197600082\n"
     ]
    },
    {
     "name": "stderr",
     "output_type": "stream",
     "text": [
      "/Users/apple/opt/anaconda3/lib/python3.8/site-packages/factor_analyzer/utils.py:249: UserWarning: The inverse of the variance-covariance matrix was calculated using the Moore-Penrose generalized matrix inversion, due to its determinant being at or very close to zero.\n",
      "  warnings.warn('The inverse of the variance-covariance matrix '\n"
     ]
    }
   ],
   "source": [
    "LA_data_final_feat=data2.iloc[:,1:]\n",
    "# 计算巴特利特P值\n",
    "from factor_analyzer.factor_analyzer import calculate_bartlett_sphericity\n",
    "chi_square_value,p_value=calculate_bartlett_sphericity(LA_data_final_feat)\n",
    "print(chi_square_value, p_value )\n",
    "# 计算KMO值 \n",
    "from factor_analyzer.factor_analyzer import calculate_kmo\n",
    "kmo_all,kmo_model=calculate_kmo(LA_data_final_feat)\n",
    "print(kmo_all,kmo_model)"
   ]
  },
  {
   "cell_type": "code",
   "execution_count": 18,
   "metadata": {},
   "outputs": [],
   "source": [
    "# Create factor analysis object and perform factor analysis\n",
    "from factor_analyzer import FactorAnalyzer\n",
    "fa = FactorAnalyzer(LA_data_final_feat.shape[1]+1, rotation=None)\n",
    "fa.fit(LA_data_final_feat)\n",
    "ev, v = fa.get_eigenvalues() # 计算特征值和特征向量\n",
    "var = fa.get_factor_variance()#给出方差贡献率"
   ]
  },
  {
   "cell_type": "code",
   "execution_count": 39,
   "metadata": {},
   "outputs": [
    {
     "data": {
      "image/png": "[encoded data removed]",
      "text/plain": [
       "<Figure size 720x576 with 1 Axes>"
      ]
     },
     "metadata": {
      "needs_background": "light"
     },
     "output_type": "display_data"
    }
   ],
   "source": [
    "##绘制方差的图\n",
    "plt.figure(figsize=(10,8))\n",
    "plt.plot(ev)\n",
    "plt.title(\"Scree Plot\")\n",
    "plt.xlabel(\"factors\")\n",
    "plt.ylabel(\"eigenvalue\")\n",
    "plt.savefig(\"落石图\",dpi=600)"
   ]
  },
  {
   "cell_type": "code",
   "execution_count": 36,
   "metadata": {},
   "outputs": [
    {
     "data": {
      "text/html": [
       "<div>\n",
       "<style scoped>\n",
       "    .dataframe tbody tr th:only-of-type {\n",
       "        vertical-align: middle;\n",
       "    }\n",
       "\n",
       "    .dataframe tbody tr th {\n",
       "        vertical-align: top;\n",
       "    }\n",
       "\n",
       "    .dataframe thead th {\n",
       "        text-align: right;\n",
       "    }\n",
       "</style>\n",
       "<table border=\"1\" class=\"dataframe\">\n",
       "  <thead>\n",
       "    <tr style=\"text-align: right;\">\n",
       "      <th></th>\n",
       "      <th>0</th>\n",
       "      <th>1</th>\n",
       "      <th>2</th>\n",
       "    </tr>\n",
       "  </thead>\n",
       "  <tbody>\n",
       "    <tr>\n",
       "      <th>净资产收益率</th>\n",
       "      <td>0.059646</td>\n",
       "      <td>0.517084</td>\n",
       "      <td>0.712976</td>\n",
       "    </tr>\n",
       "    <tr>\n",
       "      <th>营业利润率</th>\n",
       "      <td>0.977425</td>\n",
       "      <td>0.098746</td>\n",
       "      <td>0.148359</td>\n",
       "    </tr>\n",
       "    <tr>\n",
       "      <th>盈余现金保障倍数</th>\n",
       "      <td>0.190327</td>\n",
       "      <td>0.065252</td>\n",
       "      <td>0.901186</td>\n",
       "    </tr>\n",
       "    <tr>\n",
       "      <th>总资产报酬率</th>\n",
       "      <td>-0.002195</td>\n",
       "      <td>0.892603</td>\n",
       "      <td>0.087288</td>\n",
       "    </tr>\n",
       "    <tr>\n",
       "      <th>成本费用利润率</th>\n",
       "      <td>0.983723</td>\n",
       "      <td>0.127099</td>\n",
       "      <td>0.123396</td>\n",
       "    </tr>\n",
       "    <tr>\n",
       "      <th>资本收益率</th>\n",
       "      <td>0.300293</td>\n",
       "      <td>0.837578</td>\n",
       "      <td>0.258092</td>\n",
       "    </tr>\n",
       "  </tbody>\n",
       "</table>\n",
       "</div>"
      ],
      "text/plain": [
       "                 0         1         2\n",
       "净资产收益率    0.059646  0.517084  0.712976\n",
       "营业利润率     0.977425  0.098746  0.148359\n",
       "盈余现金保障倍数  0.190327  0.065252  0.901186\n",
       "总资产报酬率   -0.002195  0.892603  0.087288\n",
       "成本费用利润率   0.983723  0.127099  0.123396\n",
       "资本收益率     0.300293  0.837578  0.258092"
      ]
     },
     "execution_count": 36,
     "metadata": {},
     "output_type": "execute_result"
    }
   ],
   "source": [
    "fa = FactorAnalyzer(3, rotation=\"varimax\")\n",
    "fa.fit(LA_data_final_feat)\n",
    "# 输出载荷矩阵\n",
    "df_loading = pd.DataFrame(fa.loadings_,index=LA_data_final_feat.columns.tolist())\n",
    "df_loading"
   ]
  },
  {
   "cell_type": "code",
   "execution_count": null,
   "metadata": {},
   "outputs": [],
   "source": []
  },
  {
   "cell_type": "code",
   "execution_count": 50,
   "metadata": {},
   "outputs": [],
   "source": [
    "df_loading.to_excel(\"因子载荷矩阵.xlsx\")"
   ]
  },
  {
   "cell_type": "code",
   "execution_count": 38,
   "metadata": {},
   "outputs": [
    {
     "data": {
      "image/png": "[encoded data removed]",
      "text/plain": [
       "<Figure size 800x320 with 1 Axes>"
      ]
     },
     "metadata": {
      "needs_background": "light"
     },
     "output_type": "display_data"
    }
   ],
   "source": [
    "#计算因子得分\n",
    "LA_data_trans = pd.DataFrame(fa.transform(LA_data_final_feat),index=data2['公司名称'])\n",
    "\n",
    "#以散点图的形式呈现\n",
    "plt.figure(figsize=(10,4), dpi= 80)\n",
    "plt.subplot(1,2,1)\n",
    "plt.scatter(LA_data_trans.loc[:,0],LA_data_trans.loc[:,1])\n",
    "plt.title('Scree Plot')\n",
    "plt.xlabel('Factor1')\n",
    "plt.ylabel('Factor2')\n",
    "plt.grid()"
   ]
  },
  {
   "cell_type": "code",
   "execution_count": 51,
   "metadata": {},
   "outputs": [],
   "source": [
    "LA_data_trans.to_excel(\"每个因子的得分.xlsx\")"
   ]
  },
  {
   "cell_type": "code",
   "execution_count": 43,
   "metadata": {},
   "outputs": [
    {
     "data": {
      "text/html": [
       "<div>\n",
       "<style scoped>\n",
       "    .dataframe tbody tr th:only-of-type {\n",
       "        vertical-align: middle;\n",
       "    }\n",
       "\n",
       "    .dataframe tbody tr th {\n",
       "        vertical-align: top;\n",
       "    }\n",
       "\n",
       "    .dataframe thead th {\n",
       "        text-align: right;\n",
       "    }\n",
       "</style>\n",
       "<table border=\"1\" class=\"dataframe\">\n",
       "  <thead>\n",
       "    <tr style=\"text-align: right;\">\n",
       "      <th></th>\n",
       "      <th>0</th>\n",
       "      <th>1</th>\n",
       "      <th>2</th>\n",
       "    </tr>\n",
       "    <tr>\n",
       "      <th>公司名称</th>\n",
       "      <th></th>\n",
       "      <th></th>\n",
       "      <th></th>\n",
       "    </tr>\n",
       "  </thead>\n",
       "  <tbody>\n",
       "    <tr>\n",
       "      <th>中国建筑</th>\n",
       "      <td>-0.094347</td>\n",
       "      <td>1.151735</td>\n",
       "      <td>0.241735</td>\n",
       "    </tr>\n",
       "    <tr>\n",
       "      <th>上海建工</th>\n",
       "      <td>-0.957400</td>\n",
       "      <td>-0.243421</td>\n",
       "      <td>0.389261</td>\n",
       "    </tr>\n",
       "    <tr>\n",
       "      <th>重庆建工</th>\n",
       "      <td>-1.141790</td>\n",
       "      <td>-1.088888</td>\n",
       "      <td>0.181940</td>\n",
       "    </tr>\n",
       "    <tr>\n",
       "      <th>中南建设</th>\n",
       "      <td>0.161708</td>\n",
       "      <td>-1.218209</td>\n",
       "      <td>1.235198</td>\n",
       "    </tr>\n",
       "    <tr>\n",
       "      <th>龙元建设</th>\n",
       "      <td>0.058557</td>\n",
       "      <td>-0.215635</td>\n",
       "      <td>0.118033</td>\n",
       "    </tr>\n",
       "    <tr>\n",
       "      <th>宁波建工</th>\n",
       "      <td>-1.066961</td>\n",
       "      <td>-0.001756</td>\n",
       "      <td>0.373467</td>\n",
       "    </tr>\n",
       "    <tr>\n",
       "      <th>中国海诚</th>\n",
       "      <td>-0.750870</td>\n",
       "      <td>2.243837</td>\n",
       "      <td>0.248477</td>\n",
       "    </tr>\n",
       "    <tr>\n",
       "      <th>中国武夷</th>\n",
       "      <td>1.765221</td>\n",
       "      <td>0.177482</td>\n",
       "      <td>-0.660515</td>\n",
       "    </tr>\n",
       "    <tr>\n",
       "      <th>同济科技</th>\n",
       "      <td>1.802831</td>\n",
       "      <td>0.274155</td>\n",
       "      <td>0.696059</td>\n",
       "    </tr>\n",
       "    <tr>\n",
       "      <th>空港股份</th>\n",
       "      <td>-0.448531</td>\n",
       "      <td>-0.473311</td>\n",
       "      <td>-2.578382</td>\n",
       "    </tr>\n",
       "    <tr>\n",
       "      <th>高新发展</th>\n",
       "      <td>0.671582</td>\n",
       "      <td>-0.605991</td>\n",
       "      <td>-0.245274</td>\n",
       "    </tr>\n",
       "  </tbody>\n",
       "</table>\n",
       "</div>"
      ],
      "text/plain": [
       "             0         1         2\n",
       "公司名称                              \n",
       "中国建筑 -0.094347  1.151735  0.241735\n",
       "上海建工 -0.957400 -0.243421  0.389261\n",
       "重庆建工 -1.141790 -1.088888  0.181940\n",
       "中南建设  0.161708 -1.218209  1.235198\n",
       "龙元建设  0.058557 -0.215635  0.118033\n",
       "宁波建工 -1.066961 -0.001756  0.373467\n",
       "中国海诚 -0.750870  2.243837  0.248477\n",
       "中国武夷  1.765221  0.177482 -0.660515\n",
       "同济科技  1.802831  0.274155  0.696059\n",
       "空港股份 -0.448531 -0.473311 -2.578382\n",
       "高新发展  0.671582 -0.605991 -0.245274"
      ]
     },
     "execution_count": 43,
     "metadata": {},
     "output_type": "execute_result"
    }
   ],
   "source": [
    "LA_data_trans"
   ]
  },
  {
   "cell_type": "code",
   "execution_count": null,
   "metadata": {},
   "outputs": [],
   "source": []
  }
 ],
 "metadata": {
  "kernelspec": {
   "display_name": "Python 3",
   "language": "python",
   "name": "python3"
  },
  "language_info": {
   "codemirror_mode": {
    "name": "ipython",
    "version": 3
   },
   "file_extension": ".py",
   "mimetype": "text/x-python",
   "name": "python",
   "nbconvert_exporter": "python",
   "pygments_lexer": "ipython3",
   "version": "3.8.3"
  },
  "toc": {
   "base_numbering": 1,
   "nav_menu": {},
   "number_sections": true,
   "sideBar": true,
   "skip_h1_title": false,
   "title_cell": "Table of Contents",
   "title_sidebar": "Contents",
   "toc_cell": false,
   "toc_position": {},
   "toc_section_display": true,
   "toc_window_display": false
  },
  "varInspector": {
   "cols": {
    "lenName": 16,
    "lenType": 16,
    "lenVar": 40
   },
   "kernels_config": {
    "python": {
     "delete_cmd_postfix": "",
     "delete_cmd_prefix": "del ",
     "library": "var_list.py",
     "varRefreshCmd": "print(var_dic_list())"
    },
    "r": {
     "delete_cmd_postfix": ") ",
     "delete_cmd_prefix": "rm(",
     "library": "var_list.r",
     "varRefreshCmd": "cat(var_dic_list()) "
    }
   },
   "types_to_exclude": [
    "module",
    "function",
    "builtin_function_or_method",
    "instance",
    "_Feature"
   ],
   "window_display": false
  }
 },
 "nbformat": 4,
 "nbformat_minor": 4
}
