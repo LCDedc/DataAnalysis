{
 "cells": [
  {
   "cell_type": "markdown",
   "metadata": {
    "collapsed": true,
    "pycharm": {
     "name": "#%% md\n"
    }
   },
   "source": [
    "### 而如果我们想为自定义函数也添加类似的“闹钟”超时检查功能，最简单的方式是使用第三方库wrapt_timeout_decorator中的timeout()装饰器，通过参数传递超时时长（单位：秒）即可，下面是一个简单的例子："
   ]
  },
  {
   "cell_type": "code",
   "execution_count": 2,
   "outputs": [],
   "source": [
    "from wrapt_timeout_decorator import timeout\n",
    "import time\n",
    "@timeout(5)\n",
    "def demo_func(seconds:float)->float:\n",
    "    time.sleep(seconds)\n",
    "    return seconds"
   ],
   "metadata": {
    "collapsed": false,
    "pycharm": {
     "name": "#%%\n"
    }
   }
  },
  {
   "cell_type": "code",
   "execution_count": 3,
   "outputs": [
    {
     "data": {
      "text/plain": "3"
     },
     "execution_count": 3,
     "metadata": {},
     "output_type": "execute_result"
    }
   ],
   "source": [
    "demo_func(3)"
   ],
   "metadata": {
    "collapsed": false,
    "pycharm": {
     "name": "#%%\n"
    }
   }
  },
  {
   "cell_type": "code",
   "execution_count": 4,
   "outputs": [
    {
     "ename": "TimeoutError",
     "evalue": "Function demo_func timed out after 5.0 seconds",
     "output_type": "error",
     "traceback": [
      "\u001B[0;31m---------------------------------------------------------------------------\u001B[0m",
      "\u001B[0;31mTimeoutError\u001B[0m                              Traceback (most recent call last)",
      "Input \u001B[0;32mIn [4]\u001B[0m, in \u001B[0;36m<cell line: 1>\u001B[0;34m()\u001B[0m\n\u001B[0;32m----> 1\u001B[0m \u001B[43mdemo_func\u001B[49m\u001B[43m(\u001B[49m\u001B[38;5;241;43m6\u001B[39;49m\u001B[43m)\u001B[49m\n",
      "File \u001B[0;32m~/opt/anaconda3/envs/DataAnalysis/lib/python3.10/site-packages/wrapt_timeout_decorator/wrapt_timeout_decorator.py:139\u001B[0m, in \u001B[0;36mtimeout.<locals>.wrapper\u001B[0;34m(wrapped, instance, args, kwargs)\u001B[0m\n\u001B[1;32m    137\u001B[0m     \u001B[38;5;28;01mreturn\u001B[39;00m wrapped(\u001B[38;5;241m*\u001B[39mwrap_helper\u001B[38;5;241m.\u001B[39margs, \u001B[38;5;241m*\u001B[39m\u001B[38;5;241m*\u001B[39mwrap_helper\u001B[38;5;241m.\u001B[39mkwargs)\n\u001B[1;32m    138\u001B[0m \u001B[38;5;28;01melse\u001B[39;00m:\n\u001B[0;32m--> 139\u001B[0m     \u001B[38;5;28;01mreturn\u001B[39;00m \u001B[43mwrapped_with_timeout\u001B[49m\u001B[43m(\u001B[49m\u001B[43mwrap_helper\u001B[49m\u001B[43m)\u001B[49m\n",
      "File \u001B[0;32m~/opt/anaconda3/envs/DataAnalysis/lib/python3.10/site-packages/wrapt_timeout_decorator/wrapt_timeout_decorator.py:146\u001B[0m, in \u001B[0;36mwrapped_with_timeout\u001B[0;34m(wrap_helper)\u001B[0m\n\u001B[1;32m    144\u001B[0m \u001B[38;5;28;01mdef\u001B[39;00m \u001B[38;5;21mwrapped_with_timeout\u001B[39m(wrap_helper: WrapHelper) \u001B[38;5;241m-\u001B[39m\u001B[38;5;241m>\u001B[39m Any:\n\u001B[1;32m    145\u001B[0m     \u001B[38;5;28;01mif\u001B[39;00m wrap_helper\u001B[38;5;241m.\u001B[39muse_signals:\n\u001B[0;32m--> 146\u001B[0m         \u001B[38;5;28;01mreturn\u001B[39;00m \u001B[43mwrapped_with_timeout_signals\u001B[49m\u001B[43m(\u001B[49m\u001B[43mwrap_helper\u001B[49m\u001B[43m)\u001B[49m\n\u001B[1;32m    147\u001B[0m     \u001B[38;5;28;01melse\u001B[39;00m:\n\u001B[1;32m    148\u001B[0m         \u001B[38;5;28;01mreturn\u001B[39;00m wrapped_with_timeout_process(wrap_helper)\n",
      "File \u001B[0;32m~/opt/anaconda3/envs/DataAnalysis/lib/python3.10/site-packages/wrapt_timeout_decorator/wrapt_timeout_decorator.py:154\u001B[0m, in \u001B[0;36mwrapped_with_timeout_signals\u001B[0;34m(wrap_helper)\u001B[0m\n\u001B[1;32m    152\u001B[0m \u001B[38;5;28;01mtry\u001B[39;00m:\n\u001B[1;32m    153\u001B[0m     wrap_helper\u001B[38;5;241m.\u001B[39msave_old_and_set_new_alarm_handler()\n\u001B[0;32m--> 154\u001B[0m     \u001B[38;5;28;01mreturn\u001B[39;00m \u001B[43mwrap_helper\u001B[49m\u001B[38;5;241;43m.\u001B[39;49m\u001B[43mwrapped\u001B[49m\u001B[43m(\u001B[49m\u001B[38;5;241;43m*\u001B[39;49m\u001B[43mwrap_helper\u001B[49m\u001B[38;5;241;43m.\u001B[39;49m\u001B[43margs\u001B[49m\u001B[43m,\u001B[49m\u001B[43m \u001B[49m\u001B[38;5;241;43m*\u001B[39;49m\u001B[38;5;241;43m*\u001B[39;49m\u001B[43mwrap_helper\u001B[49m\u001B[38;5;241;43m.\u001B[39;49m\u001B[43mkwargs\u001B[49m\u001B[43m)\u001B[49m\n\u001B[1;32m    155\u001B[0m \u001B[38;5;28;01mfinally\u001B[39;00m:\n\u001B[1;32m    156\u001B[0m     wrap_helper\u001B[38;5;241m.\u001B[39mrestore_old_alarm_handler()\n",
      "Input \u001B[0;32mIn [2]\u001B[0m, in \u001B[0;36mdemo_func\u001B[0;34m(seconds)\u001B[0m\n\u001B[1;32m      3\u001B[0m \u001B[38;5;129m@timeout\u001B[39m(\u001B[38;5;241m5\u001B[39m)\n\u001B[1;32m      4\u001B[0m \u001B[38;5;28;01mdef\u001B[39;00m \u001B[38;5;21mdemo_func\u001B[39m(seconds:\u001B[38;5;28mfloat\u001B[39m)\u001B[38;5;241m-\u001B[39m\u001B[38;5;241m>\u001B[39m\u001B[38;5;28mfloat\u001B[39m:\n\u001B[0;32m----> 5\u001B[0m     \u001B[43mtime\u001B[49m\u001B[38;5;241;43m.\u001B[39;49m\u001B[43msleep\u001B[49m\u001B[43m(\u001B[49m\u001B[43mseconds\u001B[49m\u001B[43m)\u001B[49m\n\u001B[1;32m      6\u001B[0m     \u001B[38;5;28;01mreturn\u001B[39;00m seconds\n",
      "File \u001B[0;32m~/opt/anaconda3/envs/DataAnalysis/lib/python3.10/site-packages/wrapt_timeout_decorator/wrap_helper.py:83\u001B[0m, in \u001B[0;36mWrapHelper.new_alarm_handler\u001B[0;34m(self, signum, frame)\u001B[0m\n\u001B[1;32m     82\u001B[0m \u001B[38;5;28;01mdef\u001B[39;00m \u001B[38;5;21mnew_alarm_handler\u001B[39m(\u001B[38;5;28mself\u001B[39m, signum: signal\u001B[38;5;241m.\u001B[39mSignals, frame: FrameType) \u001B[38;5;241m-\u001B[39m\u001B[38;5;241m>\u001B[39m \u001B[38;5;28;01mNone\u001B[39;00m:\n\u001B[0;32m---> 83\u001B[0m     \u001B[43mraise_exception\u001B[49m\u001B[43m(\u001B[49m\u001B[38;5;28;43mself\u001B[39;49m\u001B[38;5;241;43m.\u001B[39;49m\u001B[43mtimeout_exception\u001B[49m\u001B[43m,\u001B[49m\u001B[43m \u001B[49m\u001B[38;5;28;43mself\u001B[39;49m\u001B[38;5;241;43m.\u001B[39;49m\u001B[43mexception_message\u001B[49m\u001B[43m)\u001B[49m\n",
      "File \u001B[0;32m~/opt/anaconda3/envs/DataAnalysis/lib/python3.10/site-packages/wrapt_timeout_decorator/wrap_helper.py:181\u001B[0m, in \u001B[0;36mraise_exception\u001B[0;34m(exception, exception_message)\u001B[0m\n\u001B[1;32m    179\u001B[0m \u001B[38;5;28;01mif\u001B[39;00m \u001B[38;5;129;01mnot\u001B[39;00m exception:\n\u001B[1;32m    180\u001B[0m     exception \u001B[38;5;241m=\u001B[39m \u001B[38;5;167;01mTimeoutError\u001B[39;00m\n\u001B[0;32m--> 181\u001B[0m \u001B[38;5;28;01mraise\u001B[39;00m exception(exception_message)\n",
      "\u001B[0;31mTimeoutError\u001B[0m: Function demo_func timed out after 5.0 seconds"
     ]
    }
   ],
   "source": [
    "#超时报错\n",
    "demo_func(6)"
   ],
   "metadata": {
    "collapsed": false,
    "pycharm": {
     "name": "#%%\n"
    }
   }
  },
  {
   "cell_type": "code",
   "execution_count": 5,
   "outputs": [
    {
     "ename": "TimeoutError",
     "evalue": "Function demo_func1 timed out after 5.0 seconds",
     "output_type": "error",
     "traceback": [
      "\u001B[0;31m---------------------------------------------------------------------------\u001B[0m",
      "\u001B[0;31mTimeoutError\u001B[0m                              Traceback (most recent call last)",
      "Input \u001B[0;32mIn [5]\u001B[0m, in \u001B[0;36m<cell line: 12>\u001B[0;34m()\u001B[0m\n\u001B[1;32m     10\u001B[0m demo\u001B[38;5;241m=\u001B[39mDemo()\n\u001B[1;32m     11\u001B[0m demo\u001B[38;5;241m.\u001B[39mdemo_func1(\u001B[38;5;241m3\u001B[39m)\n\u001B[0;32m---> 12\u001B[0m \u001B[43mdemo\u001B[49m\u001B[38;5;241;43m.\u001B[39;49m\u001B[43mdemo_func1\u001B[49m\u001B[43m(\u001B[49m\u001B[38;5;241;43m6\u001B[39;49m\u001B[43m)\u001B[49m\n",
      "File \u001B[0;32m~/opt/anaconda3/envs/DataAnalysis/lib/python3.10/site-packages/wrapt_timeout_decorator/wrapt_timeout_decorator.py:139\u001B[0m, in \u001B[0;36mtimeout.<locals>.wrapper\u001B[0;34m(wrapped, instance, args, kwargs)\u001B[0m\n\u001B[1;32m    137\u001B[0m     \u001B[38;5;28;01mreturn\u001B[39;00m wrapped(\u001B[38;5;241m*\u001B[39mwrap_helper\u001B[38;5;241m.\u001B[39margs, \u001B[38;5;241m*\u001B[39m\u001B[38;5;241m*\u001B[39mwrap_helper\u001B[38;5;241m.\u001B[39mkwargs)\n\u001B[1;32m    138\u001B[0m \u001B[38;5;28;01melse\u001B[39;00m:\n\u001B[0;32m--> 139\u001B[0m     \u001B[38;5;28;01mreturn\u001B[39;00m \u001B[43mwrapped_with_timeout\u001B[49m\u001B[43m(\u001B[49m\u001B[43mwrap_helper\u001B[49m\u001B[43m)\u001B[49m\n",
      "File \u001B[0;32m~/opt/anaconda3/envs/DataAnalysis/lib/python3.10/site-packages/wrapt_timeout_decorator/wrapt_timeout_decorator.py:146\u001B[0m, in \u001B[0;36mwrapped_with_timeout\u001B[0;34m(wrap_helper)\u001B[0m\n\u001B[1;32m    144\u001B[0m \u001B[38;5;28;01mdef\u001B[39;00m \u001B[38;5;21mwrapped_with_timeout\u001B[39m(wrap_helper: WrapHelper) \u001B[38;5;241m-\u001B[39m\u001B[38;5;241m>\u001B[39m Any:\n\u001B[1;32m    145\u001B[0m     \u001B[38;5;28;01mif\u001B[39;00m wrap_helper\u001B[38;5;241m.\u001B[39muse_signals:\n\u001B[0;32m--> 146\u001B[0m         \u001B[38;5;28;01mreturn\u001B[39;00m \u001B[43mwrapped_with_timeout_signals\u001B[49m\u001B[43m(\u001B[49m\u001B[43mwrap_helper\u001B[49m\u001B[43m)\u001B[49m\n\u001B[1;32m    147\u001B[0m     \u001B[38;5;28;01melse\u001B[39;00m:\n\u001B[1;32m    148\u001B[0m         \u001B[38;5;28;01mreturn\u001B[39;00m wrapped_with_timeout_process(wrap_helper)\n",
      "File \u001B[0;32m~/opt/anaconda3/envs/DataAnalysis/lib/python3.10/site-packages/wrapt_timeout_decorator/wrapt_timeout_decorator.py:154\u001B[0m, in \u001B[0;36mwrapped_with_timeout_signals\u001B[0;34m(wrap_helper)\u001B[0m\n\u001B[1;32m    152\u001B[0m \u001B[38;5;28;01mtry\u001B[39;00m:\n\u001B[1;32m    153\u001B[0m     wrap_helper\u001B[38;5;241m.\u001B[39msave_old_and_set_new_alarm_handler()\n\u001B[0;32m--> 154\u001B[0m     \u001B[38;5;28;01mreturn\u001B[39;00m \u001B[43mwrap_helper\u001B[49m\u001B[38;5;241;43m.\u001B[39;49m\u001B[43mwrapped\u001B[49m\u001B[43m(\u001B[49m\u001B[38;5;241;43m*\u001B[39;49m\u001B[43mwrap_helper\u001B[49m\u001B[38;5;241;43m.\u001B[39;49m\u001B[43margs\u001B[49m\u001B[43m,\u001B[49m\u001B[43m \u001B[49m\u001B[38;5;241;43m*\u001B[39;49m\u001B[38;5;241;43m*\u001B[39;49m\u001B[43mwrap_helper\u001B[49m\u001B[38;5;241;43m.\u001B[39;49m\u001B[43mkwargs\u001B[49m\u001B[43m)\u001B[49m\n\u001B[1;32m    155\u001B[0m \u001B[38;5;28;01mfinally\u001B[39;00m:\n\u001B[1;32m    156\u001B[0m     wrap_helper\u001B[38;5;241m.\u001B[39mrestore_old_alarm_handler()\n",
      "Input \u001B[0;32mIn [5]\u001B[0m, in \u001B[0;36mDemo.demo_func1\u001B[0;34m(seconds)\u001B[0m\n\u001B[1;32m      3\u001B[0m \u001B[38;5;129m@timeout\u001B[39m(\u001B[38;5;241m5\u001B[39m)\n\u001B[1;32m      4\u001B[0m \u001B[38;5;129m@staticmethod\u001B[39m\n\u001B[1;32m      5\u001B[0m \u001B[38;5;28;01mdef\u001B[39;00m \u001B[38;5;21mdemo_func1\u001B[39m(seconds:\u001B[38;5;28mfloat\u001B[39m)\u001B[38;5;241m-\u001B[39m\u001B[38;5;241m>\u001B[39m\u001B[38;5;28mfloat\u001B[39m:\n\u001B[1;32m      6\u001B[0m     \u001B[38;5;28;01mimport\u001B[39;00m \u001B[38;5;21;01mtime\u001B[39;00m\n\u001B[0;32m----> 7\u001B[0m     \u001B[43mtime\u001B[49m\u001B[38;5;241;43m.\u001B[39;49m\u001B[43msleep\u001B[49m\u001B[43m(\u001B[49m\u001B[43mseconds\u001B[49m\u001B[43m)\u001B[49m\n\u001B[1;32m      8\u001B[0m     \u001B[38;5;28;01mreturn\u001B[39;00m seconds\n",
      "File \u001B[0;32m~/opt/anaconda3/envs/DataAnalysis/lib/python3.10/site-packages/wrapt_timeout_decorator/wrap_helper.py:83\u001B[0m, in \u001B[0;36mWrapHelper.new_alarm_handler\u001B[0;34m(self, signum, frame)\u001B[0m\n\u001B[1;32m     82\u001B[0m \u001B[38;5;28;01mdef\u001B[39;00m \u001B[38;5;21mnew_alarm_handler\u001B[39m(\u001B[38;5;28mself\u001B[39m, signum: signal\u001B[38;5;241m.\u001B[39mSignals, frame: FrameType) \u001B[38;5;241m-\u001B[39m\u001B[38;5;241m>\u001B[39m \u001B[38;5;28;01mNone\u001B[39;00m:\n\u001B[0;32m---> 83\u001B[0m     \u001B[43mraise_exception\u001B[49m\u001B[43m(\u001B[49m\u001B[38;5;28;43mself\u001B[39;49m\u001B[38;5;241;43m.\u001B[39;49m\u001B[43mtimeout_exception\u001B[49m\u001B[43m,\u001B[49m\u001B[43m \u001B[49m\u001B[38;5;28;43mself\u001B[39;49m\u001B[38;5;241;43m.\u001B[39;49m\u001B[43mexception_message\u001B[49m\u001B[43m)\u001B[49m\n",
      "File \u001B[0;32m~/opt/anaconda3/envs/DataAnalysis/lib/python3.10/site-packages/wrapt_timeout_decorator/wrap_helper.py:181\u001B[0m, in \u001B[0;36mraise_exception\u001B[0;34m(exception, exception_message)\u001B[0m\n\u001B[1;32m    179\u001B[0m \u001B[38;5;28;01mif\u001B[39;00m \u001B[38;5;129;01mnot\u001B[39;00m exception:\n\u001B[1;32m    180\u001B[0m     exception \u001B[38;5;241m=\u001B[39m \u001B[38;5;167;01mTimeoutError\u001B[39;00m\n\u001B[0;32m--> 181\u001B[0m \u001B[38;5;28;01mraise\u001B[39;00m exception(exception_message)\n",
      "\u001B[0;31mTimeoutError\u001B[0m: Function demo_func1 timed out after 5.0 seconds"
     ]
    }
   ],
   "source": [
    "#静态类中也可以用\n",
    "class Demo:\n",
    "    @timeout(5)\n",
    "    @staticmethod\n",
    "    def demo_func1(seconds:float)->float:\n",
    "        import time\n",
    "        time.sleep(seconds)\n",
    "        return seconds\n",
    "\n",
    "demo=Demo()\n",
    "demo.demo_func1(3)\n",
    "demo.demo_func1(6)"
   ],
   "metadata": {
    "collapsed": false,
    "pycharm": {
     "name": "#%%\n"
    }
   }
  }
 ],
 "metadata": {
  "kernelspec": {
   "display_name": "Python 3",
   "language": "python",
   "name": "python3"
  },
  "language_info": {
   "codemirror_mode": {
    "name": "ipython",
    "version": 2
   },
   "file_extension": ".py",
   "mimetype": "text/x-python",
   "name": "python",
   "nbconvert_exporter": "python",
   "pygments_lexer": "ipython2",
   "version": "2.7.6"
  }
 },
 "nbformat": 4,
 "nbformat_minor": 0
}