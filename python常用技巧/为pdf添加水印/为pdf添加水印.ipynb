{
 "cells": [
  {
   "cell_type": "markdown",
   "metadata": {
    "collapsed": true,
    "pycharm": {
     "name": "#%% md\n"
    }
   },
   "source": [
    "### 有些情况下我们需要为单个或多个pdf文件添加文字水印，尤其是那种需要在每一页按照一定间距铺满的文字水印。而借助reportlab和pikepdf这两个实用的pdf文件操作库，我们就可以很方便地实现批量文字水印添加工作。\n",
    "### 利用pip install reportlab pikepdf 完成安装后，我们就可以按照步骤来实现需要的功能："
   ]
  },
  {
   "cell_type": "code",
   "execution_count": 2,
   "outputs": [],
   "source": [
    "#创建有水印的pdf文件\n",
    "from typing import Union, Tuple\n",
    "from reportlab.lib import units\n",
    "from reportlab.pdfgen import canvas\n",
    "from reportlab.pdfbase import pdfmetrics\n",
    "from reportlab.pdfbase.ttfonts import TTFont\n",
    "\n",
    "# 注册字体，这里的字体是我从mac的字体目录\n",
    "pdfmetrics.registerFont(TTFont('Fangsong', '/Library/Fonts/Microsoft/Fangsong.ttf'))\n",
    "\n",
    "\n",
    "def create_watermark(content: str,\n",
    "                     filename: str,\n",
    "                     width: Union[int, float],\n",
    "                     height: Union[int, float],\n",
    "                     font: str,\n",
    "                     fontsize: int,\n",
    "                     angle: Union[int, float] = 45,\n",
    "                     text_stroke_color_rgb: Tuple[int, int, int] = (0, 0, 0),\n",
    "                     text_fill_color_rgb: Tuple[int, int, int] = (0, 0, 0),\n",
    "                     text_fill_alpha: Union[int, float] = 1) -> None:\n",
    "    '''\n",
    "    用于生成包含content文字内容的水印pdf文件\n",
    "    content: 水印文本内容\n",
    "    filename: 导出的水印文件名\n",
    "    width: 画布宽度，单位：mm\n",
    "    height: 画布高度，单位：mm\n",
    "    font: 对应注册的字体代号\n",
    "    fontsize: 字号大小\n",
    "    angle: 旋转角度\n",
    "    text_stroke_color_rgb: 文字轮廓rgb色\n",
    "    text_fill_color_rgb: 文字填充rgb色\n",
    "    text_fill_alpha: 文字透明度\n",
    "    '''\n",
    "\n",
    "    # 创建pdf文件，指定文件名及尺寸，这里以像素单位为例\n",
    "    c = canvas.Canvas(f\"{filename}.pdf\", pagesize=(width * units.mm, height * units.mm))\n",
    "\n",
    "    # 进行轻微的画布平移保证文字的完整\n",
    "    c.translate(0.1 * width * units.mm, 0.1 * height * units.mm)\n",
    "\n",
    "    # 设置旋转角度\n",
    "    c.rotate(angle)\n",
    "\n",
    "    # 设置字体及字号大小\n",
    "    c.setFont(font, fontsize)\n",
    "\n",
    "    # 设置文字轮廓色彩\n",
    "    c.setStrokeColorRGB(*text_stroke_color_rgb)\n",
    "\n",
    "    # 设置文字填充色\n",
    "    c.setFillColorRGB(*text_fill_color_rgb)\n",
    "\n",
    "    # 设置文字填充色透明度\n",
    "    c.setFillAlpha(text_fill_alpha)\n",
    "\n",
    "    # 绘制文字内容\n",
    "    c.drawString(0, 0, content)\n",
    "\n",
    "    # 保存水印pdf文件\n",
    "    c.save()"
   ],
   "metadata": {
    "collapsed": false,
    "pycharm": {
     "name": "#%%\n"
    }
   }
  },
  {
   "cell_type": "code",
   "execution_count": 4,
   "outputs": [],
   "source": [
    "# 制造示例文字水印pdf文件\n",
    "create_watermark(content='作者：黎长读',\n",
    "                 filename='水印示例',\n",
    "                 width=200,\n",
    "                 height=200,\n",
    "                 font='Fangsong',\n",
    "                 fontsize=35,\n",
    "                 text_fill_alpha=0.3)"
   ],
   "metadata": {
    "collapsed": false,
    "pycharm": {
     "name": "#%%\n"
    }
   }
  },
  {
   "cell_type": "code",
   "execution_count": 6,
   "outputs": [],
   "source": [
    "#将水印文件批量覆盖到目标pdf文件中\n",
    "from typing import List\n",
    "from pikepdf import Pdf, Page, Rectangle\n",
    "\n",
    "\n",
    "def add_watermark(target_pdf_path: str,\n",
    "                  watermark_pdf_path: str,\n",
    "                  nrow: int,\n",
    "                  ncol: int,\n",
    "                  skip_pages: List[int] = []) -> None:\n",
    "    '''\n",
    "    向目标pdf文件中添加平铺水印\n",
    "    target_pdf_path: 目标pdf文件的路径+文件名\n",
    "    watermark_pdf_path: 水印pdf文件的路径+文件名\n",
    "    nrow: 水印平铺的行数\n",
    "    ncol：水印平铺的列数\n",
    "    skip_pages: 需要跳过不添加水印的页面序号（从0开始）\n",
    "    '''\n",
    "\n",
    "    # 读入需要添加水印的pdf文件\n",
    "    target_pdf = Pdf.open(target_pdf_path)\n",
    "\n",
    "    # 读入水印pdf文件并提取水印页\n",
    "    watermark_pdf = Pdf.open(watermark_pdf_path)\n",
    "    watermark_page = watermark_pdf.pages[0]\n",
    "\n",
    "    # 遍历目标pdf文件中的所有页（排除skip_pages指定的若干页）\n",
    "    for idx, target_page in enumerate(target_pdf.pages):\n",
    "\n",
    "        if idx not in skip_pages:\n",
    "            for x in range(ncol):\n",
    "                for y in range(nrow):\n",
    "                    # 向目标页指定范围添加水印\n",
    "                    target_page.add_overlay(watermark_page, Rectangle(target_page.trimbox[2] * x / ncol,\n",
    "                                                                      target_page.trimbox[3] * y / nrow,\n",
    "                                                                      target_page.trimbox[2] * (x + 1) / ncol,\n",
    "                                                                      target_page.trimbox[3] * (y + 1) / nrow))\n",
    "\n",
    "    # 将添加完水印后的结果保存为新的pdf\n",
    "    target_pdf.save(target_pdf_path[:-4] + '_已添加水印.pdf')"
   ],
   "metadata": {
    "collapsed": false,
    "pycharm": {
     "name": "#%%\n"
    }
   }
  },
  {
   "cell_type": "code",
   "execution_count": 11,
   "outputs": [],
   "source": [
    "add_watermark(target_pdf_path='/Volumes/LCDSD/python/python机器学习第二版/《Python机器学习(第2版)》中文PDF.pdf',\n",
    "              watermark_pdf_path='./水印示例.pdf',\n",
    "              nrow=3,\n",
    "              ncol=2,\n",
    "              skip_pages=[0])"
   ],
   "metadata": {
    "collapsed": false,
    "pycharm": {
     "name": "#%%\n"
    }
   }
  },
  {
   "cell_type": "code",
   "execution_count": null,
   "outputs": [],
   "source": [],
   "metadata": {
    "collapsed": false,
    "pycharm": {
     "name": "#%%\n"
    }
   }
  }
 ],
 "metadata": {
  "kernelspec": {
   "display_name": "Python 3",
   "language": "python",
   "name": "python3"
  },
  "language_info": {
   "codemirror_mode": {
    "name": "ipython",
    "version": 2
   },
   "file_extension": ".py",
   "mimetype": "text/x-python",
   "name": "python",
   "nbconvert_exporter": "python",
   "pygments_lexer": "ipython2",
   "version": "2.7.6"
  }
 },
 "nbformat": 4,
 "nbformat_minor": 0
}