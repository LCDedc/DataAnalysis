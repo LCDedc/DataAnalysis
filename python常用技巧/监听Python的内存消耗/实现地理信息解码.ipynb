{
 "cells": [
  {
   "cell_type": "markdown",
   "metadata": {
    "collapsed": true,
    "pycharm": {
     "name": "#%% md\n"
    }
   },
   "source": [
    "### 在日常数据处理的过程中，有时候拿到手的是完整的地址信息，如果需要从地址信息中解析出相应的各级行政单元名称，方式有很多，而今天要介绍的方式只需要一行代码即可快速实现。首先我们需要安装jionlp这个非常好用的文本预处理工具包，建议使用国内镜像安装."
   ]
  },
  {
   "cell_type": "code",
   "execution_count": 1,
   "outputs": [
    {
     "name": "stdout",
     "output_type": "stream",
     "text": [
      "`jio.help()` is provided to search how to use jio functions.\n",
      "Or browse `https://github.com/dongrixinyu/JioNLP` to get help.\n"
     ]
    }
   ],
   "source": [
    "import jionlp as jon"
   ],
   "metadata": {
    "collapsed": false,
    "pycharm": {
     "name": "#%%\n"
    }
   }
  },
  {
   "cell_type": "code",
   "execution_count": 2,
   "outputs": [
    {
     "data": {
      "text/plain": "{'province': '贵州省',\n 'city': '黔南布依族苗族自治州',\n 'county': '惠水县',\n 'detail': '羡塘镇',\n 'full_location': '贵州省黔南布依族苗族自治州惠水县羡塘镇',\n 'orig_location': '贵州省黔南布依族苗族自治州惠水县羡塘镇'}"
     },
     "execution_count": 2,
     "metadata": {},
     "output_type": "execute_result"
    }
   ],
   "source": [
    "raw_adress='贵州省黔南布依族苗族自治州惠水县羡塘镇'\n",
    "jon.parse_location(raw_adress)"
   ],
   "metadata": {
    "collapsed": false,
    "pycharm": {
     "name": "#%%\n"
    }
   }
  },
  {
   "cell_type": "code",
   "execution_count": 6,
   "outputs": [
    {
     "data": {
      "text/plain": "{'province': '贵州省',\n 'city': '黔南布依族苗族自治州',\n 'county': '惠水县',\n 'detail': '羡塘镇甲奉村',\n 'full_location': '贵州省黔南布依族苗族自治州惠水县羡塘镇甲奉村',\n 'orig_location': '贵州省黔南布依族苗族自治州惠水县羡塘镇甲奉村',\n 'town': '羡塘镇',\n 'village': '甲奉村'}"
     },
     "execution_count": 6,
     "metadata": {},
     "output_type": "execute_result"
    }
   ],
   "source": [
    "#提取乡镇\n",
    "raw_adress='贵州省黔南布依族苗族自治州惠水县羡塘镇甲奉村'\n",
    "jon.parse_location(raw_adress,town_village=True)"
   ],
   "metadata": {
    "collapsed": false,
    "pycharm": {
     "name": "#%%\n"
    }
   }
  },
  {
   "cell_type": "code",
   "execution_count": 11,
   "outputs": [
    {
     "data": {
      "text/plain": "{'province': '贵州省',\n 'city': '黔南布依族苗族自治州',\n 'county': '惠水县',\n 'detail': '羡塘镇甲奉村马咀二组',\n 'full_location': '贵州省黔南布依族苗族自治州惠水县羡塘镇甲奉村马咀二组',\n 'orig_location': '惠水县羡塘镇甲奉村马咀二组',\n 'town': '羡塘镇',\n 'village': '甲奉村'}"
     },
     "execution_count": 11,
     "metadata": {},
     "output_type": "execute_result"
    }
   ],
   "source": [
    "#补全省份信息\n",
    "raw_adress='惠水县羡塘镇甲奉村马咀二组'\n",
    "jon.parse_location(raw_adress,town_village=True,change2new=True)"
   ],
   "metadata": {
    "collapsed": false,
    "pycharm": {
     "name": "#%%\n"
    }
   }
  },
  {
   "cell_type": "markdown",
   "source": [
    "### 除此之外，parse_location()还具有旧地名修正为新地名、自定义行政区划词典等功能，你可以在其官方文档https://github.com/dongrixinyu/JioNLP/wiki/Gadget-说明文档#地址解析中了解更多。"
   ],
   "metadata": {
    "collapsed": false,
    "pycharm": {
     "name": "#%% md\n"
    }
   }
  },
  {
   "cell_type": "code",
   "execution_count": null,
   "outputs": [],
   "source": [],
   "metadata": {
    "collapsed": false,
    "pycharm": {
     "name": "#%%\n"
    }
   }
  }
 ],
 "metadata": {
  "kernelspec": {
   "display_name": "Python 3",
   "language": "python",
   "name": "python3"
  },
  "language_info": {
   "codemirror_mode": {
    "name": "ipython",
    "version": 2
   },
   "file_extension": ".py",
   "mimetype": "text/x-python",
   "name": "python",
   "nbconvert_exporter": "python",
   "pygments_lexer": "ipython2",
   "version": "2.7.6"
  }
 },
 "nbformat": 4,
 "nbformat_minor": 0
}