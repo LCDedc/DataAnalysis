{
 "cells": [
  {
   "cell_type": "markdown",
   "metadata": {
    "collapsed": true,
    "pycharm": {
     "name": "#%% md\n"
    }
   },
   "source": [
    "### 很多情况下，我们需要对已经写好的Python程序的内存消耗进行优化，但是一段代码在运行过程中的内存消耗是动态变化的，这种时候就可以用到memory_profiler这个第三方库，它可以帮助我们分析记录Python脚本中，执行到每一行时，内存的消耗及波动变化情况。\n",
    "\n",
    "### memory_profiler的使用方法超级简单，使用pip install memory_profiler完成安装后，只需要从memory_profiler导入profile并作为要分析的目标函数的装饰器即可，譬如下面这个例子："
   ]
  },
  {
   "cell_type": "code",
   "execution_count": 3,
   "outputs": [
    {
     "name": "stdout",
     "output_type": "stream",
     "text": [
      "Filename: /Users/apple/PycharmProjects/DataAnalysis/常见的数据分析模块/python常用技巧/监听Python的内存消耗/demo.py\r\n",
      "\r\n",
      "Line #    Mem usage    Increment  Occurrences   Line Contents\r\n",
      "=============================================================\r\n",
      "     5     63.1 MiB     63.1 MiB           1   @profile\r\n",
      "     6                                         def demo():\r\n",
      "     7    139.4 MiB     76.3 MiB           1       a = np.random.rand(10000000)\r\n",
      "     8    215.7 MiB     76.3 MiB           1       b = np.random.rand(10000000)\r\n",
      "     9                                         \r\n",
      "    10    263.4 MiB     47.7 MiB           1       a_ = a[a < b]\r\n",
      "    11    301.6 MiB     38.2 MiB           1       b_ = b[a < b]\r\n",
      "    12                                         \r\n",
      "    13    301.6 MiB      0.0 MiB           1       del a, b\r\n",
      "    14                                         \r\n",
      "    15    301.6 MiB      0.0 MiB           1       return a_, b_\r\n",
      "\r\n",
      "\r\n"
     ]
    }
   ],
   "source": [
    "!python demo.py"
   ],
   "metadata": {
    "collapsed": false,
    "pycharm": {
     "name": "#%%\n"
    }
   }
  },
  {
   "cell_type": "markdown",
   "source": [
    "### 其中Line #列记录了分析的各行代码具体行位置，Mem usage列记录了当程序执行到该行时，当前进程占用内存的量，Increment记录了当前行相比上一行内存消耗的变化量，Occurrences记录了当前行的执行次数（循环、列表推导等代码行会记作多次），Line Contents列则记录了具体对应的行代码。"
   ],
   "metadata": {
    "collapsed": false,
    "pycharm": {
     "name": "#%% md\n"
    }
   }
  },
  {
   "cell_type": "code",
   "execution_count": null,
   "outputs": [],
   "source": [],
   "metadata": {
    "collapsed": false,
    "pycharm": {
     "name": "#%%\n"
    }
   }
  }
 ],
 "metadata": {
  "kernelspec": {
   "display_name": "Python 3",
   "language": "python",
   "name": "python3"
  },
  "language_info": {
   "codemirror_mode": {
    "name": "ipython",
    "version": 2
   },
   "file_extension": ".py",
   "mimetype": "text/x-python",
   "name": "python",
   "nbconvert_exporter": "python",
   "pygments_lexer": "ipython2",
   "version": "2.7.6"
  }
 },
 "nbformat": 4,
 "nbformat_minor": 0
}