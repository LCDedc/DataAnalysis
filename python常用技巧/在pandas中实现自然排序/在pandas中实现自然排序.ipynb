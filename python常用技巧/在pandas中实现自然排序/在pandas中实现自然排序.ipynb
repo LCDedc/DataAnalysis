{
 "cells": [
  {
   "cell_type": "markdown",
   "metadata": {
    "collapsed": true,
    "pycharm": {
     "name": "#%% md\n"
    }
   },
   "source": [
    "### 自然排序顺序（Natural sort order），不同于默认排序针对字符串逐个比较对应位置字符的ASCII码的方式，它更关注字符串实际相对大小意义的排序"
   ]
  },
  {
   "cell_type": "code",
   "execution_count": 6,
   "outputs": [],
   "source": [
    "import pandas as pd\n",
    "import numpy as np"
   ],
   "metadata": {
    "collapsed": false,
    "pycharm": {
     "name": "#%%\n"
    }
   }
  },
  {
   "cell_type": "code",
   "execution_count": 3,
   "outputs": [
    {
     "data": {
      "text/plain": "   index  values\n0      0  18.67%\n1      1   31.5%\n2      2   3.25%\n3      3  77.02%\n4      4  49.33%\n5      5   29.28\n6      6  50.33%\n7      7  94.57%\n8      8  84.02%\n9      9  61.07%",
      "text/html": "<div>\n<style scoped>\n    .dataframe tbody tr th:only-of-type {\n        vertical-align: middle;\n    }\n\n    .dataframe tbody tr th {\n        vertical-align: top;\n    }\n\n    .dataframe thead th {\n        text-align: right;\n    }\n</style>\n<table border=\"1\" class=\"dataframe\">\n  <thead>\n    <tr style=\"text-align: right;\">\n      <th></th>\n      <th>index</th>\n      <th>values</th>\n    </tr>\n  </thead>\n  <tbody>\n    <tr>\n      <th>0</th>\n      <td>0</td>\n      <td>18.67%</td>\n    </tr>\n    <tr>\n      <th>1</th>\n      <td>1</td>\n      <td>31.5%</td>\n    </tr>\n    <tr>\n      <th>2</th>\n      <td>2</td>\n      <td>3.25%</td>\n    </tr>\n    <tr>\n      <th>3</th>\n      <td>3</td>\n      <td>77.02%</td>\n    </tr>\n    <tr>\n      <th>4</th>\n      <td>4</td>\n      <td>49.33%</td>\n    </tr>\n    <tr>\n      <th>5</th>\n      <td>5</td>\n      <td>29.28</td>\n    </tr>\n    <tr>\n      <th>6</th>\n      <td>6</td>\n      <td>50.33%</td>\n    </tr>\n    <tr>\n      <th>7</th>\n      <td>7</td>\n      <td>94.57%</td>\n    </tr>\n    <tr>\n      <th>8</th>\n      <td>8</td>\n      <td>84.02%</td>\n    </tr>\n    <tr>\n      <th>9</th>\n      <td>9</td>\n      <td>61.07%</td>\n    </tr>\n  </tbody>\n</table>\n</div>"
     },
     "execution_count": 3,
     "metadata": {},
     "output_type": "execute_result"
    }
   ],
   "source": [
    "data=pd.DataFrame({'index':range(10),'values':['18.67%','31.5%','3.25%','77.02%','49.33%','29.28','50.33%','94.57%',\n",
    "                                               '84.02%','61.07%']})\n",
    "data"
   ],
   "metadata": {
    "collapsed": false,
    "pycharm": {
     "name": "#%%\n"
    }
   }
  },
  {
   "cell_type": "code",
   "execution_count": 4,
   "outputs": [
    {
     "data": {
      "text/plain": "   index  values\n0      0  18.67%\n5      5   29.28\n2      2   3.25%\n1      1   31.5%\n4      4  49.33%\n6      6  50.33%\n9      9  61.07%\n3      3  77.02%\n8      8  84.02%\n7      7  94.57%",
      "text/html": "<div>\n<style scoped>\n    .dataframe tbody tr th:only-of-type {\n        vertical-align: middle;\n    }\n\n    .dataframe tbody tr th {\n        vertical-align: top;\n    }\n\n    .dataframe thead th {\n        text-align: right;\n    }\n</style>\n<table border=\"1\" class=\"dataframe\">\n  <thead>\n    <tr style=\"text-align: right;\">\n      <th></th>\n      <th>index</th>\n      <th>values</th>\n    </tr>\n  </thead>\n  <tbody>\n    <tr>\n      <th>0</th>\n      <td>0</td>\n      <td>18.67%</td>\n    </tr>\n    <tr>\n      <th>5</th>\n      <td>5</td>\n      <td>29.28</td>\n    </tr>\n    <tr>\n      <th>2</th>\n      <td>2</td>\n      <td>3.25%</td>\n    </tr>\n    <tr>\n      <th>1</th>\n      <td>1</td>\n      <td>31.5%</td>\n    </tr>\n    <tr>\n      <th>4</th>\n      <td>4</td>\n      <td>49.33%</td>\n    </tr>\n    <tr>\n      <th>6</th>\n      <td>6</td>\n      <td>50.33%</td>\n    </tr>\n    <tr>\n      <th>9</th>\n      <td>9</td>\n      <td>61.07%</td>\n    </tr>\n    <tr>\n      <th>3</th>\n      <td>3</td>\n      <td>77.02%</td>\n    </tr>\n    <tr>\n      <th>8</th>\n      <td>8</td>\n      <td>84.02%</td>\n    </tr>\n    <tr>\n      <th>7</th>\n      <td>7</td>\n      <td>94.57%</td>\n    </tr>\n  </tbody>\n</table>\n</div>"
     },
     "execution_count": 4,
     "metadata": {},
     "output_type": "execute_result"
    }
   ],
   "source": [
    "#显然不符合实际意义\n",
    "data.sort_values('values')"
   ],
   "metadata": {
    "collapsed": false,
    "pycharm": {
     "name": "#%%\n"
    }
   }
  },
  {
   "cell_type": "code",
   "execution_count": 5,
   "outputs": [
    {
     "data": {
      "text/plain": "[2, 0, 5, 1, 4, 6, 9, 3, 8, 7]"
     },
     "execution_count": 5,
     "metadata": {},
     "output_type": "execute_result"
    }
   ],
   "source": [
    "from natsort import index_natsorted\n",
    "index_natsorted(data['values'])#给出字符串的实际意义的排序的索引"
   ],
   "metadata": {
    "collapsed": false,
    "pycharm": {
     "name": "#%%\n"
    }
   }
  },
  {
   "cell_type": "code",
   "execution_count": 7,
   "outputs": [
    {
     "data": {
      "text/plain": "array([1, 3, 0, 7, 4, 2, 5, 9, 8, 6])"
     },
     "execution_count": 7,
     "metadata": {},
     "output_type": "execute_result"
    }
   ],
   "source": [
    "np.argsort(index_natsorted(data['values']))#给出索引的排序后的索引，就得到每个元素应该在排序后的哪个位置"
   ],
   "metadata": {
    "collapsed": false,
    "pycharm": {
     "name": "#%%\n"
    }
   }
  },
  {
   "cell_type": "code",
   "execution_count": 8,
   "outputs": [
    {
     "data": {
      "text/plain": "   index  values\n2      2   3.25%\n0      0  18.67%\n5      5   29.28\n1      1   31.5%\n4      4  49.33%\n6      6  50.33%\n9      9  61.07%\n3      3  77.02%\n8      8  84.02%\n7      7  94.57%",
      "text/html": "<div>\n<style scoped>\n    .dataframe tbody tr th:only-of-type {\n        vertical-align: middle;\n    }\n\n    .dataframe tbody tr th {\n        vertical-align: top;\n    }\n\n    .dataframe thead th {\n        text-align: right;\n    }\n</style>\n<table border=\"1\" class=\"dataframe\">\n  <thead>\n    <tr style=\"text-align: right;\">\n      <th></th>\n      <th>index</th>\n      <th>values</th>\n    </tr>\n  </thead>\n  <tbody>\n    <tr>\n      <th>2</th>\n      <td>2</td>\n      <td>3.25%</td>\n    </tr>\n    <tr>\n      <th>0</th>\n      <td>0</td>\n      <td>18.67%</td>\n    </tr>\n    <tr>\n      <th>5</th>\n      <td>5</td>\n      <td>29.28</td>\n    </tr>\n    <tr>\n      <th>1</th>\n      <td>1</td>\n      <td>31.5%</td>\n    </tr>\n    <tr>\n      <th>4</th>\n      <td>4</td>\n      <td>49.33%</td>\n    </tr>\n    <tr>\n      <th>6</th>\n      <td>6</td>\n      <td>50.33%</td>\n    </tr>\n    <tr>\n      <th>9</th>\n      <td>9</td>\n      <td>61.07%</td>\n    </tr>\n    <tr>\n      <th>3</th>\n      <td>3</td>\n      <td>77.02%</td>\n    </tr>\n    <tr>\n      <th>8</th>\n      <td>8</td>\n      <td>84.02%</td>\n    </tr>\n    <tr>\n      <th>7</th>\n      <td>7</td>\n      <td>94.57%</td>\n    </tr>\n  </tbody>\n</table>\n</div>"
     },
     "execution_count": 8,
     "metadata": {},
     "output_type": "execute_result"
    }
   ],
   "source": [
    "data.sort_values('values',key=lambda by:np.argsort(index_natsorted(data['values'])))"
   ],
   "metadata": {
    "collapsed": false,
    "pycharm": {
     "name": "#%%\n"
    }
   }
  },
  {
   "cell_type": "code",
   "execution_count": 11,
   "outputs": [],
   "source": [
    "#还可以使用natsorted排序\n",
    "from natsort import natsorted"
   ],
   "metadata": {
    "collapsed": false,
    "pycharm": {
     "name": "#%%\n"
    }
   }
  },
  {
   "cell_type": "code",
   "execution_count": 13,
   "outputs": [
    {
     "data": {
      "text/plain": "['1.csv', '3.csv', '12.csv', '31.csv']"
     },
     "execution_count": 13,
     "metadata": {},
     "output_type": "execute_result"
    }
   ],
   "source": [
    "files=['1.csv','12.csv','3.csv','31.csv']\n",
    "natsorted(files)"
   ],
   "metadata": {
    "collapsed": false,
    "pycharm": {
     "name": "#%%\n"
    }
   }
  },
  {
   "cell_type": "code",
   "execution_count": 14,
   "outputs": [
    {
     "data": {
      "text/plain": "['3.25%',\n '18.67%',\n '29.28',\n '31.5%',\n '49.33%',\n '50.33%',\n '61.07%',\n '77.02%',\n '84.02%',\n '94.57%']"
     },
     "execution_count": 14,
     "metadata": {},
     "output_type": "execute_result"
    }
   ],
   "source": [
    "natsorted(data['values'])"
   ],
   "metadata": {
    "collapsed": false,
    "pycharm": {
     "name": "#%%\n"
    }
   }
  },
  {
   "cell_type": "code",
   "execution_count": null,
   "outputs": [],
   "source": [],
   "metadata": {
    "collapsed": false,
    "pycharm": {
     "name": "#%%\n"
    }
   }
  }
 ],
 "metadata": {
  "kernelspec": {
   "display_name": "Python 3",
   "language": "python",
   "name": "python3"
  },
  "language_info": {
   "codemirror_mode": {
    "name": "ipython",
    "version": 2
   },
   "file_extension": ".py",
   "mimetype": "text/x-python",
   "name": "python",
   "nbconvert_exporter": "python",
   "pygments_lexer": "ipython2",
   "version": "2.7.6"
  }
 },
 "nbformat": 4,
 "nbformat_minor": 0
}