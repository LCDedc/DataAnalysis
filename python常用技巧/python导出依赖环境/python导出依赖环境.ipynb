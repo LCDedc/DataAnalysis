{
 "cells": [
  {
   "cell_type": "markdown",
   "metadata": {
    "collapsed": true,
    "pycharm": {
     "name": "#%% md\n"
    }
   },
   "source": [
    "### 很多朋友都知道，利用pip也好，利用conda也好，我们可以使用pip freeze、conda export等语句来对当前的Python环境依赖进行导出备份，以方便在其他机器上还原环境。但此类环境依赖导出方法的局限在于，它会将当前环境下所有已安装的库信息进行导出，使得导出的结果繁杂臃肿。而如果我们只想针对某个Python项目工程，将其内部真正导入的库信息进行导出，就可以用到pipreqs这个工具，使用pip install pipreqs进行安装之后，就可以以命令行的形式使用它，基础使用语法为："
   ]
  },
  {
   "cell_type": "code",
   "execution_count": 2,
   "outputs": [],
   "source": [
    "#终端输入\n",
    "#pipreqs 目标工程根路径名"
   ],
   "metadata": {
    "collapsed": false,
    "pycharm": {
     "name": "#%%\n"
    }
   }
  },
  {
   "cell_type": "markdown",
   "source": [
    "### 譬如pipreqs ./就将当前路径视作目标工程的根目录进行导出，以一个示例工程为例（其中encoding参数用于设置导出文件的编码，--force用于设置允许覆盖已存在的同名文件），并与pip freeze的结果进行对比，可以看到，pipreqs导出的环境依赖非常之简洁，在很多情况下更适合用来还原Python项目的最小依赖信息："
   ],
   "metadata": {
    "collapsed": false,
    "pycharm": {
     "name": "#%% md\n"
    }
   }
  },
  {
   "cell_type": "code",
   "execution_count": 3,
   "outputs": [],
   "source": [
    "#pipreqs ./python常用技巧 --encoding=utf-8 --force\n",
    "# pip freeze > pip_requirement.txt"
   ],
   "metadata": {
    "collapsed": false,
    "pycharm": {
     "name": "#%%\n"
    }
   }
  },
  {
   "cell_type": "markdown",
   "source": [
    "### 有了这个文件，在其他环境或机器上使用pip install -r requirements.txt命令就可以快速还原项目依赖，pipreqs还有一些实用的参数，可以前往查看参数说明."
   ],
   "metadata": {
    "collapsed": false,
    "pycharm": {
     "name": "#%% md\n"
    }
   }
  },
  {
   "cell_type": "markdown",
   "source": [
    "## pipreqs 只能对.py文件有用，对jupyter notebook没有用！"
   ],
   "metadata": {
    "collapsed": false,
    "pycharm": {
     "name": "#%% md\n"
    }
   }
  },
  {
   "cell_type": "code",
   "execution_count": null,
   "outputs": [],
   "source": [],
   "metadata": {
    "collapsed": false,
    "pycharm": {
     "name": "#%%\n"
    }
   }
  }
 ],
 "metadata": {
  "kernelspec": {
   "display_name": "Python 3",
   "language": "python",
   "name": "python3"
  },
  "language_info": {
   "codemirror_mode": {
    "name": "ipython",
    "version": 2
   },
   "file_extension": ".py",
   "mimetype": "text/x-python",
   "name": "python",
   "nbconvert_exporter": "python",
   "pygments_lexer": "ipython2",
   "version": "2.7.6"
  }
 },
 "nbformat": 4,
 "nbformat_minor": 0
}