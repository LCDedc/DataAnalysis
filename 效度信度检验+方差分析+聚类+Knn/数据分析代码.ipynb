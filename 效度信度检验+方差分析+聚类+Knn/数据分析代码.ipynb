{
 "cells": [
  {
   "cell_type": "code",
   "execution_count": 39,
   "outputs": [],
   "source": [
    "import pandas as pd\n",
    "import matplotlib.pyplot as plt\n",
    "import numpy as np\n",
    "import warnings\n",
    "warnings.filterwarnings(\"ignore\")"
   ],
   "metadata": {
    "collapsed": false,
    "pycharm": {
     "name": "#%%\n"
    }
   }
  },
  {
   "cell_type": "code",
   "execution_count": 144,
   "outputs": [
    {
     "data": {
      "text/plain": "   序号              提交答卷时间  所用时间  来源 来源详情                    来自IP 1、您的性别是：  \\\n0   1   2022/3/16 9:54:42  354秒  微信  NaN    106.17.228.95(湖南-长沙)        女   \n1   2  2022/3/16 10:04:04  984秒  微信  NaN   222.178.202.82(重庆-重庆)        女   \n2   3  2022/3/16 16:25:57  364秒  微信  NaN  117.136.105.148(河南-安阳)        女   \n3   4  2022/3/22 17:22:41  304秒  微信  NaN    106.84.183.60(重庆-重庆)        男   \n4   5  2022/3/22 17:31:56   89秒  微信  NaN    39.144.218.69(重庆-重庆)        女   \n\n  2、您的年龄是： 3、您在学校里的身份是： 4、您的受教育程度是：  ...  \\\n0   20-30岁           学生       硕士研究生  ...   \n1   20-30岁       专业技术人员       硕士研究生  ...   \n2   20-30岁           学生       硕士研究生  ...   \n3   41-50岁       行政管理人员         本科生  ...   \n4    20岁以下           学生         本科生  ...   \n\n  23、技术体验（指对图书馆微知识服务平台所使用的服务技术和信息表现形式方面的需求）  \\\n0                                      非常重要   \n1                                         7   \n2                                         8   \n3                                         7   \n4                                         7   \n\n  24、情感交互（指在使用图书馆微知识服务过程中产生的情感体验，主要体现在服务方式的人机交互和与他人的交流共享两个方面的需求）  \\\n0                                               非常重要               \n1                                                  7               \n2                                                  5               \n3                                                  7               \n4                                                  7               \n\n  25、自我实现（指在使用图书馆微知识服务中对自我意愿、感受、价值实现方面的评价和需求）  \\\n0                                        非常重要   \n1                                           7   \n2                                           7   \n3                                           7   \n4                                           8   \n\n                26、在“感官体验”方面，请根据您的实际情况将以下需求按重要程度进行排序  \\\n0  视觉（界面元素及呈现形态，如微平台的LOGO、设计风格、页面大小、布局、色彩、文字、图片、图...   \n1  视觉（界面元素及呈现形态，如微平台的LOGO、设计风格、页面大小、布局、色彩、文字、图片、图...   \n2  视觉（界面元素及呈现形态，如微平台的LOGO、设计风格、页面大小、布局、色彩、文字、图片、图...   \n3  视觉（界面元素及呈现形态，如微平台的LOGO、设计风格、页面大小、布局、色彩、文字、图片、图...   \n4  视觉（界面元素及呈现形态，如微平台的LOGO、设计风格、页面大小、布局、色彩、文字、图片、图...   \n\n                27、在“信息利用”方面，请根据您的实际情况将以下需求按重要程度进行排序  \\\n0  知识内容（如微知识资源数量丰富、种类齐全、内容完整、真实可靠、价值大、与需求目的密切相关）→...   \n1  知识内容（如微知识资源数量丰富、种类齐全、内容完整、真实可靠、价值大、与需求目的密切相关）→...   \n2  知识内容（如微知识资源数量丰富、种类齐全、内容完整、真实可靠、价值大、与需求目的密切相关）→...   \n3  平台功能（如平台提供用户查询、搜索、利用等多种引导信息和功能）→知识内容（如微知识资源数量丰...   \n4  知识内容（如微知识资源数量丰富、种类齐全、内容完整、真实可靠、价值大、与需求目的密切相关）→...   \n\n                28、在“技术体验”方面，请根据您的实际情况将以下需求按重要程度进行排序  \\\n0  使用与交互方式（使用与交互操作简便，难度较低，简单有效，能方便地进行信息利用和交流互动）→信...   \n1  栏目设置（能直接体现出微服务平台的功能和作用，目录清晰明了）→使用与交互方式（使用与交互操作...   \n2  信息的展现形式（信息能以方便理解、易于辨识的方式展现出来，并能与多种终端设备兼容）→使用与交...   \n3  使用与交互方式（使用与交互操作简便，难度较低，简单有效，能方便地进行信息利用和交流互动）→栏...   \n4  使用与交互方式（使用与交互操作简便，难度较低，简单有效，能方便地进行信息利用和交流互动）→栏...   \n\n                29、在“情感交互”方面，请根据您的实际情况将以下需求按重要程度进行排序  \\\n0  与他人交流共享（如转发、分享、与他人交流、用户社区、好友共享）→人机交互（如在线咨询、人工应...   \n1  与他人交流共享（如转发、分享、与他人交流、用户社区、好友共享）→人机交互（如在线咨询、人工应...   \n2  人机交互（如在线咨询、人工应答、帮助中心、会员服务、评论反馈）→与他人交流共享（如转发、分享...   \n3  人机交互（如在线咨询、人工应答、帮助中心、会员服务、评论反馈）→与他人交流共享（如转发、分享...   \n4  人机交互（如在线咨询、人工应答、帮助中心、会员服务、评论反馈）→与他人交流共享（如转发、分享...   \n\n      30、在与图书馆微知识服务平台交互过程中，请根据您的实际情况将以下情感需求按重要程度进行排序  \\\n0  希望图书馆微知识服务系统是灵活自由便于操作的→希望体验图书馆微知识服务的过程是轻松快乐的→相...   \n1  希望图书馆微知识服务平台能够提供个性化服务→相信使用图书馆微知识服务对个人隐私是安全的→希望...   \n2  相信使用图书馆微知识服务对个人隐私是安全的→希望图书馆微知识服务系统是灵活自由便于操作的→希...   \n3  希望图书馆微知识服务系统是灵活自由便于操作的→希望体验图书馆微知识服务的过程是轻松快乐的→希...   \n4  希望图书馆微知识服务平台能够提供个性化服务→希望图书馆微知识服务系统是灵活自由便于操作的→希...   \n\n                31、在“自我实现”方面，请根据您的实际情况将以下需求按重要程度进行排序   总分  \n0  希望自己的意愿能够在微平台上得到充分的表达、需求得到有效的满足、意见得到重视和及时反馈→希望...  243  \n1  希望自己的意愿能够在微平台上得到充分的表达、需求得到有效的满足、意见得到重视和及时反馈→希望...  208  \n2  希望自己的意愿能够在微平台上得到充分的表达、需求得到有效的满足、意见得到重视和及时反馈→希望...  207  \n3  希望自己的意愿能够在微平台上得到充分的表达、需求得到有效的满足、意见得到重视和及时反馈→希望...  191  \n4  希望通过转发、分享、点赞、评论、交流等得到他人的关注或认同，从而提高自己的存在感、融入感与成...  200  \n\n[5 rows x 64 columns]",
      "text/html": "<div>\n<style scoped>\n    .dataframe tbody tr th:only-of-type {\n        vertical-align: middle;\n    }\n\n    .dataframe tbody tr th {\n        vertical-align: top;\n    }\n\n    .dataframe thead th {\n        text-align: right;\n    }\n</style>\n<table border=\"1\" class=\"dataframe\">\n  <thead>\n    <tr style=\"text-align: right;\">\n      <th></th>\n      <th>序号</th>\n      <th>提交答卷时间</th>\n      <th>所用时间</th>\n      <th>来源</th>\n      <th>来源详情</th>\n      <th>来自IP</th>\n      <th>1、您的性别是：</th>\n      <th>2、您的年龄是：</th>\n      <th>3、您在学校里的身份是：</th>\n      <th>4、您的受教育程度是：</th>\n      <th>...</th>\n      <th>23、技术体验（指对图书馆微知识服务平台所使用的服务技术和信息表现形式方面的需求）</th>\n      <th>24、情感交互（指在使用图书馆微知识服务过程中产生的情感体验，主要体现在服务方式的人机交互和与他人的交流共享两个方面的需求）</th>\n      <th>25、自我实现（指在使用图书馆微知识服务中对自我意愿、感受、价值实现方面的评价和需求）</th>\n      <th>26、在“感官体验”方面，请根据您的实际情况将以下需求按重要程度进行排序</th>\n      <th>27、在“信息利用”方面，请根据您的实际情况将以下需求按重要程度进行排序</th>\n      <th>28、在“技术体验”方面，请根据您的实际情况将以下需求按重要程度进行排序</th>\n      <th>29、在“情感交互”方面，请根据您的实际情况将以下需求按重要程度进行排序</th>\n      <th>30、在与图书馆微知识服务平台交互过程中，请根据您的实际情况将以下情感需求按重要程度进行排序</th>\n      <th>31、在“自我实现”方面，请根据您的实际情况将以下需求按重要程度进行排序</th>\n      <th>总分</th>\n    </tr>\n  </thead>\n  <tbody>\n    <tr>\n      <th>0</th>\n      <td>1</td>\n      <td>2022/3/16 9:54:42</td>\n      <td>354秒</td>\n      <td>微信</td>\n      <td>NaN</td>\n      <td>106.17.228.95(湖南-长沙)</td>\n      <td>女</td>\n      <td>20-30岁</td>\n      <td>学生</td>\n      <td>硕士研究生</td>\n      <td>...</td>\n      <td>非常重要</td>\n      <td>非常重要</td>\n      <td>非常重要</td>\n      <td>视觉（界面元素及呈现形态，如微平台的LOGO、设计风格、页面大小、布局、色彩、文字、图片、图...</td>\n      <td>知识内容（如微知识资源数量丰富、种类齐全、内容完整、真实可靠、价值大、与需求目的密切相关）→...</td>\n      <td>使用与交互方式（使用与交互操作简便，难度较低，简单有效，能方便地进行信息利用和交流互动）→信...</td>\n      <td>与他人交流共享（如转发、分享、与他人交流、用户社区、好友共享）→人机交互（如在线咨询、人工应...</td>\n      <td>希望图书馆微知识服务系统是灵活自由便于操作的→希望体验图书馆微知识服务的过程是轻松快乐的→相...</td>\n      <td>希望自己的意愿能够在微平台上得到充分的表达、需求得到有效的满足、意见得到重视和及时反馈→希望...</td>\n      <td>243</td>\n    </tr>\n    <tr>\n      <th>1</th>\n      <td>2</td>\n      <td>2022/3/16 10:04:04</td>\n      <td>984秒</td>\n      <td>微信</td>\n      <td>NaN</td>\n      <td>222.178.202.82(重庆-重庆)</td>\n      <td>女</td>\n      <td>20-30岁</td>\n      <td>专业技术人员</td>\n      <td>硕士研究生</td>\n      <td>...</td>\n      <td>7</td>\n      <td>7</td>\n      <td>7</td>\n      <td>视觉（界面元素及呈现形态，如微平台的LOGO、设计风格、页面大小、布局、色彩、文字、图片、图...</td>\n      <td>知识内容（如微知识资源数量丰富、种类齐全、内容完整、真实可靠、价值大、与需求目的密切相关）→...</td>\n      <td>栏目设置（能直接体现出微服务平台的功能和作用，目录清晰明了）→使用与交互方式（使用与交互操作...</td>\n      <td>与他人交流共享（如转发、分享、与他人交流、用户社区、好友共享）→人机交互（如在线咨询、人工应...</td>\n      <td>希望图书馆微知识服务平台能够提供个性化服务→相信使用图书馆微知识服务对个人隐私是安全的→希望...</td>\n      <td>希望自己的意愿能够在微平台上得到充分的表达、需求得到有效的满足、意见得到重视和及时反馈→希望...</td>\n      <td>208</td>\n    </tr>\n    <tr>\n      <th>2</th>\n      <td>3</td>\n      <td>2022/3/16 16:25:57</td>\n      <td>364秒</td>\n      <td>微信</td>\n      <td>NaN</td>\n      <td>117.136.105.148(河南-安阳)</td>\n      <td>女</td>\n      <td>20-30岁</td>\n      <td>学生</td>\n      <td>硕士研究生</td>\n      <td>...</td>\n      <td>8</td>\n      <td>5</td>\n      <td>7</td>\n      <td>视觉（界面元素及呈现形态，如微平台的LOGO、设计风格、页面大小、布局、色彩、文字、图片、图...</td>\n      <td>知识内容（如微知识资源数量丰富、种类齐全、内容完整、真实可靠、价值大、与需求目的密切相关）→...</td>\n      <td>信息的展现形式（信息能以方便理解、易于辨识的方式展现出来，并能与多种终端设备兼容）→使用与交...</td>\n      <td>人机交互（如在线咨询、人工应答、帮助中心、会员服务、评论反馈）→与他人交流共享（如转发、分享...</td>\n      <td>相信使用图书馆微知识服务对个人隐私是安全的→希望图书馆微知识服务系统是灵活自由便于操作的→希...</td>\n      <td>希望自己的意愿能够在微平台上得到充分的表达、需求得到有效的满足、意见得到重视和及时反馈→希望...</td>\n      <td>207</td>\n    </tr>\n    <tr>\n      <th>3</th>\n      <td>4</td>\n      <td>2022/3/22 17:22:41</td>\n      <td>304秒</td>\n      <td>微信</td>\n      <td>NaN</td>\n      <td>106.84.183.60(重庆-重庆)</td>\n      <td>男</td>\n      <td>41-50岁</td>\n      <td>行政管理人员</td>\n      <td>本科生</td>\n      <td>...</td>\n      <td>7</td>\n      <td>7</td>\n      <td>7</td>\n      <td>视觉（界面元素及呈现形态，如微平台的LOGO、设计风格、页面大小、布局、色彩、文字、图片、图...</td>\n      <td>平台功能（如平台提供用户查询、搜索、利用等多种引导信息和功能）→知识内容（如微知识资源数量丰...</td>\n      <td>使用与交互方式（使用与交互操作简便，难度较低，简单有效，能方便地进行信息利用和交流互动）→栏...</td>\n      <td>人机交互（如在线咨询、人工应答、帮助中心、会员服务、评论反馈）→与他人交流共享（如转发、分享...</td>\n      <td>希望图书馆微知识服务系统是灵活自由便于操作的→希望体验图书馆微知识服务的过程是轻松快乐的→希...</td>\n      <td>希望自己的意愿能够在微平台上得到充分的表达、需求得到有效的满足、意见得到重视和及时反馈→希望...</td>\n      <td>191</td>\n    </tr>\n    <tr>\n      <th>4</th>\n      <td>5</td>\n      <td>2022/3/22 17:31:56</td>\n      <td>89秒</td>\n      <td>微信</td>\n      <td>NaN</td>\n      <td>39.144.218.69(重庆-重庆)</td>\n      <td>女</td>\n      <td>20岁以下</td>\n      <td>学生</td>\n      <td>本科生</td>\n      <td>...</td>\n      <td>7</td>\n      <td>7</td>\n      <td>8</td>\n      <td>视觉（界面元素及呈现形态，如微平台的LOGO、设计风格、页面大小、布局、色彩、文字、图片、图...</td>\n      <td>知识内容（如微知识资源数量丰富、种类齐全、内容完整、真实可靠、价值大、与需求目的密切相关）→...</td>\n      <td>使用与交互方式（使用与交互操作简便，难度较低，简单有效，能方便地进行信息利用和交流互动）→栏...</td>\n      <td>人机交互（如在线咨询、人工应答、帮助中心、会员服务、评论反馈）→与他人交流共享（如转发、分享...</td>\n      <td>希望图书馆微知识服务平台能够提供个性化服务→希望图书馆微知识服务系统是灵活自由便于操作的→希...</td>\n      <td>希望通过转发、分享、点赞、评论、交流等得到他人的关注或认同，从而提高自己的存在感、融入感与成...</td>\n      <td>200</td>\n    </tr>\n  </tbody>\n</table>\n<p>5 rows × 64 columns</p>\n</div>"
     },
     "execution_count": 144,
     "metadata": {},
     "output_type": "execute_result"
    }
   ],
   "source": [
    "data=pd.read_excel(\"./data/高校图书馆微知识服务用户调查问卷数据（初步筛选后）.xlsx\",header=0)\n",
    "data.head()"
   ],
   "metadata": {
    "collapsed": false,
    "pycharm": {
     "name": "#%%\n"
    }
   }
  },
  {
   "cell_type": "markdown",
   "source": [
    "### 描述性分析"
   ],
   "metadata": {
    "collapsed": false,
    "pycharm": {
     "name": "#%% md\n"
    }
   }
  },
  {
   "cell_type": "code",
   "execution_count": 145,
   "outputs": [
    {
     "name": "stdout",
     "output_type": "stream",
     "text": [
      "<class 'pandas.core.frame.DataFrame'>\n",
      "RangeIndex: 1598 entries, 0 to 1597\n",
      "Data columns (total 58 columns):\n",
      " #   Column                                                          Non-Null Count  Dtype \n",
      "---  ------                                                          --------------  ----- \n",
      " 0   1、您的性别是：                                                        1598 non-null   object\n",
      " 1   2、您的年龄是：                                                        1598 non-null   object\n",
      " 2   3、您在学校里的身份是：                                                    1598 non-null   object\n",
      " 3   4、您的受教育程度是：                                                     1598 non-null   object\n",
      " 4   5、您的专业类型是：                                                      1598 non-null   object\n",
      " 5   6、您的研究方向或具体专业名称是：                                               1598 non-null   object\n",
      " 6   7、您平时获取知识信息常用的移动平台有哪些：                                          1598 non-null   object\n",
      " 7   8、您每周使用这些移动平台获取知识信息的频率：                                         1598 non-null   object\n",
      " 8   9、您利用图书馆移动信息平台微知识服务的目标是什么?                                      1598 non-null   object\n",
      " 9   10、您一般通过哪些途径利用图书馆移动信息平台微知识服务?                                   1598 non-null   object\n",
      " 10  11、您是主动获取图书馆移动信息平台上发布的知识资源还是出于外界压力被迫获取?                         1598 non-null   object\n",
      " 11  12、您为什么会选择使用图书馆移动信息平台的微知识服务?                                    1598 non-null   object\n",
      " 12  13、您在这些移动信息平台上主要查询和获取哪些知识资源和内容?                                 1598 non-null   object\n",
      " 13  14、原则导向—服务指南清晰、界面结构合理                                           1598 non-null   object\n",
      " 14  14、图书馆移动信息平台上发布的知识资源全面丰富、更新及时                                   1598 non-null   object\n",
      " 15  14、图书馆移动信息平台上发布的知识资源获取便捷                                        1598 non-null   object\n",
      " 16  14、我习惯使用图书馆移动信息平台获取知识资源内容                                       1598 non-null   object\n",
      " 17  15、地位导向—我会参加线上知识讲座、网络课程等                                        1598 non-null   object\n",
      " 18  15、图书馆员能够及时回复我的线上咨询                                             1598 non-null   object\n",
      " 19  15、我通常会对图书馆移动信息平台上发布的知识内容进行评论和点赞                                1598 non-null   object\n",
      " 20  15、我喜欢对图书馆移动信息平台的知识资源和服务进行转发和分享，与他人互动交流                         1598 non-null   object\n",
      " 21  16、行为导向—我熟悉图书馆移动信息平台微知识服务的各种功能                                  1598 non-null   object\n",
      " 22  16、我可以通过多种设备和渠道利用知识资源和服务                                        1598 non-null   object\n",
      " 23  16、我喜欢参加图书馆的在线抽奖、赠品等激励活动                                        1598 non-null   object\n",
      " 24  16、零碎时间我会利用图书馆移动信息平台上发布的知识资源                                    1598 non-null   object\n",
      " 25  17、查寻行为—我喜欢自由随意地浏览图书馆移动信息平台上发布的知识资源                             1598 non-null   object\n",
      " 26  17、我喜欢跟踪浏览某些主题的知识资源                                             1598 non-null   object\n",
      " 27  17、我会主动搜索自己所需要的知识内容                                             1598 non-null   object\n",
      " 28  17、我一般是看到推送通知才会点进去看                                             1598 non-null   object\n",
      " 29  18、选择行为—我喜欢选择与时俱进、简单易用的知识内容                                     1598 non-null   object\n",
      " 30  18、知识资源的正确性、适用性对我的体验影响较大                                        1598 non-null   object\n",
      " 31  18、我喜欢可以免费获取、访问便捷的知识资源                                          1598 non-null   object\n",
      " 32  18、获取到符合要求的资源后，我会继续查看更多相关联的知识资源                                 1598 non-null   object\n",
      " 33  18、获取到符合要求的资源后，我会把他们下载下来，以备后用                                   1598 non-null   object\n",
      " 34  19、交流行为—我喜欢图书馆的推荐、定制、推送服务                                       1598 non-null   object\n",
      " 35  19、我喜欢集信息发布、组织与传递多种功能、交流畅通的平台                                   1598 non-null   object\n",
      " 36  19、如果有问题，我会在线向馆员寻求帮助                                            1598 non-null   object\n",
      " 37  19、我喜欢利用多种方式（如一对一、群、社区等）来进行交流分享                                 1598 non-null   object\n",
      " 38  19、我喜欢参加网上用户调查，比如参与一些在线交流反馈活动                                   1598 non-null   object\n",
      " 39  20、关于利用高校图书馆移动信息平台微知识服务的态度方面：—我认为移动信息平台发布的知识资源内容能够满足我的知识需求      1598 non-null   object\n",
      " 40  20、我认为移动信息平台知识服务功能是丰富有用的                                        1598 non-null   object\n",
      " 41  20、我认为移动信息平台知识服务平台是高效易用的                                        1598 non-null   object\n",
      " 42  20、我认为移动信息平台知识服务界面设计简洁清晰                                        1598 non-null   object\n",
      " 43  20、我对图书馆微知识服务的整体水平表示满意                                          1598 non-null   object\n",
      " 44  20、如有需要，我会继续使用图书馆的微知识服务                                         1598 non-null   object\n",
      " 45  20、我会向周围朋友推荐或宣传图书馆的微知识服务                                        1598 non-null   object\n",
      " 46  21、感官体验（指在使用图书馆微知识服务过程中视觉、听觉、触觉等感官产生的综合体验与利用需求）                 1598 non-null   object\n",
      " 47  22、信息利用（指在使用图书馆微知识服务中为解决某个问题或实现某一目标而对知识资源本身和知识服务提供的需求）          1598 non-null   object\n",
      " 48  23、技术体验（指对图书馆微知识服务平台所使用的服务技术和信息表现形式方面的需求）                       1598 non-null   object\n",
      " 49  24、情感交互（指在使用图书馆微知识服务过程中产生的情感体验，主要体现在服务方式的人机交互和与他人的交流共享两个方面的需求）  1598 non-null   object\n",
      " 50  25、自我实现（指在使用图书馆微知识服务中对自我意愿、感受、价值实现方面的评价和需求）                     1598 non-null   object\n",
      " 51  26、在“感官体验”方面，请根据您的实际情况将以下需求按重要程度进行排序                            1598 non-null   object\n",
      " 52  27、在“信息利用”方面，请根据您的实际情况将以下需求按重要程度进行排序                            1598 non-null   object\n",
      " 53  28、在“技术体验”方面，请根据您的实际情况将以下需求按重要程度进行排序                            1598 non-null   object\n",
      " 54  29、在“情感交互”方面，请根据您的实际情况将以下需求按重要程度进行排序                            1598 non-null   object\n",
      " 55  30、在与图书馆微知识服务平台交互过程中，请根据您的实际情况将以下情感需求按重要程度进行排序                  1598 non-null   object\n",
      " 56  31、在“自我实现”方面，请根据您的实际情况将以下需求按重要程度进行排序                            1598 non-null   object\n",
      " 57  总分                                                              1598 non-null   int64 \n",
      "dtypes: int64(1), object(57)\n",
      "memory usage: 724.2+ KB\n"
     ]
    }
   ],
   "source": [
    "#男女比例\n",
    "data=data.iloc[:,6:]\n",
    "data.info()"
   ],
   "metadata": {
    "collapsed": false,
    "pycharm": {
     "name": "#%%\n"
    }
   }
  },
  {
   "cell_type": "code",
   "execution_count": 93,
   "outputs": [
    {
     "data": {
      "text/plain": "<Figure size 432x288 with 1 Axes>",
      "image/png": "[encoded data removed]"
     },
     "metadata": {},
     "output_type": "display_data"
    }
   ],
   "source": [
    "#男女比例\n",
    "# plt.rcParams['axes.unicode_minus'] = False#设置负的坐标轴显示\n",
    "plt.rcParams[\"font.family\"] = \"SimHei\" # 设置全局中文字体为黑体\n",
    "m_w=pd.value_counts(data[\"1、您的性别是：\"])\n",
    "plt.pie(m_w,pctdistance=0.5, autopct=\"%0.2f%%\",shadow=True,labeldistance=0.3,labels=[\"女\",\"男\"])\n",
    "plt.title(\"本次被调查者男女比例情况\",pad=0.2)\n",
    "plt.savefig(\"./pictures/男女比例图.png\",dpi=600)"
   ],
   "metadata": {
    "collapsed": false,
    "pycharm": {
     "name": "#%%\n"
    }
   }
  },
  {
   "cell_type": "code",
   "execution_count": 94,
   "outputs": [
    {
     "data": {
      "text/plain": "<Figure size 432x288 with 1 Axes>",
      "image/png": "[encoded data removed]"
     },
     "metadata": {
      "needs_background": "light"
     },
     "output_type": "display_data"
    }
   ],
   "source": [
    "#年龄分布\n",
    "age=pd.value_counts(data['2、您的年龄是：'])\n",
    "plt.bar(age.index,age)\n",
    "plt.ylabel(\"人数\")\n",
    "plt.title(\"年龄分布情况\")\n",
    "plt.savefig(\"./pictures/年龄分布情况图.png\",dpi=600)"
   ],
   "metadata": {
    "collapsed": false,
    "pycharm": {
     "name": "#%%\n"
    }
   }
  },
  {
   "cell_type": "code",
   "execution_count": 95,
   "outputs": [
    {
     "data": {
      "text/plain": "<Figure size 432x288 with 1 Axes>",
      "image/png": "[encoded data removed]"
     },
     "metadata": {},
     "output_type": "display_data"
    }
   ],
   "source": [
    "#受教育程度饼图\n",
    "educ=pd.value_counts(data[\"4、您的受教育程度是：\"])\n",
    "plt.pie(educ,pctdistance=0.5, autopct=\"%0.2f%%\",shadow=True,\n",
    "        labeldistance=0.2,labels=[\"研究生\",\"本科生\",\"博士生\"])\n",
    "plt.title(\"本次被调查者受教育情况\",pad=0.2)\n",
    "plt.savefig(\"./pictures/受教育比例图.png\",dpi=600)"
   ],
   "metadata": {
    "collapsed": false,
    "pycharm": {
     "name": "#%%\n"
    }
   }
  },
  {
   "cell_type": "code",
   "execution_count": 104,
   "outputs": [
    {
     "data": {
      "text/plain": "<Figure size 576x288 with 1 Axes>",
      "image/png": "[encoded data removed]"
     },
     "metadata": {
      "needs_background": "light"
     },
     "output_type": "display_data"
    }
   ],
   "source": [
    "#专业词云图\n",
    "text=\" \".join(data[\"6、您的研究方向或具体专业名称是：\"]).replace(\"无\",\"\")\n",
    "from wordcloud import WordCloud\n",
    "from PIL import Image\n",
    "from wordcloud import ImageColorGenerator\n",
    "waimai_mask = np.array(Image.open('./pictures/白底照片.png'))\n",
    "image_colors = ImageColorGenerator(waimai_mask)\n",
    "'''从文本中生成词云图'''\n",
    "wordcloud = WordCloud(font_path=\"data/SimHei.ttf\",\n",
    "                      background_color='white', # 背景色为白色\n",
    "                      height=400, # 高度设置为400\n",
    "                      width=800, # 宽度设置为800\n",
    "                      scale=20, # 长宽拉伸程度程度设置为20\n",
    "                      prefer_horizontal=0.2, # 调整水平显示倾向程度为0.2\n",
    "                      mask=waimai_mask, # 添加蒙版\n",
    "                      max_words=1000, # 设置最大显示字数为1000\n",
    "                      relative_scaling=0.3, # 设置字体大小与词频的关联程度为0.3\n",
    "                      max_font_size=80, # 缩小最大字体为80\n",
    "\n",
    "                     ).generate(text)\n",
    "\n",
    "plt.figure(figsize=[8, 4])\n",
    "plt.imshow(wordcloud, alpha=1)\n",
    "plt.axis('off')\n",
    "'''保存到本地'''\n",
    "plt.savefig('./pictures/被调查者专业词云图.png', dpi=600, bbox_inches='tight', quality=95)\n",
    "plt.show()"
   ],
   "metadata": {
    "collapsed": false,
    "pycharm": {
     "name": "#%%\n"
    }
   }
  },
  {
   "cell_type": "markdown",
   "source": [
    "### 问卷的信度效度检验"
   ],
   "metadata": {
    "collapsed": false,
    "pycharm": {
     "name": "#%% md\n"
    }
   }
  },
  {
   "cell_type": "code",
   "execution_count": 146,
   "outputs": [],
   "source": [
    "data=data.iloc[:,13:51]\n",
    "dict1={\"非常不同意\":0,\"比较不同意\":1,\"不太同意\":2,\"不确定\":3,\n",
    "       \"基本同意\":4,\"比较同意\":5,\"非常同意\":6}\n",
    "dict2={\"非常不重要\":0,\"1\":1,\"2\":2,\"3\":3,\"4\":4,\"5\":5,\"6\":6,\"7\":7,\"8\":8,\"9\":9,\"非常重要\":10}\n",
    "for column in data.columns[:33]:\n",
    "    data.loc[:,column]=data.loc[:,column].map(dict1)\n",
    "for column in data.columns[33:]:\n",
    "    data.loc[:,column]=data.loc[:,column].map(dict2)"
   ],
   "metadata": {
    "collapsed": false,
    "pycharm": {
     "name": "#%%\n"
    }
   }
  },
  {
   "cell_type": "code",
   "execution_count": 147,
   "outputs": [
    {
     "name": "stdout",
     "output_type": "stream",
     "text": [
      "<class 'pandas.core.frame.DataFrame'>\n",
      "RangeIndex: 1598 entries, 0 to 1597\n",
      "Data columns (total 38 columns):\n",
      " #   Column                                                          Non-Null Count  Dtype\n",
      "---  ------                                                          --------------  -----\n",
      " 0   14、原则导向—服务指南清晰、界面结构合理                                           1598 non-null   int64\n",
      " 1   14、图书馆移动信息平台上发布的知识资源全面丰富、更新及时                                   1598 non-null   int64\n",
      " 2   14、图书馆移动信息平台上发布的知识资源获取便捷                                        1598 non-null   int64\n",
      " 3   14、我习惯使用图书馆移动信息平台获取知识资源内容                                       1598 non-null   int64\n",
      " 4   15、地位导向—我会参加线上知识讲座、网络课程等                                        1598 non-null   int64\n",
      " 5   15、图书馆员能够及时回复我的线上咨询                                             1598 non-null   int64\n",
      " 6   15、我通常会对图书馆移动信息平台上发布的知识内容进行评论和点赞                                1598 non-null   int64\n",
      " 7   15、我喜欢对图书馆移动信息平台的知识资源和服务进行转发和分享，与他人互动交流                         1598 non-null   int64\n",
      " 8   16、行为导向—我熟悉图书馆移动信息平台微知识服务的各种功能                                  1598 non-null   int64\n",
      " 9   16、我可以通过多种设备和渠道利用知识资源和服务                                        1598 non-null   int64\n",
      " 10  16、我喜欢参加图书馆的在线抽奖、赠品等激励活动                                        1598 non-null   int64\n",
      " 11  16、零碎时间我会利用图书馆移动信息平台上发布的知识资源                                    1598 non-null   int64\n",
      " 12  17、查寻行为—我喜欢自由随意地浏览图书馆移动信息平台上发布的知识资源                             1598 non-null   int64\n",
      " 13  17、我喜欢跟踪浏览某些主题的知识资源                                             1598 non-null   int64\n",
      " 14  17、我会主动搜索自己所需要的知识内容                                             1598 non-null   int64\n",
      " 15  17、我一般是看到推送通知才会点进去看                                             1598 non-null   int64\n",
      " 16  18、选择行为—我喜欢选择与时俱进、简单易用的知识内容                                     1598 non-null   int64\n",
      " 17  18、知识资源的正确性、适用性对我的体验影响较大                                        1598 non-null   int64\n",
      " 18  18、我喜欢可以免费获取、访问便捷的知识资源                                          1598 non-null   int64\n",
      " 19  18、获取到符合要求的资源后，我会继续查看更多相关联的知识资源                                 1598 non-null   int64\n",
      " 20  18、获取到符合要求的资源后，我会把他们下载下来，以备后用                                   1598 non-null   int64\n",
      " 21  19、交流行为—我喜欢图书馆的推荐、定制、推送服务                                       1598 non-null   int64\n",
      " 22  19、我喜欢集信息发布、组织与传递多种功能、交流畅通的平台                                   1598 non-null   int64\n",
      " 23  19、如果有问题，我会在线向馆员寻求帮助                                            1598 non-null   int64\n",
      " 24  19、我喜欢利用多种方式（如一对一、群、社区等）来进行交流分享                                 1598 non-null   int64\n",
      " 25  19、我喜欢参加网上用户调查，比如参与一些在线交流反馈活动                                   1598 non-null   int64\n",
      " 26  20、关于利用高校图书馆移动信息平台微知识服务的态度方面：—我认为移动信息平台发布的知识资源内容能够满足我的知识需求      1598 non-null   int64\n",
      " 27  20、我认为移动信息平台知识服务功能是丰富有用的                                        1598 non-null   int64\n",
      " 28  20、我认为移动信息平台知识服务平台是高效易用的                                        1598 non-null   int64\n",
      " 29  20、我认为移动信息平台知识服务界面设计简洁清晰                                        1598 non-null   int64\n",
      " 30  20、我对图书馆微知识服务的整体水平表示满意                                          1598 non-null   int64\n",
      " 31  20、如有需要，我会继续使用图书馆的微知识服务                                         1598 non-null   int64\n",
      " 32  20、我会向周围朋友推荐或宣传图书馆的微知识服务                                        1598 non-null   int64\n",
      " 33  21、感官体验（指在使用图书馆微知识服务过程中视觉、听觉、触觉等感官产生的综合体验与利用需求）                 1598 non-null   int64\n",
      " 34  22、信息利用（指在使用图书馆微知识服务中为解决某个问题或实现某一目标而对知识资源本身和知识服务提供的需求）          1598 non-null   int64\n",
      " 35  23、技术体验（指对图书馆微知识服务平台所使用的服务技术和信息表现形式方面的需求）                       1598 non-null   int64\n",
      " 36  24、情感交互（指在使用图书馆微知识服务过程中产生的情感体验，主要体现在服务方式的人机交互和与他人的交流共享两个方面的需求）  1598 non-null   int64\n",
      " 37  25、自我实现（指在使用图书馆微知识服务中对自我意愿、感受、价值实现方面的评价和需求）                     1598 non-null   int64\n",
      "dtypes: int64(38)\n",
      "memory usage: 474.5 KB\n"
     ]
    }
   ],
   "source": [
    "data.info()"
   ],
   "metadata": {
    "collapsed": false,
    "pycharm": {
     "name": "#%%\n"
    }
   }
  },
  {
   "cell_type": "code",
   "execution_count": 148,
   "outputs": [
    {
     "name": "stdout",
     "output_type": "stream",
     "text": [
      "9812.786089671963 0.0\n",
      "[0.93316671 0.92463303 0.94979584 0.9515943  0.93780771 0.95318541\n",
      " 0.94283983 0.94044597 0.91645882 0.93491065 0.92067323 0.9193295\n",
      " 0.95312288 0.95189984 0.96052766 0.90759489 0.94740355 0.95977668\n",
      " 0.94252267 0.95829548 0.95012927 0.95702833 0.95480073 0.95433284\n",
      " 0.94363159 0.95381336 0.95540575 0.94593361 0.96058123 0.95324892\n",
      " 0.96290764 0.95551522 0.94789996 0.92881601 0.91858597 0.92578245\n",
      " 0.9347081  0.92119878] 0.9442970068397487\n"
     ]
    }
   ],
   "source": [
    "LA_data_final_feat=data\n",
    "# 计算巴特利特P值\n",
    "from factor_analyzer.factor_analyzer import calculate_bartlett_sphericity\n",
    "chi_square_value,p_value=calculate_bartlett_sphericity(LA_data_final_feat.values)\n",
    "print(chi_square_value, p_value )\n",
    "# 计算KMO值\n",
    "from factor_analyzer.factor_analyzer import calculate_kmo\n",
    "kmo_all,kmo_model=calculate_kmo(LA_data_final_feat)\n",
    "print(kmo_all,kmo_model)"
   ],
   "metadata": {
    "collapsed": false,
    "pycharm": {
     "name": "#%%\n"
    }
   }
  },
  {
   "cell_type": "code",
   "execution_count": 149,
   "outputs": [],
   "source": [
    "from factor_analyzer import FactorAnalyzer\n",
    "fa = FactorAnalyzer(LA_data_final_feat.shape[1]+1, rotation=None)\n",
    "fa.fit(LA_data_final_feat)\n",
    "ev, v = fa.get_eigenvalues() # 计算特征值和特征向量\n",
    "var = fa.get_factor_variance()#给出方差贡献率"
   ],
   "metadata": {
    "collapsed": false,
    "pycharm": {
     "name": "#%%\n"
    }
   }
  },
  {
   "cell_type": "code",
   "execution_count": 155,
   "outputs": [
    {
     "data": {
      "text/plain": "(array([2.21893535, 2.11808052, 1.97616007, 1.41621844, 0.99606366]),\n array([0.05839304, 0.05573896, 0.05200421, 0.03726891, 0.0262122 ]),\n array([0.05839304, 0.114132  , 0.16613621, 0.20340512, 0.22961732]))"
     },
     "execution_count": 155,
     "metadata": {},
     "output_type": "execute_result"
    }
   ],
   "source": [
    "fa.get"
   ],
   "metadata": {
    "collapsed": false,
    "pycharm": {
     "name": "#%%\n"
    }
   }
  },
  {
   "cell_type": "code",
   "execution_count": 160,
   "outputs": [],
   "source": [
    "pd.DataFrame(fa.get_communalities()).to_excel(\"data/因子方差.xlsx\",index=False)#方差贡献率"
   ],
   "metadata": {
    "collapsed": false,
    "pycharm": {
     "name": "#%%\n"
    }
   }
  },
  {
   "cell_type": "code",
   "execution_count": 150,
   "outputs": [
    {
     "data": {
      "text/plain": "<Figure size 720x576 with 1 Axes>",
      "image/png": "[encoded data removed]"
     },
     "metadata": {
      "needs_background": "light"
     },
     "output_type": "display_data"
    }
   ],
   "source": [
    "##绘制方差的图\n",
    "plt.figure(figsize=(10,8))\n",
    "plt.plot(ev)\n",
    "plt.title(\"Scree Plot\")\n",
    "plt.xlabel(\"factors\")\n",
    "plt.ylabel(\"eigenvalue\")\n",
    "plt.savefig(\"落石图\",dpi=600)"
   ],
   "metadata": {
    "collapsed": false,
    "pycharm": {
     "name": "#%%\n"
    }
   }
  },
  {
   "cell_type": "code",
   "execution_count": 198,
   "outputs": [
    {
     "data": {
      "text/plain": "                                                           0         1  \\\n14、原则导向—服务指南清晰、界面结构合理                               0.155291  0.186370   \n14、图书馆移动信息平台上发布的知识资源全面丰富、更新及时                       0.183787  0.148795   \n14、图书馆移动信息平台上发布的知识资源获取便捷                            0.212583  0.182948   \n14、我习惯使用图书馆移动信息平台获取知识资源内容                           0.135883  0.264728   \n15、地位导向—我会参加线上知识讲座、网络课程等                            0.156167  0.454922   \n15、图书馆员能够及时回复我的线上咨询                                 0.224842  0.348767   \n15、我通常会对图书馆移动信息平台上发布的知识内容进行评论和点赞                    0.175703  0.417519   \n15、我喜欢对图书馆移动信息平台的知识资源和服务进行转发和分享，与他人互动交流             0.151549  0.404100   \n16、行为导向—我熟悉图书馆移动信息平台微知识服务的各种功能                      0.027453  0.401945   \n16、我可以通过多种设备和渠道利用知识资源和服务                            0.151529  0.330239   \n16、我喜欢参加图书馆的在线抽奖、赠品等激励活动                            0.103114  0.415790   \n16、零碎时间我会利用图书馆移动信息平台上发布的知识资源                        0.064884  0.410693   \n17、查寻行为—我喜欢自由随意地浏览图书馆移动信息平台上发布的知识资源                 0.273023  0.330373   \n17、我喜欢跟踪浏览某些主题的知识资源                                 0.204060  0.322609   \n17、我会主动搜索自己所需要的知识内容                                 0.335335  0.217643   \n17、我一般是看到推送通知才会点进去看                                 0.101165  0.346548   \n18、选择行为—我喜欢选择与时俱进、简单易用的知识内容                         0.393292  0.265089   \n18、知识资源的正确性、适用性对我的体验影响较大                            0.375573  0.189298   \n18、我喜欢可以免费获取、访问便捷的知识资源                              0.433436  0.160932   \n18、获取到符合要求的资源后，我会继续查看更多相关联的知识资源                     0.361076  0.198026   \n18、获取到符合要求的资源后，我会把他们下载下来，以备后用                       0.347427  0.328874   \n19、交流行为—我喜欢图书馆的推荐、定制、推送服务                           0.250717  0.336425   \n19、我喜欢集信息发布、组织与传递多种功能、交流畅通的平台                       0.297734  0.278864   \n19、如果有问题，我会在线向馆员寻求帮助                                0.211528  0.290778   \n19、我喜欢利用多种方式（如一对一、群、社区等）来进行交流分享                     0.191465  0.331516   \n19、我喜欢参加网上用户调查，比如参与一些在线交流反馈活动                       0.171770  0.317340   \n20、关于利用高校图书馆移动信息平台微知识服务的态度方面：—我认为移动信息平台发布的知识资源内...  0.363758  0.257696   \n20、我认为移动信息平台知识服务功能是丰富有用的                            0.322104  0.201374   \n20、我认为移动信息平台知识服务平台是高效易用的                            0.417462  0.225018   \n20、我认为移动信息平台知识服务界面设计简洁清晰                            0.376213  0.198657   \n20、我对图书馆微知识服务的整体水平表示满意                              0.355586  0.210589   \n20、如有需要，我会继续使用图书馆的微知识服务                             0.353256  0.207772   \n20、我会向周围朋友推荐或宣传图书馆的微知识服务                            0.365060  0.274007   \n21、感官体验（指在使用图书馆微知识服务过程中视觉、听觉、触觉等感官产生的综合体验与利用需求）     0.623043  0.086332   \n22、信息利用（指在使用图书馆微知识服务中为解决某个问题或实现某一目标而对知识资源本身和知识服...  0.370936  0.060211   \n23、技术体验（指对图书馆微知识服务平台所使用的服务技术和信息表现形式方面的需求）           0.411061  0.131250   \n24、情感交互（指在使用图书馆微知识服务过程中产生的情感体验，主要体现在服务方式的人机交互和与...  0.552457  0.128018   \n25、自我实现（指在使用图书馆微知识服务中对自我意愿、感受、价值实现方面的评价和需求）         0.396443  0.086083   \n\n                                                           2  \n14、原则导向—服务指南清晰、界面结构合理                               0.381384  \n14、图书馆移动信息平台上发布的知识资源全面丰富、更新及时                       0.404349  \n14、图书馆移动信息平台上发布的知识资源获取便捷                            0.373251  \n14、我习惯使用图书馆移动信息平台获取知识资源内容                           0.268685  \n15、地位导向—我会参加线上知识讲座、网络课程等                            0.036404  \n15、图书馆员能够及时回复我的线上咨询                                 0.188965  \n15、我通常会对图书馆移动信息平台上发布的知识内容进行评论和点赞                    0.086616  \n15、我喜欢对图书馆移动信息平台的知识资源和服务进行转发和分享，与他人互动交流             0.145481  \n16、行为导向—我熟悉图书馆移动信息平台微知识服务的各种功能                      0.196350  \n16、我可以通过多种设备和渠道利用知识资源和服务                            0.179913  \n16、我喜欢参加图书馆的在线抽奖、赠品等激励活动                            0.086796  \n16、零碎时间我会利用图书馆移动信息平台上发布的知识资源                        0.184783  \n17、查寻行为—我喜欢自由随意地浏览图书馆移动信息平台上发布的知识资源                 0.054026  \n17、我喜欢跟踪浏览某些主题的知识资源                                 0.144579  \n17、我会主动搜索自己所需要的知识内容                                 0.151547  \n17、我一般是看到推送通知才会点进去看                                 0.054960  \n18、选择行为—我喜欢选择与时俱进、简单易用的知识内容                         0.099792  \n18、知识资源的正确性、适用性对我的体验影响较大                            0.235522  \n18、我喜欢可以免费获取、访问便捷的知识资源                              0.121747  \n18、获取到符合要求的资源后，我会继续查看更多相关联的知识资源                     0.200792  \n18、获取到符合要求的资源后，我会把他们下载下来，以备后用                       0.032171  \n19、交流行为—我喜欢图书馆的推荐、定制、推送服务                           0.133412  \n19、我喜欢集信息发布、组织与传递多种功能、交流畅通的平台                       0.132491  \n19、如果有问题，我会在线向馆员寻求帮助                                0.164868  \n19、我喜欢利用多种方式（如一对一、群、社区等）来进行交流分享                     0.140771  \n19、我喜欢参加网上用户调查，比如参与一些在线交流反馈活动                       0.173503  \n20、关于利用高校图书馆移动信息平台微知识服务的态度方面：—我认为移动信息平台发布的知识资源内...  0.188267  \n20、我认为移动信息平台知识服务功能是丰富有用的                            0.308541  \n20、我认为移动信息平台知识服务平台是高效易用的                            0.111398  \n20、我认为移动信息平台知识服务界面设计简洁清晰                            0.224812  \n20、我对图书馆微知识服务的整体水平表示满意                              0.209406  \n20、如有需要，我会继续使用图书馆的微知识服务                             0.220135  \n20、我会向周围朋友推荐或宣传图书馆的微知识服务                            0.117691  \n21、感官体验（指在使用图书馆微知识服务过程中视觉、听觉、触觉等感官产生的综合体验与利用需求）     0.048932  \n22、信息利用（指在使用图书馆微知识服务中为解决某个问题或实现某一目标而对知识资源本身和知识服...  0.172199  \n23、技术体验（指对图书馆微知识服务平台所使用的服务技术和信息表现形式方面的需求）           0.075763  \n24、情感交互（指在使用图书馆微知识服务过程中产生的情感体验，主要体现在服务方式的人机交互和与...  0.113480  \n25、自我实现（指在使用图书馆微知识服务中对自我意愿、感受、价值实现方面的评价和需求）         0.138113  ",
      "text/html": "<div>\n<style scoped>\n    .dataframe tbody tr th:only-of-type {\n        vertical-align: middle;\n    }\n\n    .dataframe tbody tr th {\n        vertical-align: top;\n    }\n\n    .dataframe thead th {\n        text-align: right;\n    }\n</style>\n<table border=\"1\" class=\"dataframe\">\n  <thead>\n    <tr style=\"text-align: right;\">\n      <th></th>\n      <th>0</th>\n      <th>1</th>\n      <th>2</th>\n    </tr>\n  </thead>\n  <tbody>\n    <tr>\n      <th>14、原则导向—服务指南清晰、界面结构合理</th>\n      <td>0.155291</td>\n      <td>0.186370</td>\n      <td>0.381384</td>\n    </tr>\n    <tr>\n      <th>14、图书馆移动信息平台上发布的知识资源全面丰富、更新及时</th>\n      <td>0.183787</td>\n      <td>0.148795</td>\n      <td>0.404349</td>\n    </tr>\n    <tr>\n      <th>14、图书馆移动信息平台上发布的知识资源获取便捷</th>\n      <td>0.212583</td>\n      <td>0.182948</td>\n      <td>0.373251</td>\n    </tr>\n    <tr>\n      <th>14、我习惯使用图书馆移动信息平台获取知识资源内容</th>\n      <td>0.135883</td>\n      <td>0.264728</td>\n      <td>0.268685</td>\n    </tr>\n    <tr>\n      <th>15、地位导向—我会参加线上知识讲座、网络课程等</th>\n      <td>0.156167</td>\n      <td>0.454922</td>\n      <td>0.036404</td>\n    </tr>\n    <tr>\n      <th>15、图书馆员能够及时回复我的线上咨询</th>\n      <td>0.224842</td>\n      <td>0.348767</td>\n      <td>0.188965</td>\n    </tr>\n    <tr>\n      <th>15、我通常会对图书馆移动信息平台上发布的知识内容进行评论和点赞</th>\n      <td>0.175703</td>\n      <td>0.417519</td>\n      <td>0.086616</td>\n    </tr>\n    <tr>\n      <th>15、我喜欢对图书馆移动信息平台的知识资源和服务进行转发和分享，与他人互动交流</th>\n      <td>0.151549</td>\n      <td>0.404100</td>\n      <td>0.145481</td>\n    </tr>\n    <tr>\n      <th>16、行为导向—我熟悉图书馆移动信息平台微知识服务的各种功能</th>\n      <td>0.027453</td>\n      <td>0.401945</td>\n      <td>0.196350</td>\n    </tr>\n    <tr>\n      <th>16、我可以通过多种设备和渠道利用知识资源和服务</th>\n      <td>0.151529</td>\n      <td>0.330239</td>\n      <td>0.179913</td>\n    </tr>\n    <tr>\n      <th>16、我喜欢参加图书馆的在线抽奖、赠品等激励活动</th>\n      <td>0.103114</td>\n      <td>0.415790</td>\n      <td>0.086796</td>\n    </tr>\n    <tr>\n      <th>16、零碎时间我会利用图书馆移动信息平台上发布的知识资源</th>\n      <td>0.064884</td>\n      <td>0.410693</td>\n      <td>0.184783</td>\n    </tr>\n    <tr>\n      <th>17、查寻行为—我喜欢自由随意地浏览图书馆移动信息平台上发布的知识资源</th>\n      <td>0.273023</td>\n      <td>0.330373</td>\n      <td>0.054026</td>\n    </tr>\n    <tr>\n      <th>17、我喜欢跟踪浏览某些主题的知识资源</th>\n      <td>0.204060</td>\n      <td>0.322609</td>\n      <td>0.144579</td>\n    </tr>\n    <tr>\n      <th>17、我会主动搜索自己所需要的知识内容</th>\n      <td>0.335335</td>\n      <td>0.217643</td>\n      <td>0.151547</td>\n    </tr>\n    <tr>\n      <th>17、我一般是看到推送通知才会点进去看</th>\n      <td>0.101165</td>\n      <td>0.346548</td>\n      <td>0.054960</td>\n    </tr>\n    <tr>\n      <th>18、选择行为—我喜欢选择与时俱进、简单易用的知识内容</th>\n      <td>0.393292</td>\n      <td>0.265089</td>\n      <td>0.099792</td>\n    </tr>\n    <tr>\n      <th>18、知识资源的正确性、适用性对我的体验影响较大</th>\n      <td>0.375573</td>\n      <td>0.189298</td>\n      <td>0.235522</td>\n    </tr>\n    <tr>\n      <th>18、我喜欢可以免费获取、访问便捷的知识资源</th>\n      <td>0.433436</td>\n      <td>0.160932</td>\n      <td>0.121747</td>\n    </tr>\n    <tr>\n      <th>18、获取到符合要求的资源后，我会继续查看更多相关联的知识资源</th>\n      <td>0.361076</td>\n      <td>0.198026</td>\n      <td>0.200792</td>\n    </tr>\n    <tr>\n      <th>18、获取到符合要求的资源后，我会把他们下载下来，以备后用</th>\n      <td>0.347427</td>\n      <td>0.328874</td>\n      <td>0.032171</td>\n    </tr>\n    <tr>\n      <th>19、交流行为—我喜欢图书馆的推荐、定制、推送服务</th>\n      <td>0.250717</td>\n      <td>0.336425</td>\n      <td>0.133412</td>\n    </tr>\n    <tr>\n      <th>19、我喜欢集信息发布、组织与传递多种功能、交流畅通的平台</th>\n      <td>0.297734</td>\n      <td>0.278864</td>\n      <td>0.132491</td>\n    </tr>\n    <tr>\n      <th>19、如果有问题，我会在线向馆员寻求帮助</th>\n      <td>0.211528</td>\n      <td>0.290778</td>\n      <td>0.164868</td>\n    </tr>\n    <tr>\n      <th>19、我喜欢利用多种方式（如一对一、群、社区等）来进行交流分享</th>\n      <td>0.191465</td>\n      <td>0.331516</td>\n      <td>0.140771</td>\n    </tr>\n    <tr>\n      <th>19、我喜欢参加网上用户调查，比如参与一些在线交流反馈活动</th>\n      <td>0.171770</td>\n      <td>0.317340</td>\n      <td>0.173503</td>\n    </tr>\n    <tr>\n      <th>20、关于利用高校图书馆移动信息平台微知识服务的态度方面：—我认为移动信息平台发布的知识资源内容能够满足我的知识需求</th>\n      <td>0.363758</td>\n      <td>0.257696</td>\n      <td>0.188267</td>\n    </tr>\n    <tr>\n      <th>20、我认为移动信息平台知识服务功能是丰富有用的</th>\n      <td>0.322104</td>\n      <td>0.201374</td>\n      <td>0.308541</td>\n    </tr>\n    <tr>\n      <th>20、我认为移动信息平台知识服务平台是高效易用的</th>\n      <td>0.417462</td>\n      <td>0.225018</td>\n      <td>0.111398</td>\n    </tr>\n    <tr>\n      <th>20、我认为移动信息平台知识服务界面设计简洁清晰</th>\n      <td>0.376213</td>\n      <td>0.198657</td>\n      <td>0.224812</td>\n    </tr>\n    <tr>\n      <th>20、我对图书馆微知识服务的整体水平表示满意</th>\n      <td>0.355586</td>\n      <td>0.210589</td>\n      <td>0.209406</td>\n    </tr>\n    <tr>\n      <th>20、如有需要，我会继续使用图书馆的微知识服务</th>\n      <td>0.353256</td>\n      <td>0.207772</td>\n      <td>0.220135</td>\n    </tr>\n    <tr>\n      <th>20、我会向周围朋友推荐或宣传图书馆的微知识服务</th>\n      <td>0.365060</td>\n      <td>0.274007</td>\n      <td>0.117691</td>\n    </tr>\n    <tr>\n      <th>21、感官体验（指在使用图书馆微知识服务过程中视觉、听觉、触觉等感官产生的综合体验与利用需求）</th>\n      <td>0.623043</td>\n      <td>0.086332</td>\n      <td>0.048932</td>\n    </tr>\n    <tr>\n      <th>22、信息利用（指在使用图书馆微知识服务中为解决某个问题或实现某一目标而对知识资源本身和知识服务提供的需求）</th>\n      <td>0.370936</td>\n      <td>0.060211</td>\n      <td>0.172199</td>\n    </tr>\n    <tr>\n      <th>23、技术体验（指对图书馆微知识服务平台所使用的服务技术和信息表现形式方面的需求）</th>\n      <td>0.411061</td>\n      <td>0.131250</td>\n      <td>0.075763</td>\n    </tr>\n    <tr>\n      <th>24、情感交互（指在使用图书馆微知识服务过程中产生的情感体验，主要体现在服务方式的人机交互和与他人的交流共享两个方面的需求）</th>\n      <td>0.552457</td>\n      <td>0.128018</td>\n      <td>0.113480</td>\n    </tr>\n    <tr>\n      <th>25、自我实现（指在使用图书馆微知识服务中对自我意愿、感受、价值实现方面的评价和需求）</th>\n      <td>0.396443</td>\n      <td>0.086083</td>\n      <td>0.138113</td>\n    </tr>\n  </tbody>\n</table>\n</div>"
     },
     "execution_count": 198,
     "metadata": {},
     "output_type": "execute_result"
    }
   ],
   "source": [
    "fa = FactorAnalyzer( rotation=\"varimax\")\n",
    "fa.fit(LA_data_final_feat)\n",
    "# 输出载荷矩阵\n",
    "df_loading = pd.DataFrame(fa.loadings_,index=LA_data_final_feat.columns.tolist())\n",
    "df_loading"
   ],
   "metadata": {
    "collapsed": false,
    "pycharm": {
     "name": "#%%\n"
    }
   }
  },
  {
   "cell_type": "code",
   "source": [
    "df_loading=df_loading.apply(sum,1)"
   ],
   "metadata": {
    "collapsed": false,
    "pycharm": {
     "name": "#%%\n"
    }
   },
   "execution_count": 199,
   "outputs": []
  },
  {
   "cell_type": "code",
   "execution_count": 202,
   "outputs": [],
   "source": [
    "df_loading=pd.DataFrame(df_loading)"
   ],
   "metadata": {
    "collapsed": false,
    "pycharm": {
     "name": "#%%\n"
    }
   }
  },
  {
   "cell_type": "code",
   "execution_count": 203,
   "outputs": [
    {
     "data": {
      "text/plain": "                                                           0  分类\n14、原则导向—服务指南清晰、界面结构合理                               0.723045  14\n14、图书馆移动信息平台上发布的知识资源全面丰富、更新及时                       0.736931  14\n14、图书馆移动信息平台上发布的知识资源获取便捷                            0.768781  14\n14、我习惯使用图书馆移动信息平台获取知识资源内容                           0.669296  14\n15、地位导向—我会参加线上知识讲座、网络课程等                            0.647493  15\n15、图书馆员能够及时回复我的线上咨询                                 0.762573  15\n15、我通常会对图书馆移动信息平台上发布的知识内容进行评论和点赞                    0.679838  15\n15、我喜欢对图书馆移动信息平台的知识资源和服务进行转发和分享，与他人互动交流             0.701130  15\n16、行为导向—我熟悉图书馆移动信息平台微知识服务的各种功能                      0.625748  16\n16、我可以通过多种设备和渠道利用知识资源和服务                            0.661681  16\n16、我喜欢参加图书馆的在线抽奖、赠品等激励活动                            0.605700  16\n16、零碎时间我会利用图书馆移动信息平台上发布的知识资源                        0.660360  16\n17、查寻行为—我喜欢自由随意地浏览图书馆移动信息平台上发布的知识资源                 0.657422  17\n17、我喜欢跟踪浏览某些主题的知识资源                                 0.671248  17\n17、我会主动搜索自己所需要的知识内容                                 0.704525  17\n17、我一般是看到推送通知才会点进去看                                 0.502672  17\n18、选择行为—我喜欢选择与时俱进、简单易用的知识内容                         0.758173  18\n18、知识资源的正确性、适用性对我的体验影响较大                            0.800393  18\n18、我喜欢可以免费获取、访问便捷的知识资源                              0.716115  18\n18、获取到符合要求的资源后，我会继续查看更多相关联的知识资源                     0.759894  18\n18、获取到符合要求的资源后，我会把他们下载下来，以备后用                       0.708471  18\n19、交流行为—我喜欢图书馆的推荐、定制、推送服务                           0.720554  19\n19、我喜欢集信息发布、组织与传递多种功能、交流畅通的平台                       0.709089  19\n19、如果有问题，我会在线向馆员寻求帮助                                0.667174  19\n19、我喜欢利用多种方式（如一对一、群、社区等）来进行交流分享                     0.663751  19\n19、我喜欢参加网上用户调查，比如参与一些在线交流反馈活动                       0.662613  19\n20、关于利用高校图书馆移动信息平台微知识服务的态度方面：—我认为移动信息平台发布的知识资源内...  0.809722  20\n20、我认为移动信息平台知识服务功能是丰富有用的                            0.832020  20\n20、我认为移动信息平台知识服务平台是高效易用的                            0.753879  20\n20、我认为移动信息平台知识服务界面设计简洁清晰                            0.799682  20\n20、我对图书馆微知识服务的整体水平表示满意                              0.775581  20\n20、如有需要，我会继续使用图书馆的微知识服务                             0.781164  20\n20、我会向周围朋友推荐或宣传图书馆的微知识服务                            0.756759  20\n21、感官体验（指在使用图书馆微知识服务过程中视觉、听觉、触觉等感官产生的综合体验与利用需求）     0.758306  21\n22、信息利用（指在使用图书馆微知识服务中为解决某个问题或实现某一目标而对知识资源本身和知识服...  0.603346  22\n23、技术体验（指对图书馆微知识服务平台所使用的服务技术和信息表现形式方面的需求）           0.618074  23\n24、情感交互（指在使用图书馆微知识服务过程中产生的情感体验，主要体现在服务方式的人机交互和与...  0.793955  24\n25、自我实现（指在使用图书馆微知识服务中对自我意愿、感受、价值实现方面的评价和需求）         0.620639  25",
      "text/html": "<div>\n<style scoped>\n    .dataframe tbody tr th:only-of-type {\n        vertical-align: middle;\n    }\n\n    .dataframe tbody tr th {\n        vertical-align: top;\n    }\n\n    .dataframe thead th {\n        text-align: right;\n    }\n</style>\n<table border=\"1\" class=\"dataframe\">\n  <thead>\n    <tr style=\"text-align: right;\">\n      <th></th>\n      <th>0</th>\n      <th>分类</th>\n    </tr>\n  </thead>\n  <tbody>\n    <tr>\n      <th>14、原则导向—服务指南清晰、界面结构合理</th>\n      <td>0.723045</td>\n      <td>14</td>\n    </tr>\n    <tr>\n      <th>14、图书馆移动信息平台上发布的知识资源全面丰富、更新及时</th>\n      <td>0.736931</td>\n      <td>14</td>\n    </tr>\n    <tr>\n      <th>14、图书馆移动信息平台上发布的知识资源获取便捷</th>\n      <td>0.768781</td>\n      <td>14</td>\n    </tr>\n    <tr>\n      <th>14、我习惯使用图书馆移动信息平台获取知识资源内容</th>\n      <td>0.669296</td>\n      <td>14</td>\n    </tr>\n    <tr>\n      <th>15、地位导向—我会参加线上知识讲座、网络课程等</th>\n      <td>0.647493</td>\n      <td>15</td>\n    </tr>\n    <tr>\n      <th>15、图书馆员能够及时回复我的线上咨询</th>\n      <td>0.762573</td>\n      <td>15</td>\n    </tr>\n    <tr>\n      <th>15、我通常会对图书馆移动信息平台上发布的知识内容进行评论和点赞</th>\n      <td>0.679838</td>\n      <td>15</td>\n    </tr>\n    <tr>\n      <th>15、我喜欢对图书馆移动信息平台的知识资源和服务进行转发和分享，与他人互动交流</th>\n      <td>0.701130</td>\n      <td>15</td>\n    </tr>\n    <tr>\n      <th>16、行为导向—我熟悉图书馆移动信息平台微知识服务的各种功能</th>\n      <td>0.625748</td>\n      <td>16</td>\n    </tr>\n    <tr>\n      <th>16、我可以通过多种设备和渠道利用知识资源和服务</th>\n      <td>0.661681</td>\n      <td>16</td>\n    </tr>\n    <tr>\n      <th>16、我喜欢参加图书馆的在线抽奖、赠品等激励活动</th>\n      <td>0.605700</td>\n      <td>16</td>\n    </tr>\n    <tr>\n      <th>16、零碎时间我会利用图书馆移动信息平台上发布的知识资源</th>\n      <td>0.660360</td>\n      <td>16</td>\n    </tr>\n    <tr>\n      <th>17、查寻行为—我喜欢自由随意地浏览图书馆移动信息平台上发布的知识资源</th>\n      <td>0.657422</td>\n      <td>17</td>\n    </tr>\n    <tr>\n      <th>17、我喜欢跟踪浏览某些主题的知识资源</th>\n      <td>0.671248</td>\n      <td>17</td>\n    </tr>\n    <tr>\n      <th>17、我会主动搜索自己所需要的知识内容</th>\n      <td>0.704525</td>\n      <td>17</td>\n    </tr>\n    <tr>\n      <th>17、我一般是看到推送通知才会点进去看</th>\n      <td>0.502672</td>\n      <td>17</td>\n    </tr>\n    <tr>\n      <th>18、选择行为—我喜欢选择与时俱进、简单易用的知识内容</th>\n      <td>0.758173</td>\n      <td>18</td>\n    </tr>\n    <tr>\n      <th>18、知识资源的正确性、适用性对我的体验影响较大</th>\n      <td>0.800393</td>\n      <td>18</td>\n    </tr>\n    <tr>\n      <th>18、我喜欢可以免费获取、访问便捷的知识资源</th>\n      <td>0.716115</td>\n      <td>18</td>\n    </tr>\n    <tr>\n      <th>18、获取到符合要求的资源后，我会继续查看更多相关联的知识资源</th>\n      <td>0.759894</td>\n      <td>18</td>\n    </tr>\n    <tr>\n      <th>18、获取到符合要求的资源后，我会把他们下载下来，以备后用</th>\n      <td>0.708471</td>\n      <td>18</td>\n    </tr>\n    <tr>\n      <th>19、交流行为—我喜欢图书馆的推荐、定制、推送服务</th>\n      <td>0.720554</td>\n      <td>19</td>\n    </tr>\n    <tr>\n      <th>19、我喜欢集信息发布、组织与传递多种功能、交流畅通的平台</th>\n      <td>0.709089</td>\n      <td>19</td>\n    </tr>\n    <tr>\n      <th>19、如果有问题，我会在线向馆员寻求帮助</th>\n      <td>0.667174</td>\n      <td>19</td>\n    </tr>\n    <tr>\n      <th>19、我喜欢利用多种方式（如一对一、群、社区等）来进行交流分享</th>\n      <td>0.663751</td>\n      <td>19</td>\n    </tr>\n    <tr>\n      <th>19、我喜欢参加网上用户调查，比如参与一些在线交流反馈活动</th>\n      <td>0.662613</td>\n      <td>19</td>\n    </tr>\n    <tr>\n      <th>20、关于利用高校图书馆移动信息平台微知识服务的态度方面：—我认为移动信息平台发布的知识资源内容能够满足我的知识需求</th>\n      <td>0.809722</td>\n      <td>20</td>\n    </tr>\n    <tr>\n      <th>20、我认为移动信息平台知识服务功能是丰富有用的</th>\n      <td>0.832020</td>\n      <td>20</td>\n    </tr>\n    <tr>\n      <th>20、我认为移动信息平台知识服务平台是高效易用的</th>\n      <td>0.753879</td>\n      <td>20</td>\n    </tr>\n    <tr>\n      <th>20、我认为移动信息平台知识服务界面设计简洁清晰</th>\n      <td>0.799682</td>\n      <td>20</td>\n    </tr>\n    <tr>\n      <th>20、我对图书馆微知识服务的整体水平表示满意</th>\n      <td>0.775581</td>\n      <td>20</td>\n    </tr>\n    <tr>\n      <th>20、如有需要，我会继续使用图书馆的微知识服务</th>\n      <td>0.781164</td>\n      <td>20</td>\n    </tr>\n    <tr>\n      <th>20、我会向周围朋友推荐或宣传图书馆的微知识服务</th>\n      <td>0.756759</td>\n      <td>20</td>\n    </tr>\n    <tr>\n      <th>21、感官体验（指在使用图书馆微知识服务过程中视觉、听觉、触觉等感官产生的综合体验与利用需求）</th>\n      <td>0.758306</td>\n      <td>21</td>\n    </tr>\n    <tr>\n      <th>22、信息利用（指在使用图书馆微知识服务中为解决某个问题或实现某一目标而对知识资源本身和知识服务提供的需求）</th>\n      <td>0.603346</td>\n      <td>22</td>\n    </tr>\n    <tr>\n      <th>23、技术体验（指对图书馆微知识服务平台所使用的服务技术和信息表现形式方面的需求）</th>\n      <td>0.618074</td>\n      <td>23</td>\n    </tr>\n    <tr>\n      <th>24、情感交互（指在使用图书馆微知识服务过程中产生的情感体验，主要体现在服务方式的人机交互和与他人的交流共享两个方面的需求）</th>\n      <td>0.793955</td>\n      <td>24</td>\n    </tr>\n    <tr>\n      <th>25、自我实现（指在使用图书馆微知识服务中对自我意愿、感受、价值实现方面的评价和需求）</th>\n      <td>0.620639</td>\n      <td>25</td>\n    </tr>\n  </tbody>\n</table>\n</div>"
     },
     "execution_count": 203,
     "metadata": {},
     "output_type": "execute_result"
    }
   ],
   "source": [
    "df_loading[\"分类\"]=list(df_loading.index.map(lambda s:s[:2]))\n",
    "df_loading"
   ],
   "metadata": {
    "collapsed": false,
    "pycharm": {
     "name": "#%%\n"
    }
   }
  },
  {
   "cell_type": "code",
   "execution_count": 204,
   "outputs": [],
   "source": [
    "def AVE(x):\n",
    "    x=np.array(x)\n",
    "    ave=sum(x**2)/len(x)\n",
    "    return ave\n",
    "def CR(x):\n",
    "    x=np.array(x)\n",
    "    CR=sum(x**2)/(sum(x**2)+np.var(x))\n",
    "    return CR"
   ],
   "metadata": {
    "collapsed": false,
    "pycharm": {
     "name": "#%%\n"
    }
   }
  },
  {
   "cell_type": "code",
   "execution_count": 210,
   "outputs": [],
   "source": [
    "pd.DataFrame(df_loading.groupby(\"分类\").agg(AVE)).to_excel(\"data/AVE.xlsx\")"
   ],
   "metadata": {
    "collapsed": false,
    "pycharm": {
     "name": "#%%\n"
    }
   }
  },
  {
   "cell_type": "code",
   "execution_count": 211,
   "outputs": [],
   "source": [
    "pd.DataFrame(df_loading.groupby(\"分类\").agg(CR)).to_excel(\"data/CR.xlsx\")"
   ],
   "metadata": {
    "collapsed": false,
    "pycharm": {
     "name": "#%%\n"
    }
   }
  },
  {
   "cell_type": "code",
   "execution_count": 212,
   "outputs": [],
   "source": [
    "df_loading.to_excel(\"data/载荷矩阵.xlsx\",index=False)"
   ],
   "metadata": {
    "collapsed": false,
    "pycharm": {
     "name": "#%%\n"
    }
   }
  },
  {
   "cell_type": "code",
   "execution_count": 180,
   "outputs": [],
   "source": [
    "data.to_csv(\"./data/量表数据.csv\",index=False,encoding=\"utf-8\")"
   ],
   "metadata": {
    "collapsed": false,
    "pycharm": {
     "name": "#%%\n"
    }
   }
  },
  {
   "cell_type": "markdown",
   "source": [
    "### 聚类下的方差分析 用spss做"
   ],
   "metadata": {
    "collapsed": false,
    "pycharm": {
     "name": "#%% md\n"
    }
   }
  },
  {
   "cell_type": "markdown",
   "source": [
    "### 多元回归"
   ],
   "metadata": {
    "collapsed": false,
    "pycharm": {
     "name": "#%% md\n"
    }
   }
  },
  {
   "cell_type": "code",
   "execution_count": 241,
   "outputs": [],
   "source": [
    "df_class=pd.read_excel(\"data/输出1doc.xls\",header=0)"
   ],
   "metadata": {
    "collapsed": false,
    "pycharm": {
     "name": "#%%\n"
    }
   }
  },
  {
   "cell_type": "code",
   "execution_count": 263,
   "outputs": [
    {
     "data": {
      "text/plain": "        序号              提交答卷时间  所用时间  来源 来源详情                    来自IP  \\\n0        1   2022/3/16 9:54:42  354秒  微信  NaN    106.17.228.95(湖南-长沙)   \n1        2  2022/3/16 10:04:04  984秒  微信  NaN   222.178.202.82(重庆-重庆)   \n2        3  2022/3/16 16:25:57  364秒  微信  NaN  117.136.105.148(河南-安阳)   \n3        4  2022/3/22 17:22:41  304秒  微信  NaN    106.84.183.60(重庆-重庆)   \n4        5  2022/3/22 17:31:56   89秒  微信  NaN    39.144.218.69(重庆-重庆)   \n...    ...                 ...   ...  ..  ...                     ...   \n1593  1645  2022/3/28 11:24:53  253秒  微信  NaN  140.250.147.193(山东-济南)   \n1594  1646  2022/3/28 11:24:59  321秒  微信  NaN   180.114.151.13(江苏-无锡)   \n1595  1647  2022/3/28 11:25:06  251秒  微信  NaN    218.93.63.141(江苏-常州)   \n1596  1648  2022/3/28 11:25:17  302秒  微信  NaN     123.96.30.25(浙江-舟山)   \n1597  1649  2022/3/29 16:09:42  125秒  微信  NaN   125.84.249.199(重庆-重庆)   \n\n     1、您的性别是： 2、您的年龄是： 3、您在学校里的身份是： 4、您的受教育程度是：  ...  \\\n0           女   20-30岁           学生       硕士研究生  ...   \n1           女   20-30岁       专业技术人员       硕士研究生  ...   \n2           女   20-30岁           学生       硕士研究生  ...   \n3           男   41-50岁       行政管理人员         本科生  ...   \n4           女    20岁以下           学生         本科生  ...   \n...       ...      ...          ...         ...  ...   \n1593        女   20-30岁           学生       博士研究生  ...   \n1594        男   20-30岁           学生       博士研究生  ...   \n1595        女   20-30岁           学生       硕士研究生  ...   \n1596        女   20-30岁           学生       博士研究生  ...   \n1597        男   20-30岁           学生         本科生  ...   \n\n     23、技术体验（指对图书馆微知识服务平台所使用的服务技术和信息表现形式方面的需求）  \\\n0                                         非常重要   \n1                                            7   \n2                                            8   \n3                                            7   \n4                                            7   \n...                                        ...   \n1593                                         6   \n1594                                         8   \n1595                                         9   \n1596                                         8   \n1597                                      非常重要   \n\n     24、情感交互（指在使用图书馆微知识服务过程中产生的情感体验，主要体现在服务方式的人机交互和与他人的交流共享两个方面的需求）  \\\n0                                                  非常重要               \n1                                                     7               \n2                                                     5               \n3                                                     7               \n4                                                     7               \n...                                                 ...               \n1593                                                  7               \n1594                                                  4               \n1595                                                  7               \n1596                                                  9               \n1597                                               非常重要               \n\n     25、自我实现（指在使用图书馆微知识服务中对自我意愿、感受、价值实现方面的评价和需求）  \\\n0                                           非常重要   \n1                                              7   \n2                                              7   \n3                                              7   \n4                                              8   \n...                                          ...   \n1593                                           7   \n1594                                           8   \n1595                                           7   \n1596                                           8   \n1597                                        非常重要   \n\n                   26、在“感官体验”方面，请根据您的实际情况将以下需求按重要程度进行排序  \\\n0     视觉（界面元素及呈现形态，如微平台的LOGO、设计风格、页面大小、布局、色彩、文字、图片、图...   \n1     视觉（界面元素及呈现形态，如微平台的LOGO、设计风格、页面大小、布局、色彩、文字、图片、图...   \n2     视觉（界面元素及呈现形态，如微平台的LOGO、设计风格、页面大小、布局、色彩、文字、图片、图...   \n3     视觉（界面元素及呈现形态，如微平台的LOGO、设计风格、页面大小、布局、色彩、文字、图片、图...   \n4     视觉（界面元素及呈现形态，如微平台的LOGO、设计风格、页面大小、布局、色彩、文字、图片、图...   \n...                                                 ...   \n1593  视觉（界面元素及呈现形态，如微平台的LOGO、设计风格、页面大小、布局、色彩、文字、图片、图...   \n1594  视觉（界面元素及呈现形态，如微平台的LOGO、设计风格、页面大小、布局、色彩、文字、图片、图...   \n1595  视觉（界面元素及呈现形态，如微平台的LOGO、设计风格、页面大小、布局、色彩、文字、图片、图...   \n1596  视觉（界面元素及呈现形态，如微平台的LOGO、设计风格、页面大小、布局、色彩、文字、图片、图...   \n1597  视觉（界面元素及呈现形态，如微平台的LOGO、设计风格、页面大小、布局、色彩、文字、图片、图...   \n\n                   27、在“信息利用”方面，请根据您的实际情况将以下需求按重要程度进行排序  \\\n0     知识内容（如微知识资源数量丰富、种类齐全、内容完整、真实可靠、价值大、与需求目的密切相关）→...   \n1     知识内容（如微知识资源数量丰富、种类齐全、内容完整、真实可靠、价值大、与需求目的密切相关）→...   \n2     知识内容（如微知识资源数量丰富、种类齐全、内容完整、真实可靠、价值大、与需求目的密切相关）→...   \n3     平台功能（如平台提供用户查询、搜索、利用等多种引导信息和功能）→知识内容（如微知识资源数量丰...   \n4     知识内容（如微知识资源数量丰富、种类齐全、内容完整、真实可靠、价值大、与需求目的密切相关）→...   \n...                                                 ...   \n1593  知识内容（如微知识资源数量丰富、种类齐全、内容完整、真实可靠、价值大、与需求目的密切相关）→...   \n1594  知识内容（如微知识资源数量丰富、种类齐全、内容完整、真实可靠、价值大、与需求目的密切相关）→...   \n1595  知识内容（如微知识资源数量丰富、种类齐全、内容完整、真实可靠、价值大、与需求目的密切相关）→...   \n1596  知识内容（如微知识资源数量丰富、种类齐全、内容完整、真实可靠、价值大、与需求目的密切相关）→...   \n1597  知识内容（如微知识资源数量丰富、种类齐全、内容完整、真实可靠、价值大、与需求目的密切相关）→...   \n\n                   28、在“技术体验”方面，请根据您的实际情况将以下需求按重要程度进行排序  \\\n0     使用与交互方式（使用与交互操作简便，难度较低，简单有效，能方便地进行信息利用和交流互动）→信...   \n1     栏目设置（能直接体现出微服务平台的功能和作用，目录清晰明了）→使用与交互方式（使用与交互操作...   \n2     信息的展现形式（信息能以方便理解、易于辨识的方式展现出来，并能与多种终端设备兼容）→使用与交...   \n3     使用与交互方式（使用与交互操作简便，难度较低，简单有效，能方便地进行信息利用和交流互动）→栏...   \n4     使用与交互方式（使用与交互操作简便，难度较低，简单有效，能方便地进行信息利用和交流互动）→栏...   \n...                                                 ...   \n1593  网络链接稳定性（网络链接快速且稳定）→更新和推送频率（提供的信息量适度、频率适中，发布的时间...   \n1594  栏目设置（能直接体现出微服务平台的功能和作用，目录清晰明了）→网络链接稳定性（网络链接快速且...   \n1595  网络链接稳定性（网络链接快速且稳定）→更新和推送频率（提供的信息量适度、频率适中，发布的时间...   \n1596  网络链接稳定性（网络链接快速且稳定）→更新和推送频率（提供的信息量适度、频率适中，发布的时间...   \n1597  栏目设置（能直接体现出微服务平台的功能和作用，目录清晰明了）→使用与交互方式（使用与交互操作...   \n\n                   29、在“情感交互”方面，请根据您的实际情况将以下需求按重要程度进行排序  \\\n0     与他人交流共享（如转发、分享、与他人交流、用户社区、好友共享）→人机交互（如在线咨询、人工应...   \n1     与他人交流共享（如转发、分享、与他人交流、用户社区、好友共享）→人机交互（如在线咨询、人工应...   \n2     人机交互（如在线咨询、人工应答、帮助中心、会员服务、评论反馈）→与他人交流共享（如转发、分享...   \n3     人机交互（如在线咨询、人工应答、帮助中心、会员服务、评论反馈）→与他人交流共享（如转发、分享...   \n4     人机交互（如在线咨询、人工应答、帮助中心、会员服务、评论反馈）→与他人交流共享（如转发、分享...   \n...                                                 ...   \n1593  人机交互（如在线咨询、人工应答、帮助中心、会员服务、评论反馈）→与他人交流共享（如转发、分享...   \n1594  人机交互（如在线咨询、人工应答、帮助中心、会员服务、评论反馈）→与他人交流共享（如转发、分享...   \n1595  人机交互（如在线咨询、人工应答、帮助中心、会员服务、评论反馈）→与他人交流共享（如转发、分享...   \n1596  人机交互（如在线咨询、人工应答、帮助中心、会员服务、评论反馈）→与他人交流共享（如转发、分享...   \n1597  与他人交流共享（如转发、分享、与他人交流、用户社区、好友共享）→人机交互（如在线咨询、人工应...   \n\n         30、在与图书馆微知识服务平台交互过程中，请根据您的实际情况将以下情感需求按重要程度进行排序  \\\n0     希望图书馆微知识服务系统是灵活自由便于操作的→希望体验图书馆微知识服务的过程是轻松快乐的→相...   \n1     希望图书馆微知识服务平台能够提供个性化服务→相信使用图书馆微知识服务对个人隐私是安全的→希望...   \n2     相信使用图书馆微知识服务对个人隐私是安全的→希望图书馆微知识服务系统是灵活自由便于操作的→希...   \n3     希望图书馆微知识服务系统是灵活自由便于操作的→希望体验图书馆微知识服务的过程是轻松快乐的→希...   \n4     希望图书馆微知识服务平台能够提供个性化服务→希望图书馆微知识服务系统是灵活自由便于操作的→希...   \n...                                                 ...   \n1593                                               (跳过)   \n1594                                               (跳过)   \n1595                                               (跳过)   \n1596                                               (跳过)   \n1597  希望体验图书馆微知识服务的过程是轻松快乐的→希望图书馆微知识服务系统是灵活自由便于操作的→相...   \n\n                   31、在“自我实现”方面，请根据您的实际情况将以下需求按重要程度进行排序   总分  \n0     希望自己的意愿能够在微平台上得到充分的表达、需求得到有效的满足、意见得到重视和及时反馈→希望...  243  \n1     希望自己的意愿能够在微平台上得到充分的表达、需求得到有效的满足、意见得到重视和及时反馈→希望...  208  \n2     希望自己的意愿能够在微平台上得到充分的表达、需求得到有效的满足、意见得到重视和及时反馈→希望...  207  \n3     希望自己的意愿能够在微平台上得到充分的表达、需求得到有效的满足、意见得到重视和及时反馈→希望...  191  \n4     希望通过转发、分享、点赞、评论、交流等得到他人的关注或认同，从而提高自己的存在感、融入感与成...  200  \n...                                                 ...  ...  \n1593  希望自己的意愿能够在微平台上得到充分的表达、需求得到有效的满足、意见得到重视和及时反馈→希望...  211  \n1594  希望在参与服务或活动过程中发挥自己的潜能和价值，进而满足自我价值实现的需求→希望通过转发、分...  191  \n1595  希望自己的意愿能够在微平台上得到充分的表达、需求得到有效的满足、意见得到重视和及时反馈→希望...  193  \n1596  希望自己的意愿能够在微平台上得到充分的表达、需求得到有效的满足、意见得到重视和及时反馈→希望...  196  \n1597  希望自己的意愿能够在微平台上得到充分的表达、需求得到有效的满足、意见得到重视和及时反馈→希望...  281  \n\n[1598 rows x 64 columns]",
      "text/html": "<div>\n<style scoped>\n    .dataframe tbody tr th:only-of-type {\n        vertical-align: middle;\n    }\n\n    .dataframe tbody tr th {\n        vertical-align: top;\n    }\n\n    .dataframe thead th {\n        text-align: right;\n    }\n</style>\n<table border=\"1\" class=\"dataframe\">\n  <thead>\n    <tr style=\"text-align: right;\">\n      <th></th>\n      <th>序号</th>\n      <th>提交答卷时间</th>\n      <th>所用时间</th>\n      <th>来源</th>\n      <th>来源详情</th>\n      <th>来自IP</th>\n      <th>1、您的性别是：</th>\n      <th>2、您的年龄是：</th>\n      <th>3、您在学校里的身份是：</th>\n      <th>4、您的受教育程度是：</th>\n      <th>...</th>\n      <th>23、技术体验（指对图书馆微知识服务平台所使用的服务技术和信息表现形式方面的需求）</th>\n      <th>24、情感交互（指在使用图书馆微知识服务过程中产生的情感体验，主要体现在服务方式的人机交互和与他人的交流共享两个方面的需求）</th>\n      <th>25、自我实现（指在使用图书馆微知识服务中对自我意愿、感受、价值实现方面的评价和需求）</th>\n      <th>26、在“感官体验”方面，请根据您的实际情况将以下需求按重要程度进行排序</th>\n      <th>27、在“信息利用”方面，请根据您的实际情况将以下需求按重要程度进行排序</th>\n      <th>28、在“技术体验”方面，请根据您的实际情况将以下需求按重要程度进行排序</th>\n      <th>29、在“情感交互”方面，请根据您的实际情况将以下需求按重要程度进行排序</th>\n      <th>30、在与图书馆微知识服务平台交互过程中，请根据您的实际情况将以下情感需求按重要程度进行排序</th>\n      <th>31、在“自我实现”方面，请根据您的实际情况将以下需求按重要程度进行排序</th>\n      <th>总分</th>\n    </tr>\n  </thead>\n  <tbody>\n    <tr>\n      <th>0</th>\n      <td>1</td>\n      <td>2022/3/16 9:54:42</td>\n      <td>354秒</td>\n      <td>微信</td>\n      <td>NaN</td>\n      <td>106.17.228.95(湖南-长沙)</td>\n      <td>女</td>\n      <td>20-30岁</td>\n      <td>学生</td>\n      <td>硕士研究生</td>\n      <td>...</td>\n      <td>非常重要</td>\n      <td>非常重要</td>\n      <td>非常重要</td>\n      <td>视觉（界面元素及呈现形态，如微平台的LOGO、设计风格、页面大小、布局、色彩、文字、图片、图...</td>\n      <td>知识内容（如微知识资源数量丰富、种类齐全、内容完整、真实可靠、价值大、与需求目的密切相关）→...</td>\n      <td>使用与交互方式（使用与交互操作简便，难度较低，简单有效，能方便地进行信息利用和交流互动）→信...</td>\n      <td>与他人交流共享（如转发、分享、与他人交流、用户社区、好友共享）→人机交互（如在线咨询、人工应...</td>\n      <td>希望图书馆微知识服务系统是灵活自由便于操作的→希望体验图书馆微知识服务的过程是轻松快乐的→相...</td>\n      <td>希望自己的意愿能够在微平台上得到充分的表达、需求得到有效的满足、意见得到重视和及时反馈→希望...</td>\n      <td>243</td>\n    </tr>\n    <tr>\n      <th>1</th>\n      <td>2</td>\n      <td>2022/3/16 10:04:04</td>\n      <td>984秒</td>\n      <td>微信</td>\n      <td>NaN</td>\n      <td>222.178.202.82(重庆-重庆)</td>\n      <td>女</td>\n      <td>20-30岁</td>\n      <td>专业技术人员</td>\n      <td>硕士研究生</td>\n      <td>...</td>\n      <td>7</td>\n      <td>7</td>\n      <td>7</td>\n      <td>视觉（界面元素及呈现形态，如微平台的LOGO、设计风格、页面大小、布局、色彩、文字、图片、图...</td>\n      <td>知识内容（如微知识资源数量丰富、种类齐全、内容完整、真实可靠、价值大、与需求目的密切相关）→...</td>\n      <td>栏目设置（能直接体现出微服务平台的功能和作用，目录清晰明了）→使用与交互方式（使用与交互操作...</td>\n      <td>与他人交流共享（如转发、分享、与他人交流、用户社区、好友共享）→人机交互（如在线咨询、人工应...</td>\n      <td>希望图书馆微知识服务平台能够提供个性化服务→相信使用图书馆微知识服务对个人隐私是安全的→希望...</td>\n      <td>希望自己的意愿能够在微平台上得到充分的表达、需求得到有效的满足、意见得到重视和及时反馈→希望...</td>\n      <td>208</td>\n    </tr>\n    <tr>\n      <th>2</th>\n      <td>3</td>\n      <td>2022/3/16 16:25:57</td>\n      <td>364秒</td>\n      <td>微信</td>\n      <td>NaN</td>\n      <td>117.136.105.148(河南-安阳)</td>\n      <td>女</td>\n      <td>20-30岁</td>\n      <td>学生</td>\n      <td>硕士研究生</td>\n      <td>...</td>\n      <td>8</td>\n      <td>5</td>\n      <td>7</td>\n      <td>视觉（界面元素及呈现形态，如微平台的LOGO、设计风格、页面大小、布局、色彩、文字、图片、图...</td>\n      <td>知识内容（如微知识资源数量丰富、种类齐全、内容完整、真实可靠、价值大、与需求目的密切相关）→...</td>\n      <td>信息的展现形式（信息能以方便理解、易于辨识的方式展现出来，并能与多种终端设备兼容）→使用与交...</td>\n      <td>人机交互（如在线咨询、人工应答、帮助中心、会员服务、评论反馈）→与他人交流共享（如转发、分享...</td>\n      <td>相信使用图书馆微知识服务对个人隐私是安全的→希望图书馆微知识服务系统是灵活自由便于操作的→希...</td>\n      <td>希望自己的意愿能够在微平台上得到充分的表达、需求得到有效的满足、意见得到重视和及时反馈→希望...</td>\n      <td>207</td>\n    </tr>\n    <tr>\n      <th>3</th>\n      <td>4</td>\n      <td>2022/3/22 17:22:41</td>\n      <td>304秒</td>\n      <td>微信</td>\n      <td>NaN</td>\n      <td>106.84.183.60(重庆-重庆)</td>\n      <td>男</td>\n      <td>41-50岁</td>\n      <td>行政管理人员</td>\n      <td>本科生</td>\n      <td>...</td>\n      <td>7</td>\n      <td>7</td>\n      <td>7</td>\n      <td>视觉（界面元素及呈现形态，如微平台的LOGO、设计风格、页面大小、布局、色彩、文字、图片、图...</td>\n      <td>平台功能（如平台提供用户查询、搜索、利用等多种引导信息和功能）→知识内容（如微知识资源数量丰...</td>\n      <td>使用与交互方式（使用与交互操作简便，难度较低，简单有效，能方便地进行信息利用和交流互动）→栏...</td>\n      <td>人机交互（如在线咨询、人工应答、帮助中心、会员服务、评论反馈）→与他人交流共享（如转发、分享...</td>\n      <td>希望图书馆微知识服务系统是灵活自由便于操作的→希望体验图书馆微知识服务的过程是轻松快乐的→希...</td>\n      <td>希望自己的意愿能够在微平台上得到充分的表达、需求得到有效的满足、意见得到重视和及时反馈→希望...</td>\n      <td>191</td>\n    </tr>\n    <tr>\n      <th>4</th>\n      <td>5</td>\n      <td>2022/3/22 17:31:56</td>\n      <td>89秒</td>\n      <td>微信</td>\n      <td>NaN</td>\n      <td>39.144.218.69(重庆-重庆)</td>\n      <td>女</td>\n      <td>20岁以下</td>\n      <td>学生</td>\n      <td>本科生</td>\n      <td>...</td>\n      <td>7</td>\n      <td>7</td>\n      <td>8</td>\n      <td>视觉（界面元素及呈现形态，如微平台的LOGO、设计风格、页面大小、布局、色彩、文字、图片、图...</td>\n      <td>知识内容（如微知识资源数量丰富、种类齐全、内容完整、真实可靠、价值大、与需求目的密切相关）→...</td>\n      <td>使用与交互方式（使用与交互操作简便，难度较低，简单有效，能方便地进行信息利用和交流互动）→栏...</td>\n      <td>人机交互（如在线咨询、人工应答、帮助中心、会员服务、评论反馈）→与他人交流共享（如转发、分享...</td>\n      <td>希望图书馆微知识服务平台能够提供个性化服务→希望图书馆微知识服务系统是灵活自由便于操作的→希...</td>\n      <td>希望通过转发、分享、点赞、评论、交流等得到他人的关注或认同，从而提高自己的存在感、融入感与成...</td>\n      <td>200</td>\n    </tr>\n    <tr>\n      <th>...</th>\n      <td>...</td>\n      <td>...</td>\n      <td>...</td>\n      <td>...</td>\n      <td>...</td>\n      <td>...</td>\n      <td>...</td>\n      <td>...</td>\n      <td>...</td>\n      <td>...</td>\n      <td>...</td>\n      <td>...</td>\n      <td>...</td>\n      <td>...</td>\n      <td>...</td>\n      <td>...</td>\n      <td>...</td>\n      <td>...</td>\n      <td>...</td>\n      <td>...</td>\n      <td>...</td>\n    </tr>\n    <tr>\n      <th>1593</th>\n      <td>1645</td>\n      <td>2022/3/28 11:24:53</td>\n      <td>253秒</td>\n      <td>微信</td>\n      <td>NaN</td>\n      <td>140.250.147.193(山东-济南)</td>\n      <td>女</td>\n      <td>20-30岁</td>\n      <td>学生</td>\n      <td>博士研究生</td>\n      <td>...</td>\n      <td>6</td>\n      <td>7</td>\n      <td>7</td>\n      <td>视觉（界面元素及呈现形态，如微平台的LOGO、设计风格、页面大小、布局、色彩、文字、图片、图...</td>\n      <td>知识内容（如微知识资源数量丰富、种类齐全、内容完整、真实可靠、价值大、与需求目的密切相关）→...</td>\n      <td>网络链接稳定性（网络链接快速且稳定）→更新和推送频率（提供的信息量适度、频率适中，发布的时间...</td>\n      <td>人机交互（如在线咨询、人工应答、帮助中心、会员服务、评论反馈）→与他人交流共享（如转发、分享...</td>\n      <td>(跳过)</td>\n      <td>希望自己的意愿能够在微平台上得到充分的表达、需求得到有效的满足、意见得到重视和及时反馈→希望...</td>\n      <td>211</td>\n    </tr>\n    <tr>\n      <th>1594</th>\n      <td>1646</td>\n      <td>2022/3/28 11:24:59</td>\n      <td>321秒</td>\n      <td>微信</td>\n      <td>NaN</td>\n      <td>180.114.151.13(江苏-无锡)</td>\n      <td>男</td>\n      <td>20-30岁</td>\n      <td>学生</td>\n      <td>博士研究生</td>\n      <td>...</td>\n      <td>8</td>\n      <td>4</td>\n      <td>8</td>\n      <td>视觉（界面元素及呈现形态，如微平台的LOGO、设计风格、页面大小、布局、色彩、文字、图片、图...</td>\n      <td>知识内容（如微知识资源数量丰富、种类齐全、内容完整、真实可靠、价值大、与需求目的密切相关）→...</td>\n      <td>栏目设置（能直接体现出微服务平台的功能和作用，目录清晰明了）→网络链接稳定性（网络链接快速且...</td>\n      <td>人机交互（如在线咨询、人工应答、帮助中心、会员服务、评论反馈）→与他人交流共享（如转发、分享...</td>\n      <td>(跳过)</td>\n      <td>希望在参与服务或活动过程中发挥自己的潜能和价值，进而满足自我价值实现的需求→希望通过转发、分...</td>\n      <td>191</td>\n    </tr>\n    <tr>\n      <th>1595</th>\n      <td>1647</td>\n      <td>2022/3/28 11:25:06</td>\n      <td>251秒</td>\n      <td>微信</td>\n      <td>NaN</td>\n      <td>218.93.63.141(江苏-常州)</td>\n      <td>女</td>\n      <td>20-30岁</td>\n      <td>学生</td>\n      <td>硕士研究生</td>\n      <td>...</td>\n      <td>9</td>\n      <td>7</td>\n      <td>7</td>\n      <td>视觉（界面元素及呈现形态，如微平台的LOGO、设计风格、页面大小、布局、色彩、文字、图片、图...</td>\n      <td>知识内容（如微知识资源数量丰富、种类齐全、内容完整、真实可靠、价值大、与需求目的密切相关）→...</td>\n      <td>网络链接稳定性（网络链接快速且稳定）→更新和推送频率（提供的信息量适度、频率适中，发布的时间...</td>\n      <td>人机交互（如在线咨询、人工应答、帮助中心、会员服务、评论反馈）→与他人交流共享（如转发、分享...</td>\n      <td>(跳过)</td>\n      <td>希望自己的意愿能够在微平台上得到充分的表达、需求得到有效的满足、意见得到重视和及时反馈→希望...</td>\n      <td>193</td>\n    </tr>\n    <tr>\n      <th>1596</th>\n      <td>1648</td>\n      <td>2022/3/28 11:25:17</td>\n      <td>302秒</td>\n      <td>微信</td>\n      <td>NaN</td>\n      <td>123.96.30.25(浙江-舟山)</td>\n      <td>女</td>\n      <td>20-30岁</td>\n      <td>学生</td>\n      <td>博士研究生</td>\n      <td>...</td>\n      <td>8</td>\n      <td>9</td>\n      <td>8</td>\n      <td>视觉（界面元素及呈现形态，如微平台的LOGO、设计风格、页面大小、布局、色彩、文字、图片、图...</td>\n      <td>知识内容（如微知识资源数量丰富、种类齐全、内容完整、真实可靠、价值大、与需求目的密切相关）→...</td>\n      <td>网络链接稳定性（网络链接快速且稳定）→更新和推送频率（提供的信息量适度、频率适中，发布的时间...</td>\n      <td>人机交互（如在线咨询、人工应答、帮助中心、会员服务、评论反馈）→与他人交流共享（如转发、分享...</td>\n      <td>(跳过)</td>\n      <td>希望自己的意愿能够在微平台上得到充分的表达、需求得到有效的满足、意见得到重视和及时反馈→希望...</td>\n      <td>196</td>\n    </tr>\n    <tr>\n      <th>1597</th>\n      <td>1649</td>\n      <td>2022/3/29 16:09:42</td>\n      <td>125秒</td>\n      <td>微信</td>\n      <td>NaN</td>\n      <td>125.84.249.199(重庆-重庆)</td>\n      <td>男</td>\n      <td>20-30岁</td>\n      <td>学生</td>\n      <td>本科生</td>\n      <td>...</td>\n      <td>非常重要</td>\n      <td>非常重要</td>\n      <td>非常重要</td>\n      <td>视觉（界面元素及呈现形态，如微平台的LOGO、设计风格、页面大小、布局、色彩、文字、图片、图...</td>\n      <td>知识内容（如微知识资源数量丰富、种类齐全、内容完整、真实可靠、价值大、与需求目的密切相关）→...</td>\n      <td>栏目设置（能直接体现出微服务平台的功能和作用，目录清晰明了）→使用与交互方式（使用与交互操作...</td>\n      <td>与他人交流共享（如转发、分享、与他人交流、用户社区、好友共享）→人机交互（如在线咨询、人工应...</td>\n      <td>希望体验图书馆微知识服务的过程是轻松快乐的→希望图书馆微知识服务系统是灵活自由便于操作的→相...</td>\n      <td>希望自己的意愿能够在微平台上得到充分的表达、需求得到有效的满足、意见得到重视和及时反馈→希望...</td>\n      <td>281</td>\n    </tr>\n  </tbody>\n</table>\n<p>1598 rows × 64 columns</p>\n</div>"
     },
     "execution_count": 263,
     "metadata": {},
     "output_type": "execute_result"
    }
   ],
   "source": [
    "data_all=pd.read_excel(\"./data/高校图书馆微知识服务用户调查问卷数据（初步筛选后）.xlsx\")\n",
    "data_all"
   ],
   "metadata": {
    "collapsed": false,
    "pycharm": {
     "name": "#%%\n"
    }
   }
  },
  {
   "cell_type": "code",
   "execution_count": 264,
   "outputs": [
    {
     "data": {
      "text/plain": "1       1\n2       4\n3       4\n4       4\n5       4\n       ..\n1594    2\n1595    2\n1596    2\n1597    2\n1598    1\nName: Unnamed: 1, Length: 1598, dtype: object"
     },
     "execution_count": 264,
     "metadata": {},
     "output_type": "execute_result"
    }
   ],
   "source": [
    "df_class[\"Unnamed: 1\"][1:]"
   ],
   "metadata": {
    "collapsed": false,
    "pycharm": {
     "name": "#%%\n"
    }
   }
  },
  {
   "cell_type": "code",
   "execution_count": 265,
   "outputs": [
    {
     "data": {
      "text/plain": "   序号              提交答卷时间  所用时间  来源 来源详情                    来自IP 1、您的性别是：  \\\n0   1   2022/3/16 9:54:42  354秒  微信  NaN    106.17.228.95(湖南-长沙)        女   \n1   2  2022/3/16 10:04:04  984秒  微信  NaN   222.178.202.82(重庆-重庆)        女   \n2   3  2022/3/16 16:25:57  364秒  微信  NaN  117.136.105.148(河南-安阳)        女   \n3   4  2022/3/22 17:22:41  304秒  微信  NaN    106.84.183.60(重庆-重庆)        男   \n4   5  2022/3/22 17:31:56   89秒  微信  NaN    39.144.218.69(重庆-重庆)        女   \n\n  2、您的年龄是： 3、您在学校里的身份是： 4、您的受教育程度是：  ...  \\\n0   20-30岁           学生       硕士研究生  ...   \n1   20-30岁       专业技术人员       硕士研究生  ...   \n2   20-30岁           学生       硕士研究生  ...   \n3   41-50岁       行政管理人员         本科生  ...   \n4    20岁以下           学生         本科生  ...   \n\n  24、情感交互（指在使用图书馆微知识服务过程中产生的情感体验，主要体现在服务方式的人机交互和与他人的交流共享两个方面的需求）  \\\n0                                               非常重要               \n1                                                  7               \n2                                                  5               \n3                                                  7               \n4                                                  7               \n\n  25、自我实现（指在使用图书馆微知识服务中对自我意愿、感受、价值实现方面的评价和需求）  \\\n0                                        非常重要   \n1                                           7   \n2                                           7   \n3                                           7   \n4                                           8   \n\n                26、在“感官体验”方面，请根据您的实际情况将以下需求按重要程度进行排序  \\\n0  视觉（界面元素及呈现形态，如微平台的LOGO、设计风格、页面大小、布局、色彩、文字、图片、图...   \n1  视觉（界面元素及呈现形态，如微平台的LOGO、设计风格、页面大小、布局、色彩、文字、图片、图...   \n2  视觉（界面元素及呈现形态，如微平台的LOGO、设计风格、页面大小、布局、色彩、文字、图片、图...   \n3  视觉（界面元素及呈现形态，如微平台的LOGO、设计风格、页面大小、布局、色彩、文字、图片、图...   \n4  视觉（界面元素及呈现形态，如微平台的LOGO、设计风格、页面大小、布局、色彩、文字、图片、图...   \n\n                27、在“信息利用”方面，请根据您的实际情况将以下需求按重要程度进行排序  \\\n0  知识内容（如微知识资源数量丰富、种类齐全、内容完整、真实可靠、价值大、与需求目的密切相关）→...   \n1  知识内容（如微知识资源数量丰富、种类齐全、内容完整、真实可靠、价值大、与需求目的密切相关）→...   \n2  知识内容（如微知识资源数量丰富、种类齐全、内容完整、真实可靠、价值大、与需求目的密切相关）→...   \n3  平台功能（如平台提供用户查询、搜索、利用等多种引导信息和功能）→知识内容（如微知识资源数量丰...   \n4  知识内容（如微知识资源数量丰富、种类齐全、内容完整、真实可靠、价值大、与需求目的密切相关）→...   \n\n                28、在“技术体验”方面，请根据您的实际情况将以下需求按重要程度进行排序  \\\n0  使用与交互方式（使用与交互操作简便，难度较低，简单有效，能方便地进行信息利用和交流互动）→信...   \n1  栏目设置（能直接体现出微服务平台的功能和作用，目录清晰明了）→使用与交互方式（使用与交互操作...   \n2  信息的展现形式（信息能以方便理解、易于辨识的方式展现出来，并能与多种终端设备兼容）→使用与交...   \n3  使用与交互方式（使用与交互操作简便，难度较低，简单有效，能方便地进行信息利用和交流互动）→栏...   \n4  使用与交互方式（使用与交互操作简便，难度较低，简单有效，能方便地进行信息利用和交流互动）→栏...   \n\n                29、在“情感交互”方面，请根据您的实际情况将以下需求按重要程度进行排序  \\\n0  与他人交流共享（如转发、分享、与他人交流、用户社区、好友共享）→人机交互（如在线咨询、人工应...   \n1  与他人交流共享（如转发、分享、与他人交流、用户社区、好友共享）→人机交互（如在线咨询、人工应...   \n2  人机交互（如在线咨询、人工应答、帮助中心、会员服务、评论反馈）→与他人交流共享（如转发、分享...   \n3  人机交互（如在线咨询、人工应答、帮助中心、会员服务、评论反馈）→与他人交流共享（如转发、分享...   \n4  人机交互（如在线咨询、人工应答、帮助中心、会员服务、评论反馈）→与他人交流共享（如转发、分享...   \n\n      30、在与图书馆微知识服务平台交互过程中，请根据您的实际情况将以下情感需求按重要程度进行排序  \\\n0  希望图书馆微知识服务系统是灵活自由便于操作的→希望体验图书馆微知识服务的过程是轻松快乐的→相...   \n1  希望图书馆微知识服务平台能够提供个性化服务→相信使用图书馆微知识服务对个人隐私是安全的→希望...   \n2  相信使用图书馆微知识服务对个人隐私是安全的→希望图书馆微知识服务系统是灵活自由便于操作的→希...   \n3  希望图书馆微知识服务系统是灵活自由便于操作的→希望体验图书馆微知识服务的过程是轻松快乐的→希...   \n4  希望图书馆微知识服务平台能够提供个性化服务→希望图书馆微知识服务系统是灵活自由便于操作的→希...   \n\n                31、在“自我实现”方面，请根据您的实际情况将以下需求按重要程度进行排序   总分 用户分类  \n0  希望自己的意愿能够在微平台上得到充分的表达、需求得到有效的满足、意见得到重视和及时反馈→希望...  243    1  \n1  希望自己的意愿能够在微平台上得到充分的表达、需求得到有效的满足、意见得到重视和及时反馈→希望...  208    4  \n2  希望自己的意愿能够在微平台上得到充分的表达、需求得到有效的满足、意见得到重视和及时反馈→希望...  207    4  \n3  希望自己的意愿能够在微平台上得到充分的表达、需求得到有效的满足、意见得到重视和及时反馈→希望...  191    4  \n4  希望通过转发、分享、点赞、评论、交流等得到他人的关注或认同，从而提高自己的存在感、融入感与成...  200    4  \n\n[5 rows x 65 columns]",
      "text/html": "<div>\n<style scoped>\n    .dataframe tbody tr th:only-of-type {\n        vertical-align: middle;\n    }\n\n    .dataframe tbody tr th {\n        vertical-align: top;\n    }\n\n    .dataframe thead th {\n        text-align: right;\n    }\n</style>\n<table border=\"1\" class=\"dataframe\">\n  <thead>\n    <tr style=\"text-align: right;\">\n      <th></th>\n      <th>序号</th>\n      <th>提交答卷时间</th>\n      <th>所用时间</th>\n      <th>来源</th>\n      <th>来源详情</th>\n      <th>来自IP</th>\n      <th>1、您的性别是：</th>\n      <th>2、您的年龄是：</th>\n      <th>3、您在学校里的身份是：</th>\n      <th>4、您的受教育程度是：</th>\n      <th>...</th>\n      <th>24、情感交互（指在使用图书馆微知识服务过程中产生的情感体验，主要体现在服务方式的人机交互和与他人的交流共享两个方面的需求）</th>\n      <th>25、自我实现（指在使用图书馆微知识服务中对自我意愿、感受、价值实现方面的评价和需求）</th>\n      <th>26、在“感官体验”方面，请根据您的实际情况将以下需求按重要程度进行排序</th>\n      <th>27、在“信息利用”方面，请根据您的实际情况将以下需求按重要程度进行排序</th>\n      <th>28、在“技术体验”方面，请根据您的实际情况将以下需求按重要程度进行排序</th>\n      <th>29、在“情感交互”方面，请根据您的实际情况将以下需求按重要程度进行排序</th>\n      <th>30、在与图书馆微知识服务平台交互过程中，请根据您的实际情况将以下情感需求按重要程度进行排序</th>\n      <th>31、在“自我实现”方面，请根据您的实际情况将以下需求按重要程度进行排序</th>\n      <th>总分</th>\n      <th>用户分类</th>\n    </tr>\n  </thead>\n  <tbody>\n    <tr>\n      <th>0</th>\n      <td>1</td>\n      <td>2022/3/16 9:54:42</td>\n      <td>354秒</td>\n      <td>微信</td>\n      <td>NaN</td>\n      <td>106.17.228.95(湖南-长沙)</td>\n      <td>女</td>\n      <td>20-30岁</td>\n      <td>学生</td>\n      <td>硕士研究生</td>\n      <td>...</td>\n      <td>非常重要</td>\n      <td>非常重要</td>\n      <td>视觉（界面元素及呈现形态，如微平台的LOGO、设计风格、页面大小、布局、色彩、文字、图片、图...</td>\n      <td>知识内容（如微知识资源数量丰富、种类齐全、内容完整、真实可靠、价值大、与需求目的密切相关）→...</td>\n      <td>使用与交互方式（使用与交互操作简便，难度较低，简单有效，能方便地进行信息利用和交流互动）→信...</td>\n      <td>与他人交流共享（如转发、分享、与他人交流、用户社区、好友共享）→人机交互（如在线咨询、人工应...</td>\n      <td>希望图书馆微知识服务系统是灵活自由便于操作的→希望体验图书馆微知识服务的过程是轻松快乐的→相...</td>\n      <td>希望自己的意愿能够在微平台上得到充分的表达、需求得到有效的满足、意见得到重视和及时反馈→希望...</td>\n      <td>243</td>\n      <td>1</td>\n    </tr>\n    <tr>\n      <th>1</th>\n      <td>2</td>\n      <td>2022/3/16 10:04:04</td>\n      <td>984秒</td>\n      <td>微信</td>\n      <td>NaN</td>\n      <td>222.178.202.82(重庆-重庆)</td>\n      <td>女</td>\n      <td>20-30岁</td>\n      <td>专业技术人员</td>\n      <td>硕士研究生</td>\n      <td>...</td>\n      <td>7</td>\n      <td>7</td>\n      <td>视觉（界面元素及呈现形态，如微平台的LOGO、设计风格、页面大小、布局、色彩、文字、图片、图...</td>\n      <td>知识内容（如微知识资源数量丰富、种类齐全、内容完整、真实可靠、价值大、与需求目的密切相关）→...</td>\n      <td>栏目设置（能直接体现出微服务平台的功能和作用，目录清晰明了）→使用与交互方式（使用与交互操作...</td>\n      <td>与他人交流共享（如转发、分享、与他人交流、用户社区、好友共享）→人机交互（如在线咨询、人工应...</td>\n      <td>希望图书馆微知识服务平台能够提供个性化服务→相信使用图书馆微知识服务对个人隐私是安全的→希望...</td>\n      <td>希望自己的意愿能够在微平台上得到充分的表达、需求得到有效的满足、意见得到重视和及时反馈→希望...</td>\n      <td>208</td>\n      <td>4</td>\n    </tr>\n    <tr>\n      <th>2</th>\n      <td>3</td>\n      <td>2022/3/16 16:25:57</td>\n      <td>364秒</td>\n      <td>微信</td>\n      <td>NaN</td>\n      <td>117.136.105.148(河南-安阳)</td>\n      <td>女</td>\n      <td>20-30岁</td>\n      <td>学生</td>\n      <td>硕士研究生</td>\n      <td>...</td>\n      <td>5</td>\n      <td>7</td>\n      <td>视觉（界面元素及呈现形态，如微平台的LOGO、设计风格、页面大小、布局、色彩、文字、图片、图...</td>\n      <td>知识内容（如微知识资源数量丰富、种类齐全、内容完整、真实可靠、价值大、与需求目的密切相关）→...</td>\n      <td>信息的展现形式（信息能以方便理解、易于辨识的方式展现出来，并能与多种终端设备兼容）→使用与交...</td>\n      <td>人机交互（如在线咨询、人工应答、帮助中心、会员服务、评论反馈）→与他人交流共享（如转发、分享...</td>\n      <td>相信使用图书馆微知识服务对个人隐私是安全的→希望图书馆微知识服务系统是灵活自由便于操作的→希...</td>\n      <td>希望自己的意愿能够在微平台上得到充分的表达、需求得到有效的满足、意见得到重视和及时反馈→希望...</td>\n      <td>207</td>\n      <td>4</td>\n    </tr>\n    <tr>\n      <th>3</th>\n      <td>4</td>\n      <td>2022/3/22 17:22:41</td>\n      <td>304秒</td>\n      <td>微信</td>\n      <td>NaN</td>\n      <td>106.84.183.60(重庆-重庆)</td>\n      <td>男</td>\n      <td>41-50岁</td>\n      <td>行政管理人员</td>\n      <td>本科生</td>\n      <td>...</td>\n      <td>7</td>\n      <td>7</td>\n      <td>视觉（界面元素及呈现形态，如微平台的LOGO、设计风格、页面大小、布局、色彩、文字、图片、图...</td>\n      <td>平台功能（如平台提供用户查询、搜索、利用等多种引导信息和功能）→知识内容（如微知识资源数量丰...</td>\n      <td>使用与交互方式（使用与交互操作简便，难度较低，简单有效，能方便地进行信息利用和交流互动）→栏...</td>\n      <td>人机交互（如在线咨询、人工应答、帮助中心、会员服务、评论反馈）→与他人交流共享（如转发、分享...</td>\n      <td>希望图书馆微知识服务系统是灵活自由便于操作的→希望体验图书馆微知识服务的过程是轻松快乐的→希...</td>\n      <td>希望自己的意愿能够在微平台上得到充分的表达、需求得到有效的满足、意见得到重视和及时反馈→希望...</td>\n      <td>191</td>\n      <td>4</td>\n    </tr>\n    <tr>\n      <th>4</th>\n      <td>5</td>\n      <td>2022/3/22 17:31:56</td>\n      <td>89秒</td>\n      <td>微信</td>\n      <td>NaN</td>\n      <td>39.144.218.69(重庆-重庆)</td>\n      <td>女</td>\n      <td>20岁以下</td>\n      <td>学生</td>\n      <td>本科生</td>\n      <td>...</td>\n      <td>7</td>\n      <td>8</td>\n      <td>视觉（界面元素及呈现形态，如微平台的LOGO、设计风格、页面大小、布局、色彩、文字、图片、图...</td>\n      <td>知识内容（如微知识资源数量丰富、种类齐全、内容完整、真实可靠、价值大、与需求目的密切相关）→...</td>\n      <td>使用与交互方式（使用与交互操作简便，难度较低，简单有效，能方便地进行信息利用和交流互动）→栏...</td>\n      <td>人机交互（如在线咨询、人工应答、帮助中心、会员服务、评论反馈）→与他人交流共享（如转发、分享...</td>\n      <td>希望图书馆微知识服务平台能够提供个性化服务→希望图书馆微知识服务系统是灵活自由便于操作的→希...</td>\n      <td>希望通过转发、分享、点赞、评论、交流等得到他人的关注或认同，从而提高自己的存在感、融入感与成...</td>\n      <td>200</td>\n      <td>4</td>\n    </tr>\n  </tbody>\n</table>\n<p>5 rows × 65 columns</p>\n</div>"
     },
     "execution_count": 265,
     "metadata": {},
     "output_type": "execute_result"
    }
   ],
   "source": [
    "data_all[\"用户分类\"]=df_class[\"Unnamed: 1\"][1:].values\n",
    "data_all.head()"
   ],
   "metadata": {
    "collapsed": false,
    "pycharm": {
     "name": "#%%\n"
    }
   }
  },
  {
   "cell_type": "code",
   "execution_count": 266,
   "outputs": [
    {
     "data": {
      "text/plain": "  1、您的性别是： 2、您的年龄是： 4、您的受教育程度是：                                5、您的专业类型是： 用户分类\n0        女   20-30岁       硕士研究生  社会科学类(包括政治学、经济法、法学、社会学、人类学、教育学、体育学、管理学等)    1\n1        女   20-30岁       硕士研究生  社会科学类(包括政治学、经济法、法学、社会学、人类学、教育学、体育学、管理学等)    4\n2        女   20-30岁       硕士研究生  社会科学类(包括政治学、经济法、法学、社会学、人类学、教育学、体育学、管理学等)    4\n3        男   41-50岁         本科生   自然科学类(包括数学、物理、化学、天文学、地学、生物学、气象学、医学、农学等)    4\n4        女    20岁以下         本科生     人文科学类(包括哲学、伦理学、宗教学、语言学、文学、艺术、美学、历史学等)    4",
      "text/html": "<div>\n<style scoped>\n    .dataframe tbody tr th:only-of-type {\n        vertical-align: middle;\n    }\n\n    .dataframe tbody tr th {\n        vertical-align: top;\n    }\n\n    .dataframe thead th {\n        text-align: right;\n    }\n</style>\n<table border=\"1\" class=\"dataframe\">\n  <thead>\n    <tr style=\"text-align: right;\">\n      <th></th>\n      <th>1、您的性别是：</th>\n      <th>2、您的年龄是：</th>\n      <th>4、您的受教育程度是：</th>\n      <th>5、您的专业类型是：</th>\n      <th>用户分类</th>\n    </tr>\n  </thead>\n  <tbody>\n    <tr>\n      <th>0</th>\n      <td>女</td>\n      <td>20-30岁</td>\n      <td>硕士研究生</td>\n      <td>社会科学类(包括政治学、经济法、法学、社会学、人类学、教育学、体育学、管理学等)</td>\n      <td>1</td>\n    </tr>\n    <tr>\n      <th>1</th>\n      <td>女</td>\n      <td>20-30岁</td>\n      <td>硕士研究生</td>\n      <td>社会科学类(包括政治学、经济法、法学、社会学、人类学、教育学、体育学、管理学等)</td>\n      <td>4</td>\n    </tr>\n    <tr>\n      <th>2</th>\n      <td>女</td>\n      <td>20-30岁</td>\n      <td>硕士研究生</td>\n      <td>社会科学类(包括政治学、经济法、法学、社会学、人类学、教育学、体育学、管理学等)</td>\n      <td>4</td>\n    </tr>\n    <tr>\n      <th>3</th>\n      <td>男</td>\n      <td>41-50岁</td>\n      <td>本科生</td>\n      <td>自然科学类(包括数学、物理、化学、天文学、地学、生物学、气象学、医学、农学等)</td>\n      <td>4</td>\n    </tr>\n    <tr>\n      <th>4</th>\n      <td>女</td>\n      <td>20岁以下</td>\n      <td>本科生</td>\n      <td>人文科学类(包括哲学、伦理学、宗教学、语言学、文学、艺术、美学、历史学等)</td>\n      <td>4</td>\n    </tr>\n  </tbody>\n</table>\n</div>"
     },
     "execution_count": 266,
     "metadata": {},
     "output_type": "execute_result"
    }
   ],
   "source": [
    "data_all=data_all.iloc[:,[6,7,9,10,64]]\n",
    "data_all.head()"
   ],
   "metadata": {
    "collapsed": false,
    "pycharm": {
     "name": "#%%\n"
    }
   }
  },
  {
   "cell_type": "code",
   "execution_count": 267,
   "outputs": [],
   "source": [
    "from sklearn.preprocessing import OneHotEncoder,LabelEncoder\n",
    "ohe=OneHotEncoder()\n",
    "le=LabelEncoder()"
   ],
   "metadata": {
    "collapsed": false,
    "pycharm": {
     "name": "#%%\n"
    }
   }
  },
  {
   "cell_type": "code",
   "execution_count": 268,
   "outputs": [
    {
     "data": {
      "text/plain": "  1、您的性别是：  2、您的年龄是：  4、您的受教育程度是：                                5、您的专业类型是：  \\\n0        女         0            2  社会科学类(包括政治学、经济法、法学、社会学、人类学、教育学、体育学、管理学等)   \n1        女         0            2  社会科学类(包括政治学、经济法、法学、社会学、人类学、教育学、体育学、管理学等)   \n2        女         0            2  社会科学类(包括政治学、经济法、法学、社会学、人类学、教育学、体育学、管理学等)   \n3        男         3            1   自然科学类(包括数学、物理、化学、天文学、地学、生物学、气象学、医学、农学等)   \n4        女         1            1     人文科学类(包括哲学、伦理学、宗教学、语言学、文学、艺术、美学、历史学等)   \n\n  用户分类  \n0    1  \n1    4  \n2    4  \n3    4  \n4    4  ",
      "text/html": "<div>\n<style scoped>\n    .dataframe tbody tr th:only-of-type {\n        vertical-align: middle;\n    }\n\n    .dataframe tbody tr th {\n        vertical-align: top;\n    }\n\n    .dataframe thead th {\n        text-align: right;\n    }\n</style>\n<table border=\"1\" class=\"dataframe\">\n  <thead>\n    <tr style=\"text-align: right;\">\n      <th></th>\n      <th>1、您的性别是：</th>\n      <th>2、您的年龄是：</th>\n      <th>4、您的受教育程度是：</th>\n      <th>5、您的专业类型是：</th>\n      <th>用户分类</th>\n    </tr>\n  </thead>\n  <tbody>\n    <tr>\n      <th>0</th>\n      <td>女</td>\n      <td>0</td>\n      <td>2</td>\n      <td>社会科学类(包括政治学、经济法、法学、社会学、人类学、教育学、体育学、管理学等)</td>\n      <td>1</td>\n    </tr>\n    <tr>\n      <th>1</th>\n      <td>女</td>\n      <td>0</td>\n      <td>2</td>\n      <td>社会科学类(包括政治学、经济法、法学、社会学、人类学、教育学、体育学、管理学等)</td>\n      <td>4</td>\n    </tr>\n    <tr>\n      <th>2</th>\n      <td>女</td>\n      <td>0</td>\n      <td>2</td>\n      <td>社会科学类(包括政治学、经济法、法学、社会学、人类学、教育学、体育学、管理学等)</td>\n      <td>4</td>\n    </tr>\n    <tr>\n      <th>3</th>\n      <td>男</td>\n      <td>3</td>\n      <td>1</td>\n      <td>自然科学类(包括数学、物理、化学、天文学、地学、生物学、气象学、医学、农学等)</td>\n      <td>4</td>\n    </tr>\n    <tr>\n      <th>4</th>\n      <td>女</td>\n      <td>1</td>\n      <td>1</td>\n      <td>人文科学类(包括哲学、伦理学、宗教学、语言学、文学、艺术、美学、历史学等)</td>\n      <td>4</td>\n    </tr>\n  </tbody>\n</table>\n</div>"
     },
     "execution_count": 268,
     "metadata": {},
     "output_type": "execute_result"
    }
   ],
   "source": [
    "data_all[\"2、您的年龄是：\"]=le.fit_transform(data_all[\"2、您的年龄是：\"])\n",
    "data_all[\"4、您的受教育程度是：\"]=le.fit_transform(data_all[\"4、您的受教育程度是：\"])\n",
    "data_all.head()"
   ],
   "metadata": {
    "collapsed": false,
    "pycharm": {
     "name": "#%%\n"
    }
   }
  },
  {
   "cell_type": "code",
   "execution_count": 276,
   "outputs": [
    {
     "data": {
      "text/plain": "  1、您的性别是：  2、您的年龄是：  4、您的受教育程度是：                                5、您的专业类型是：  \\\n0        女         0            2  社会科学类(包括政治学、经济法、法学、社会学、人类学、教育学、体育学、管理学等)   \n1        女         0            2  社会科学类(包括政治学、经济法、法学、社会学、人类学、教育学、体育学、管理学等)   \n2        女         0            2  社会科学类(包括政治学、经济法、法学、社会学、人类学、教育学、体育学、管理学等)   \n3        男         3            1   自然科学类(包括数学、物理、化学、天文学、地学、生物学、气象学、医学、农学等)   \n4        女         1            1     人文科学类(包括哲学、伦理学、宗教学、语言学、文学、艺术、美学、历史学等)   \n\n  用户分类   女性  \n0    1  1.0  \n1    4  1.0  \n2    4  1.0  \n3    4  0.0  \n4    4  1.0  ",
      "text/html": "<div>\n<style scoped>\n    .dataframe tbody tr th:only-of-type {\n        vertical-align: middle;\n    }\n\n    .dataframe tbody tr th {\n        vertical-align: top;\n    }\n\n    .dataframe thead th {\n        text-align: right;\n    }\n</style>\n<table border=\"1\" class=\"dataframe\">\n  <thead>\n    <tr style=\"text-align: right;\">\n      <th></th>\n      <th>1、您的性别是：</th>\n      <th>2、您的年龄是：</th>\n      <th>4、您的受教育程度是：</th>\n      <th>5、您的专业类型是：</th>\n      <th>用户分类</th>\n      <th>女性</th>\n    </tr>\n  </thead>\n  <tbody>\n    <tr>\n      <th>0</th>\n      <td>女</td>\n      <td>0</td>\n      <td>2</td>\n      <td>社会科学类(包括政治学、经济法、法学、社会学、人类学、教育学、体育学、管理学等)</td>\n      <td>1</td>\n      <td>1.0</td>\n    </tr>\n    <tr>\n      <th>1</th>\n      <td>女</td>\n      <td>0</td>\n      <td>2</td>\n      <td>社会科学类(包括政治学、经济法、法学、社会学、人类学、教育学、体育学、管理学等)</td>\n      <td>4</td>\n      <td>1.0</td>\n    </tr>\n    <tr>\n      <th>2</th>\n      <td>女</td>\n      <td>0</td>\n      <td>2</td>\n      <td>社会科学类(包括政治学、经济法、法学、社会学、人类学、教育学、体育学、管理学等)</td>\n      <td>4</td>\n      <td>1.0</td>\n    </tr>\n    <tr>\n      <th>3</th>\n      <td>男</td>\n      <td>3</td>\n      <td>1</td>\n      <td>自然科学类(包括数学、物理、化学、天文学、地学、生物学、气象学、医学、农学等)</td>\n      <td>4</td>\n      <td>0.0</td>\n    </tr>\n    <tr>\n      <th>4</th>\n      <td>女</td>\n      <td>1</td>\n      <td>1</td>\n      <td>人文科学类(包括哲学、伦理学、宗教学、语言学、文学、艺术、美学、历史学等)</td>\n      <td>4</td>\n      <td>1.0</td>\n    </tr>\n  </tbody>\n</table>\n</div>"
     },
     "execution_count": 276,
     "metadata": {},
     "output_type": "execute_result"
    }
   ],
   "source": [
    "data_all[\"女性\"]=ohe.fit_transform(data_all[\"1、您的性别是：\"].values.reshape(-1,1)).toarray()[:,0]\n",
    "data_all.head()"
   ],
   "metadata": {
    "collapsed": false,
    "pycharm": {
     "name": "#%%\n"
    }
   }
  },
  {
   "cell_type": "code",
   "execution_count": 278,
   "outputs": [
    {
     "data": {
      "text/plain": "  用户分类  2、您的年龄是：  4、您的受教育程度是：   女性  社会学专业  自然科学专业\n0    1         0            2  1.0    1.0     0.0\n1    4         0            2  1.0    1.0     0.0\n2    4         0            2  1.0    1.0     0.0\n3    4         3            1  0.0    0.0     1.0\n4    4         1            1  1.0    0.0     0.0",
      "text/html": "<div>\n<style scoped>\n    .dataframe tbody tr th:only-of-type {\n        vertical-align: middle;\n    }\n\n    .dataframe tbody tr th {\n        vertical-align: top;\n    }\n\n    .dataframe thead th {\n        text-align: right;\n    }\n</style>\n<table border=\"1\" class=\"dataframe\">\n  <thead>\n    <tr style=\"text-align: right;\">\n      <th></th>\n      <th>用户分类</th>\n      <th>2、您的年龄是：</th>\n      <th>4、您的受教育程度是：</th>\n      <th>女性</th>\n      <th>社会学专业</th>\n      <th>自然科学专业</th>\n    </tr>\n  </thead>\n  <tbody>\n    <tr>\n      <th>0</th>\n      <td>1</td>\n      <td>0</td>\n      <td>2</td>\n      <td>1.0</td>\n      <td>1.0</td>\n      <td>0.0</td>\n    </tr>\n    <tr>\n      <th>1</th>\n      <td>4</td>\n      <td>0</td>\n      <td>2</td>\n      <td>1.0</td>\n      <td>1.0</td>\n      <td>0.0</td>\n    </tr>\n    <tr>\n      <th>2</th>\n      <td>4</td>\n      <td>0</td>\n      <td>2</td>\n      <td>1.0</td>\n      <td>1.0</td>\n      <td>0.0</td>\n    </tr>\n    <tr>\n      <th>3</th>\n      <td>4</td>\n      <td>3</td>\n      <td>1</td>\n      <td>0.0</td>\n      <td>0.0</td>\n      <td>1.0</td>\n    </tr>\n    <tr>\n      <th>4</th>\n      <td>4</td>\n      <td>1</td>\n      <td>1</td>\n      <td>1.0</td>\n      <td>0.0</td>\n      <td>0.0</td>\n    </tr>\n  </tbody>\n</table>\n</div>"
     },
     "execution_count": 278,
     "metadata": {},
     "output_type": "execute_result"
    }
   ],
   "source": [
    "data_all[\"社会学专业\"]=ohe.fit_transform(data_all[\"5、您的专业类型是：\"].values.reshape(-1,1)).toarray()[:,1]\n",
    "data_all[\"自然科学专业\"]=ohe.fit_transform(data_all[\"5、您的专业类型是：\"].values.reshape(-1,1)).toarray()[:,2]\n",
    "data_all=data_all[[\"用户分类\",\"2、您的年龄是：\",\"4、您的受教育程度是：\",\"女性\",\"社会学专业\",\"自然科学专业\"]]\n",
    "data_all.head()"
   ],
   "metadata": {
    "collapsed": false,
    "pycharm": {
     "name": "#%%\n"
    }
   }
  },
  {
   "cell_type": "code",
   "execution_count": 321,
   "outputs": [],
   "source": [
    "from statsmodels.miscmodels.ordinal_model import OrderedModel\n",
    "from statsmodels.api import add_constant\n",
    "from sklearn.linear_model import LogisticRegression\n",
    "y=np.array(data_all.用户分类).astype(int)\n",
    "X=data_all[[\"2、您的年龄是：\",\"4、您的受教育程度是：\",\"女性\",\"社会学专业\",\"自然科学专业\"]]\n",
    "X=np.array(X).astype(float)"
   ],
   "metadata": {
    "collapsed": false,
    "pycharm": {
     "name": "#%%\n"
    }
   }
  },
  {
   "cell_type": "code",
   "execution_count": 328,
   "outputs": [
    {
     "name": "stdout",
     "output_type": "stream",
     "text": [
      "Warning: Maximum number of iterations has been exceeded.\n",
      "                             OrderedModel Results                             \n",
      "==============================================================================\n",
      "Dep. Variable:                   用户分类   Log-Likelihood:                -2133.4\n",
      "Model:                   OrderedModel   AIC:                             4283.\n",
      "Method:            Maximum Likelihood   BIC:                             4326.\n",
      "Date:                Thu, 14 Apr 2022                                         \n",
      "Time:                        17:21:02                                         \n",
      "No. Observations:                1598                                         \n",
      "Df Residuals:                    1590                                         \n",
      "Df Model:                           8                                         \n",
      "==============================================================================\n",
      "                 coef    std err          z      P>|z|      [0.025      0.975]\n",
      "------------------------------------------------------------------------------\n",
      "年龄             0.0292      0.024      1.226      0.220      -0.017       0.076\n",
      "受教育程度          0.0169      0.034      0.501      0.617      -0.049       0.083\n",
      "女性             0.0607      0.054      1.116      0.264      -0.046       0.167\n",
      "社会学专业         -0.0167      0.063     -0.265      0.791      -0.141       0.107\n",
      "自然科学专业        -0.0169      0.073     -0.231      0.817      -0.160       0.126\n",
      "截距1           -0.9439      0.076    -12.477      0.000      -1.092      -0.796\n",
      "截距2            0.0103      0.037      0.279      0.781      -0.062       0.083\n",
      "截距3           -0.7007      0.053    -13.320      0.000      -0.804      -0.598\n",
      "==============================================================================\n"
     ]
    },
    {
     "name": "stderr",
     "output_type": "stream",
     "text": [
      "/Users/apple/opt/anaconda3/envs/DataAnalysis/lib/python3.10/site-packages/statsmodels/base/model.py:604: ConvergenceWarning: Maximum Likelihood optimization failed to converge. Check mle_retvals\n",
      "  warnings.warn(\"Maximum Likelihood optimization failed to \"\n"
     ]
    }
   ],
   "source": [
    "logit=OrderedModel(y,X).fit()\n",
    "pr=print(logit.summary(xname=[\"年龄\",\"受教育程度\",\"女性\",\"社会学专业\",\n",
    "                           \"自然科学专业\",\"截距1\",\"截距2\",\"截距3\"],yname=\"用户分类\"))"
   ],
   "metadata": {
    "collapsed": false,
    "pycharm": {
     "name": "#%%\n"
    }
   }
  },
  {
   "cell_type": "code",
   "execution_count": 332,
   "outputs": [],
   "source": [
    "data_all.head().to_excel(\"data/回归数据.xlsx\",index=False)"
   ],
   "metadata": {
    "collapsed": false,
    "pycharm": {
     "name": "#%%\n"
    }
   }
  },
  {
   "cell_type": "code",
   "execution_count": 314,
   "outputs": [],
   "source": [],
   "metadata": {
    "collapsed": false,
    "pycharm": {
     "name": "#%%\n"
    }
   }
  },
  {
   "cell_type": "code",
   "execution_count": null,
   "outputs": [],
   "source": [],
   "metadata": {
    "collapsed": false,
    "pycharm": {
     "name": "#%%\n"
    }
   }
  }
 ],
 "metadata": {
  "kernelspec": {
   "display_name": "Python 3",
   "language": "python",
   "name": "python3"
  },
  "language_info": {
   "codemirror_mode": {
    "name": "ipython",
    "version": 2
   },
   "file_extension": ".py",
   "mimetype": "text/x-python",
   "name": "python",
   "nbconvert_exporter": "python",
   "pygments_lexer": "ipython2",
   "version": "2.7.6"
  }
 },
 "nbformat": 4,
 "nbformat_minor": 0
}